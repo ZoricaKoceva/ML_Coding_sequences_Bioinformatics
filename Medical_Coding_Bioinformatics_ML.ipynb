{
  "nbformat": 4,
  "nbformat_minor": 0,
  "metadata": {
    "colab": {
      "name": "Medical_Coding_Bioinformatics-ML.ipynb",
      "provenance": [],
      "collapsed_sections": []
    },
    "kernelspec": {
      "name": "python3",
      "display_name": "Python 3"
    },
    "language_info": {
      "name": "python"
    },
    "accelerator": "GPU"
  },
  "cells": [
    {
      "cell_type": "markdown",
      "source": [
        " # ***Употреба на модели и машинско учење во биолошки секвенци кај Биоинформатиката***\n",
        "\n",
        "\n",
        "Медицинско кодирање и биоинформатичко запознавачко истражување\n",
        "\n",
        "***Зорица Коцева***\n",
        "\n",
        "🧬 🔎 ⚕  ~ Јануари, 2022 г. ~ 💻 💹 🧑\n",
        "\n"
      ],
      "metadata": {
        "id": "wV2WssvKj8Kw"
      }
    },
    {
      "cell_type": "code",
      "metadata": {
        "id": "xVUQmGBUCBsj"
      },
      "source": [
        "from google.colab import drive"
      ],
      "execution_count": null,
      "outputs": []
    },
    {
      "cell_type": "markdown",
      "metadata": {
        "id": "6VfWQts15hmC"
      },
      "source": [
        "\n",
        "\n",
        "> Инсталација на biopython за работа со библиотеки\n",
        "\n"
      ]
    },
    {
      "cell_type": "code",
      "metadata": {
        "colab": {
          "base_uri": "https://localhost:8080/"
        },
        "id": "PMMZrfA959Gg",
        "outputId": "76042ac5-a04f-4b65-a937-54346209117d"
      },
      "source": [
        "pip install biopython"
      ],
      "execution_count": null,
      "outputs": [
        {
          "output_type": "stream",
          "name": "stdout",
          "text": [
            "Collecting biopython\n",
            "  Downloading biopython-1.79-cp37-cp37m-manylinux_2_5_x86_64.manylinux1_x86_64.whl (2.3 MB)\n",
            "\u001b[K     |████████████████████████████████| 2.3 MB 5.4 MB/s \n",
            "\u001b[?25hRequirement already satisfied: numpy in /usr/local/lib/python3.7/dist-packages (from biopython) (1.19.5)\n",
            "Installing collected packages: biopython\n",
            "Successfully installed biopython-1.79\n"
          ]
        }
      ]
    },
    {
      "cell_type": "code",
      "source": [
        "import pandas as pd\n",
        "import numpy as np"
      ],
      "metadata": {
        "id": "L4d6pSv_JbbH"
      },
      "execution_count": null,
      "outputs": []
    },
    {
      "cell_type": "markdown",
      "metadata": {
        "id": "xL2v_weQ6dx5"
      },
      "source": [
        "\n",
        "\n",
        "> ***Примери за кодирање биолошки секвенци со примена на машинско учење***\n",
        "\n"
      ]
    },
    {
      "cell_type": "markdown",
      "metadata": {
        "id": "U2dLsBKm6pJN"
      },
      "source": [
        "## 1. Парсирање на FASTA и GenBank формати"
      ]
    },
    {
      "cell_type": "markdown",
      "source": [
        "FASTA\n",
        ">gi|2765656|emb|Z78531.1|CFZ78531 C.fasciculatum 5.8S rRNA gene and ITS1 and ITS2 DNA\n",
        "CGTAACAAGGTTTCCGTAGGTGAACCTGCGGAAGGATCATTGTTGAGACAGCAGAACATACGATCGAGTG\n",
        "AATCCGGAGGACCCGTGGTTACACGGCTCACCGTGGCTTTGCTCTCGTGGTGAACCCGGTTTGCGACCGG\n",
        "GCCGCCTCGGGAACTTTCATGGCGGGTTTGAACGTCTAGCGCGGCGCAGTTTGCGCCAAGTCATATGGAG\n",
        "CGTCACCGATGGATGGCATTTTTGTCAAGAAAAACTCGGAGGGGCGGCGTCTGTTGCGCGTGCCAATGAA\n",
        "TTTATGACGACTCTCGGCAACGGGATATCTGGCTCTTGCATCGATGAAGAACGCAGCGAAATGCGATAAG\n",
        "TGGTGTGAATTGCAGAATCCCGCGAACCATCGAGTCTTTGAACGCAAGTTGCGCCCGAGGCCATCAGGCT\n",
        "AAGGGCACGCCTGCCTGGGCGTCGTGTGCTGCGTCTCTCCTGATAATGCTTGATTGGCATGCGGCTAGTC\n",
        "TGTCATTGTGAGGACGTGAAAGATTGGCCCCTTGCGCCTAGGTGCGGCGGGTCTAAGCATCGGTGTTCTG\n",
        "ATGGCCCGGAACTTGGCAGTAGGTGGAGGATGCTGGCAGCCGCAAGGCTGCCGTTCGAATCCCCCGTGTT\n",
        "GTCGTACTCGTCAGGCCTACAGAAGAACCTGTTTGAACCCCCAGTGGACGCAAAACCGCCCTCGGGCGGT\n",
        "GATTTCCATTCAGATGCGACCCCAGTCAGGCGGGCCACCCGTGAGTAA"
      ],
      "metadata": {
        "id": "bKw9BnE4HGVi"
      }
    },
    {
      "cell_type": "code",
      "source": [
        "from Bio import SeqIO"
      ],
      "metadata": {
        "id": "abQqqopPHcJq"
      },
      "execution_count": null,
      "outputs": []
    },
    {
      "cell_type": "code",
      "metadata": {
        "id": "96tsUIfi9yJE",
        "colab": {
          "base_uri": "https://localhost:8080/"
        },
        "outputId": "57ded90e-c8a3-4e06-d981-3708fac29155"
      },
      "source": [
        "for seq_record in SeqIO.parse(\"ls_orchid.fasta\", \"fasta\"):\n",
        "    print(seq_record.id)\n",
        "    print(repr(seq_record.seq))\n",
        "    print(len(seq_record))"
      ],
      "execution_count": null,
      "outputs": [
        {
          "output_type": "stream",
          "name": "stdout",
          "text": [
            "gi|2765658|emb|Z78533.1|CIZ78533\n",
            "Seq('CGTAACAAGGTTTCCGTAGGTGAACCTGCGGAAGGATCATTGATGAGACCGTGG...CGC')\n",
            "740\n",
            "gi|2765657|emb|Z78532.1|CCZ78532\n",
            "Seq('CGTAACAAGGTTTCCGTAGGTGAACCTGCGGAAGGATCATTGTTGAGACAACAG...GGC')\n",
            "753\n",
            "gi|2765656|emb|Z78531.1|CFZ78531\n",
            "Seq('CGTAACAAGGTTTCCGTAGGTGAACCTGCGGAAGGATCATTGTTGAGACAGCAG...TAA')\n",
            "748\n",
            "gi|2765655|emb|Z78530.1|CMZ78530\n",
            "Seq('CGTAACAAGGTTTCCGTAGGTGAACCTGCGGAAGGATCATTGTTGAAACAACAT...CAT')\n",
            "744\n",
            "gi|2765654|emb|Z78529.1|CLZ78529\n",
            "Seq('ACGGCGAGCTGCCGAAGGACATTGTTGAGACAGCAGAATATACGATTGAGTGAA...AAA')\n",
            "733\n",
            "gi|2765652|emb|Z78527.1|CYZ78527\n",
            "Seq('CGTAACAAGGTTTCCGTAGGTGAACCTGCGGAAGGATCATTGTTGAGACAGTAG...CCC')\n",
            "718\n",
            "gi|2765651|emb|Z78526.1|CGZ78526\n",
            "Seq('CGTAACAAGGTTTCCGTAGGTGAACCTGCGGAAGGATCATTGTTGAGACAGTAG...TGT')\n",
            "730\n",
            "gi|2765650|emb|Z78525.1|CAZ78525\n",
            "Seq('TGTTGAGATAGCAGAATATACATCGAGTGAATCCGGAGGACCTGTGGTTATTCG...GCA')\n",
            "704\n",
            "gi|2765649|emb|Z78524.1|CFZ78524\n",
            "Seq('CGTAACAAGGTTTCCGTAGGTGAACCTGCGGAAGGATCATTGTTGAGATAGTAG...AGC')\n",
            "740\n",
            "gi|2765648|emb|Z78523.1|CHZ78523\n",
            "Seq('CGTAACCAGGTTTCCGTAGGTGAACCTGCGGCAGGATCATTGTTGAGACAGCAG...AAG')\n",
            "709\n",
            "gi|2765647|emb|Z78522.1|CMZ78522\n",
            "Seq('CGTAACAAGGTTTCCGTAGGTGAACCTGCGGAAGGATCATTGTTGAGACAGCAG...GAG')\n",
            "700\n",
            "gi|2765646|emb|Z78521.1|CCZ78521\n",
            "Seq('GTAGGTGAACCTGCGGAAGGATCATTGTTGAGACAGTAGAATATATGATCGAGT...ACC')\n",
            "726\n",
            "gi|2765645|emb|Z78520.1|CSZ78520\n",
            "Seq('CGTAACAAGGTTTCCGTAGGTGAACCTGCGGAAGGATCATTGTTGAGACAGCAG...TTT')\n",
            "753\n",
            "gi|2765644|emb|Z78519.1|CPZ78519\n",
            "Seq('ATATGATCGAGTGAATCTGGTGGACTTGTGGTTACTCAGCTCGCCATAGGCTTT...TTA')\n",
            "699\n",
            "gi|2765643|emb|Z78518.1|CRZ78518\n",
            "Seq('CGTAACAAGGTTTCCGTAGGTGAACCTGCGGGAGGATCATTGTTGAGATAGTAG...TCC')\n",
            "658\n",
            "gi|2765642|emb|Z78517.1|CFZ78517\n",
            "Seq('CGTAACAAGGTTTCCGTAGGTGAACCTGCGGAAGGATCATTGTTGAGACAGTAG...AGC')\n",
            "752\n",
            "gi|2765641|emb|Z78516.1|CPZ78516\n",
            "Seq('CGTAACAAGGTTTCCGTAGGTGAACCTGCGGAAGGATCATTGTTGAGACAGTAT...TAA')\n",
            "726\n",
            "gi|2765640|emb|Z78515.1|MXZ78515\n",
            "Seq('CGTAACAAGGTTTCCGTAGGTGAACCTGCGGAAGGATCATTGCTGAGACCGTAG...AGC')\n",
            "765\n",
            "gi|2765639|emb|Z78514.1|PSZ78514\n",
            "Seq('CGTAACAAGGTTTCCGTAGGTGGACCTTCGGGAGGATCATTTTTGAAGCCCCCA...CTA')\n",
            "755\n",
            "gi|2765638|emb|Z78513.1|PBZ78513\n",
            "Seq('CGTAACAAGGTTTCCGTAGGTGAACCTGCGGAAGGATCATTGTTGAGACCGCCA...GAG')\n",
            "742\n",
            "gi|2765637|emb|Z78512.1|PWZ78512\n",
            "Seq('CGTAACAAGGTTTCCGTAGGTGGACCTTCGGGAGGATCATTTTTGAAGCCCCCA...AGC')\n",
            "762\n",
            "gi|2765636|emb|Z78511.1|PEZ78511\n",
            "Seq('CGTAACAAGGTTTCCGTAGGTGAACCTTCGGAAGGATCATTGTTGAGACCCCCA...GGA')\n",
            "745\n",
            "gi|2765635|emb|Z78510.1|PCZ78510\n",
            "Seq('CTAACCAGGGTTCCGAGGTGACCTTCGGGAGGATTCCTTTTTAAGCCCCCGAAA...TTA')\n",
            "750\n",
            "gi|2765634|emb|Z78509.1|PPZ78509\n",
            "Seq('CGTAACAAGGTTTCCGTAGGTGAACCTGCGGAAGGATCATTGTTGAGACCGCCA...GGA')\n",
            "731\n",
            "gi|2765633|emb|Z78508.1|PLZ78508\n",
            "Seq('CGTAACAAGGTTTCCGTAGGTGAACCTGCGGAAGGATCATTGTTGAGACCGCCA...TGA')\n",
            "741\n",
            "gi|2765632|emb|Z78507.1|PLZ78507\n",
            "Seq('CGTAACAAGGTTTCCGTAGGTGAACCTGCGGAAGGATCATTGTTGAGACCCCCA...TGA')\n",
            "740\n",
            "gi|2765631|emb|Z78506.1|PLZ78506\n",
            "Seq('CGTAACAAGGTTTCCGTAGGTGAACCTGCGGAAGGATCATTGTTGAGACCGCAA...TGA')\n",
            "727\n",
            "gi|2765630|emb|Z78505.1|PSZ78505\n",
            "Seq('CGTAACAAGGTTTCCGTAGGTGAACCTGCGGAAGGATCATTGTTGAGACCGCCA...TTT')\n",
            "711\n",
            "gi|2765629|emb|Z78504.1|PKZ78504\n",
            "Seq('CGTAACAAGGTTTCCGTAGGTGAACCTTCGGAAGGATCATTGTTGAGACCGCAA...TAA')\n",
            "743\n",
            "gi|2765628|emb|Z78503.1|PCZ78503\n",
            "Seq('CGTAACCAGGTTTCCGTAGGTGAACCTCCGGAAGGATCCTTGTTGAGACCGCCA...TAA')\n",
            "727\n",
            "gi|2765627|emb|Z78502.1|PBZ78502\n",
            "Seq('CGTAACCAGGTTTCCGTAGGTGAACCTCCGGAAGGATCATTGTTGAGACCGCCA...CGC')\n",
            "757\n",
            "gi|2765626|emb|Z78501.1|PCZ78501\n",
            "Seq('CGTAACAAGGTTTCCGTAGGTGAACCTGCGGAAGGATCATTGTTGAGACCGCAA...AGA')\n",
            "770\n",
            "gi|2765625|emb|Z78500.1|PWZ78500\n",
            "Seq('CGTAACAAGGTTTCCGTAGGTGAACCTGCGGAAGGCTCATTGTTGAGACCGCAA...AAG')\n",
            "767\n",
            "gi|2765624|emb|Z78499.1|PMZ78499\n",
            "Seq('CGTAACAAGGTTTCCGTAGGTGAACCTGCGGAGGGATCATTGTTGAGATCGCAT...ACC')\n",
            "759\n",
            "gi|2765623|emb|Z78498.1|PMZ78498\n",
            "Seq('CGTAACAAGGTTTCCGTAGGTGAACCTGCGGAAAGGTCATTGTTGAGATCACAT...AGC')\n",
            "750\n",
            "gi|2765622|emb|Z78497.1|PDZ78497\n",
            "Seq('CGTAACAAGGTTTCCGTAGGTGAACCTGCGGAAGGATCATTGTTGAGATCACAT...AGC')\n",
            "788\n",
            "gi|2765621|emb|Z78496.1|PAZ78496\n",
            "Seq('CGTAACAAGGTTTCCGTAGGTGAACCTGCGGAAGGATCATTGTTGAGATCGCAT...AGC')\n",
            "774\n",
            "gi|2765620|emb|Z78495.1|PEZ78495\n",
            "Seq('CGTAACAAGGTTTCCGTAGGTGAACCTCCGGAAGGATCATTGTTGAGATCACAT...GTG')\n",
            "789\n",
            "gi|2765619|emb|Z78494.1|PNZ78494\n",
            "Seq('CGTAACAAGGTTTCCGTAGGTGAACCTGCGGAAGGATCATTGTTGAGGTCGCAT...AAG')\n",
            "688\n",
            "gi|2765618|emb|Z78493.1|PGZ78493\n",
            "Seq('CGTAACAAGGATTCCGTAGGTGAACCTGCGGAAGGATCATTGTTGAGATCGCAT...CCC')\n",
            "719\n",
            "gi|2765617|emb|Z78492.1|PBZ78492\n",
            "Seq('CGTAACAAGGTTTCCGTAGGTGAACCTGCGGAAGGATCATTGTTGAGATCGCAT...ATA')\n",
            "743\n",
            "gi|2765616|emb|Z78491.1|PCZ78491\n",
            "Seq('CGTAACAAGGTTTCCGTAGGTGAACCTGCGGAAGGATCATTGTTGAGATCGCAT...AGC')\n",
            "737\n",
            "gi|2765615|emb|Z78490.1|PFZ78490\n",
            "Seq('CGTAACAAGGTTTCCGTAGGTGAACCTGCGGAAGGATCATTGTTGAGATCACAT...TGA')\n",
            "728\n",
            "gi|2765614|emb|Z78489.1|PDZ78489\n",
            "Seq('CGTAACAAGGTTTCCGTAGGTGAACCTGCGGAAGGATCATTGTTGAGATCACAT...GGC')\n",
            "740\n",
            "gi|2765613|emb|Z78488.1|PTZ78488\n",
            "Seq('CTGTAGGTGAACCTGCGGAAGGATCATTGTTGAGATCACGCAATAATTGATCGA...GCT')\n",
            "696\n",
            "gi|2765612|emb|Z78487.1|PHZ78487\n",
            "Seq('CGTAACAAGGTTTCCGTAGGTGAACCTGCGGAAGGATCATTGTTGAGATCACAT...TAA')\n",
            "732\n",
            "gi|2765611|emb|Z78486.1|PBZ78486\n",
            "Seq('CGTCACGAGGTTTCCGTAGGTGAATCTGCGGGAGGATCATTGTTGAGATCACAT...TGA')\n",
            "731\n",
            "gi|2765610|emb|Z78485.1|PHZ78485\n",
            "Seq('CTGAACCTGGTGTCCGAAGGTGAATCTGCGGATGGATCATTGTTGAGATATCAT...GTA')\n",
            "735\n",
            "gi|2765609|emb|Z78484.1|PCZ78484\n",
            "Seq('CGTAACAAGGTTTCCGTAGGTGAACCTGGGGAAGGATCATTGTTGAGATCACAT...TTT')\n",
            "720\n",
            "gi|2765608|emb|Z78483.1|PVZ78483\n",
            "Seq('CGTAACAAGGTTTCCGTAGGTGAACCTGCGGAAGGATCATTGTTGAGATCACAT...GCA')\n",
            "740\n",
            "gi|2765607|emb|Z78482.1|PEZ78482\n",
            "Seq('TCTACTGCAGTGACCGAGATTTGCCATCGAGCCTCCTGGGAGCTTTCTTGCTGG...GCA')\n",
            "629\n",
            "gi|2765606|emb|Z78481.1|PIZ78481\n",
            "Seq('CGTAACAAGGTTTCCGTAGGTGAACCTGCGGAAGGATCATTGTTGAGATCACAT...TGA')\n",
            "572\n",
            "gi|2765605|emb|Z78480.1|PGZ78480\n",
            "Seq('CGTAACAAGGTTTCCGTAGGTGAACCTGCGGAAGGATCATTGTTGAGATCACAT...TGA')\n",
            "587\n",
            "gi|2765604|emb|Z78479.1|PPZ78479\n",
            "Seq('CGTAACAAGGTTTCCGTAGGTGAACCTGCGGAAGGATCATTGTTGAGATCACAT...AGT')\n",
            "700\n",
            "gi|2765603|emb|Z78478.1|PVZ78478\n",
            "Seq('CGTAACAAGGTTTCCGTAGGTGAACCTCCGGAAGGATCAGTGTTGAGATCACAT...GGC')\n",
            "636\n",
            "gi|2765602|emb|Z78477.1|PVZ78477\n",
            "Seq('CGTAACAAGGTTTCCGTAGGTGAACCTGCGGAAGGATCATTGTTGAGATCACAT...TGC')\n",
            "716\n",
            "gi|2765601|emb|Z78476.1|PGZ78476\n",
            "Seq('CGTAACAAGGTTTCCGTAGGTGAACCTGCGGAAGGATCATTGTTGAGATCACAT...CCC')\n",
            "592\n",
            "gi|2765600|emb|Z78475.1|PSZ78475\n",
            "Seq('CGTAACAAGGTTTCCGTAGGTGAACCTGCGGAAGGATCATTGTTGAGATCACAT...GGT')\n",
            "716\n",
            "gi|2765599|emb|Z78474.1|PKZ78474\n",
            "Seq('CGTAACAAGGTTTCCGTAGGTGAACCTGCGGAAGGATCATTGTTGAGATCACGT...CTT')\n",
            "733\n",
            "gi|2765598|emb|Z78473.1|PSZ78473\n",
            "Seq('CGTAACAAGGTTTCCGTAGGTGAACCTGCGGAAGGATCATTGTTGAGATCACAT...AGG')\n",
            "626\n",
            "gi|2765597|emb|Z78472.1|PLZ78472\n",
            "Seq('CGTAACAAGGTTTCCGTAGGTGAACCTGCGGAAGGATCATTGTTGAGATCACAT...AGC')\n",
            "737\n",
            "gi|2765596|emb|Z78471.1|PDZ78471\n",
            "Seq('CGTAACAAGGTTTCCGTAGGTGAACCTGCGGAAGGATCATTGTTGAGATCACAT...AGC')\n",
            "740\n",
            "gi|2765595|emb|Z78470.1|PPZ78470\n",
            "Seq('CGTAACAAGGTTTCCGTAGGTGAACCTGCGGAAGGATCATTGTTGAGATCACAT...GTT')\n",
            "574\n",
            "gi|2765594|emb|Z78469.1|PHZ78469\n",
            "Seq('CGTAACAAGGTTTCCGTAGGTGAACCTGCGGAAGGATCATTGTTGAGATCACAT...GTT')\n",
            "594\n",
            "gi|2765593|emb|Z78468.1|PAZ78468\n",
            "Seq('CGTAACAAGGTTTCCGTAGGTGAACCTGCGGAAGGATCATTGTTGAGATCGCAT...GTT')\n",
            "610\n",
            "gi|2765592|emb|Z78467.1|PSZ78467\n",
            "Seq('CGTAACAAGGTTTCCGTAGGTGAACCTGCGGAAGGATCATTGTTGAGATCACAT...TGA')\n",
            "730\n",
            "gi|2765591|emb|Z78466.1|PPZ78466\n",
            "Seq('CGTAACAAGGTTTCCGTAGGTGAACCTGCGGAAGGATCATTGTTGAGATCACAT...CCC')\n",
            "641\n",
            "gi|2765590|emb|Z78465.1|PRZ78465\n",
            "Seq('CGTAACAAGGTTTCCGTAGGTGAACCTGCGGAAGGATCATTGTTGAGATCACAT...TGC')\n",
            "702\n",
            "gi|2765589|emb|Z78464.1|PGZ78464\n",
            "Seq('CGTAACAAGGTTTCCGTAGGTGAGCGGAAGGGTCATTGTTGAGATCACATAATA...AGC')\n",
            "733\n",
            "gi|2765588|emb|Z78463.1|PGZ78463\n",
            "Seq('CGTAACAAGGTTTCCGTAGGTGAACCTGCGGAAGGTTCATTGTTGAGATCACAT...AGC')\n",
            "738\n",
            "gi|2765587|emb|Z78462.1|PSZ78462\n",
            "Seq('CGTCACGAGGTCTCCGGATGTGACCCTGCGGAAGGATCATTGTTGAGATCACAT...CAT')\n",
            "736\n",
            "gi|2765586|emb|Z78461.1|PWZ78461\n",
            "Seq('CGTAACAAGGTTTCCGTAGGTGAACCTCCGGAAGGATCATTGTTGAGATCACAT...TAA')\n",
            "732\n",
            "gi|2765585|emb|Z78460.1|PCZ78460\n",
            "Seq('CGTAACAAGGTTTCCGTAGGTGAACCTCCGGAAGGATCATTGTTGAGATCACAT...TTA')\n",
            "745\n",
            "gi|2765584|emb|Z78459.1|PDZ78459\n",
            "Seq('CGTAACAAGGTTTCCGTAGGTGAACCTGCGGAAGGATCATTGTTGAGATCACAT...TTT')\n",
            "744\n",
            "gi|2765583|emb|Z78458.1|PHZ78458\n",
            "Seq('CGTAACAAGGTTTCCGTAGGTGAACCTGCGGAAGGATCATTGTTGAGATCACAT...TTG')\n",
            "738\n",
            "gi|2765582|emb|Z78457.1|PCZ78457\n",
            "Seq('CGTAACAAGGTTTCCGTAGGTGAACCTCCGGAAGGATCATTGTTGAGATCACAT...GAG')\n",
            "739\n",
            "gi|2765581|emb|Z78456.1|PTZ78456\n",
            "Seq('CGTAACAAGGTTTCCGTAGGTGAACCTGCGGAAGGATCATTGTTGAGATCACAT...AGC')\n",
            "740\n",
            "gi|2765580|emb|Z78455.1|PJZ78455\n",
            "Seq('CGTAACCAGGTTTCCGTAGGTGGACCTTCGGGAGGATCATTTTTGAGATCACAT...GCA')\n",
            "745\n",
            "gi|2765579|emb|Z78454.1|PFZ78454\n",
            "Seq('CGTAACAAGGTTTCCGTAGGTGAACCTGCGGAAGGATCATTGTTGAGATCACAT...AAC')\n",
            "695\n",
            "gi|2765578|emb|Z78453.1|PSZ78453\n",
            "Seq('CGTAACAAGGTTTCCGTAGGTGAACCTGCGGAAGGATCATTGTTGAGATCACAT...GCA')\n",
            "745\n",
            "gi|2765577|emb|Z78452.1|PBZ78452\n",
            "Seq('CGTAACAAGGTTTCCGTAGGTGAACCTGCGGAAGGATCATTGTTGAGATCACAT...GCA')\n",
            "743\n",
            "gi|2765576|emb|Z78451.1|PHZ78451\n",
            "Seq('CGTAACAAGGTTTCCGTAGGTGTACCTCCGGAAGGATCATTGTTGAGATCACAT...AGC')\n",
            "730\n",
            "gi|2765575|emb|Z78450.1|PPZ78450\n",
            "Seq('GGAAGGATCATTGCTGATATCACATAATAATTGATCGAGTTAAGCTGGAGGATC...GAG')\n",
            "706\n",
            "gi|2765574|emb|Z78449.1|PMZ78449\n",
            "Seq('CGTAACAAGGTTTCCGTAGGTGAACCTGCGGAAGGATCATTGTTGAGATCACAT...TGC')\n",
            "744\n",
            "gi|2765573|emb|Z78448.1|PAZ78448\n",
            "Seq('CGTAACAAGGTTTCCGTAGGTGAACCTGCGGAAGGATCATTGTTGAGATCACAT...AGG')\n",
            "742\n",
            "gi|2765572|emb|Z78447.1|PVZ78447\n",
            "Seq('CGTAACAAGGATTCCGTAGGTGAACCTGCGGGAGGATCATTGTTGAGATCACAT...AGC')\n",
            "694\n",
            "gi|2765571|emb|Z78446.1|PAZ78446\n",
            "Seq('CGTAACAAGGTTTCCGTAGGTGAACCTCCGGAAGGATCATTGTTGAGATCACAT...CCC')\n",
            "712\n",
            "gi|2765570|emb|Z78445.1|PUZ78445\n",
            "Seq('CGTAACAAGGTTTCCGTAGGTGAACCTGCGGAAGGATCATTGTTGAGATCACAT...TGT')\n",
            "715\n",
            "gi|2765569|emb|Z78444.1|PAZ78444\n",
            "Seq('CGTAACAAGGTTTCCGTAGGGTGAACTGCGGAAGGATCATTGTTGAGATCACAT...ATT')\n",
            "688\n",
            "gi|2765568|emb|Z78443.1|PLZ78443\n",
            "Seq('CGTAACAAGGTTTCCGTAGGTGAACCTGCGGAAGGATCATTGTTGAGATCACAT...AGG')\n",
            "784\n",
            "gi|2765567|emb|Z78442.1|PBZ78442\n",
            "Seq('GTAGGTGAACCTGCGGAAGGATCATTGTTGAGATCACATAATAATTGATCGAGT...AGT')\n",
            "721\n",
            "gi|2765566|emb|Z78441.1|PSZ78441\n",
            "Seq('GGAAGGTCATTGCCGATATCACATAATAATTGATCGAGTTAATCTGGAGGATCT...GAG')\n",
            "703\n",
            "gi|2765565|emb|Z78440.1|PPZ78440\n",
            "Seq('CGTAACAAGGTTTCCGTAGGTGGACCTCCGGGAGGATCATTGTTGAGATCACAT...GCA')\n",
            "744\n",
            "gi|2765564|emb|Z78439.1|PBZ78439\n",
            "Seq('CATTGTTGAGATCACATAATAATTGATCGAGTTAATCTGGAGGATCTGTTTACT...GCC')\n",
            "592\n"
          ]
        }
      ]
    },
    {
      "cell_type": "code",
      "metadata": {
        "id": "PKlWfxyr98Z-",
        "colab": {
          "base_uri": "https://localhost:8080/"
        },
        "outputId": "99d35bc9-9f32-4a30-8cbf-ab12ea157f3f"
      },
      "source": [
        "for seq_record in SeqIO.parse(\"ls_orchid.gbk\", \"genbank\"):\n",
        "   print(seq_record.id)\n",
        "   print(repr(seq_record.seq))\n",
        "   print(len(seq_record))"
      ],
      "execution_count": null,
      "outputs": [
        {
          "output_type": "stream",
          "name": "stdout",
          "text": [
            "Z78533.1\n",
            "Seq('CGTAACAAGGTTTCCGTAGGTGAACCTGCGGAAGGATCATTGATGAGACCGTGG...CGC')\n",
            "740\n",
            "Z78532.1\n",
            "Seq('CGTAACAAGGTTTCCGTAGGTGAACCTGCGGAAGGATCATTGTTGAGACAACAG...GGC')\n",
            "753\n",
            "Z78531.1\n",
            "Seq('CGTAACAAGGTTTCCGTAGGTGAACCTGCGGAAGGATCATTGTTGAGACAGCAG...TAA')\n",
            "748\n",
            "Z78530.1\n",
            "Seq('CGTAACAAGGTTTCCGTAGGTGAACCTGCGGAAGGATCATTGTTGAAACAACAT...CAT')\n",
            "744\n",
            "Z78529.1\n",
            "Seq('ACGGCGAGCTGCCGAAGGACATTGTTGAGACAGCAGAATATACGATTGAGTGAA...AAA')\n",
            "733\n",
            "Z78527.1\n",
            "Seq('CGTAACAAGGTTTCCGTAGGTGAACCTGCGGAAGGATCATTGTTGAGACAGTAG...CCC')\n",
            "718\n",
            "Z78526.1\n",
            "Seq('CGTAACAAGGTTTCCGTAGGTGAACCTGCGGAAGGATCATTGTTGAGACAGTAG...TGT')\n",
            "730\n",
            "Z78525.1\n",
            "Seq('TGTTGAGATAGCAGAATATACATCGAGTGAATCCGGAGGACCTGTGGTTATTCG...GCA')\n",
            "704\n",
            "Z78524.1\n",
            "Seq('CGTAACAAGGTTTCCGTAGGTGAACCTGCGGAAGGATCATTGTTGAGATAGTAG...AGC')\n",
            "740\n",
            "Z78523.1\n",
            "Seq('CGTAACCAGGTTTCCGTAGGTGAACCTGCGGCAGGATCATTGTTGAGACAGCAG...AAG')\n",
            "709\n",
            "Z78522.1\n",
            "Seq('CGTAACAAGGTTTCCGTAGGTGAACCTGCGGAAGGATCATTGTTGAGACAGCAG...GAG')\n",
            "700\n",
            "Z78521.1\n",
            "Seq('GTAGGTGAACCTGCGGAAGGATCATTGTTGAGACAGTAGAATATATGATCGAGT...ACC')\n",
            "726\n",
            "Z78520.1\n",
            "Seq('CGTAACAAGGTTTCCGTAGGTGAACCTGCGGAAGGATCATTGTTGAGACAGCAG...TTT')\n",
            "753\n",
            "Z78519.1\n",
            "Seq('ATATGATCGAGTGAATCTGGTGGACTTGTGGTTACTCAGCTCGCCATAGGCTTT...TTA')\n",
            "699\n",
            "Z78518.1\n",
            "Seq('CGTAACAAGGTTTCCGTAGGTGAACCTGCGGGAGGATCATTGTTGAGATAGTAG...TCC')\n",
            "658\n",
            "Z78517.1\n",
            "Seq('CGTAACAAGGTTTCCGTAGGTGAACCTGCGGAAGGATCATTGTTGAGACAGTAG...AGC')\n",
            "752\n",
            "Z78516.1\n",
            "Seq('CGTAACAAGGTTTCCGTAGGTGAACCTGCGGAAGGATCATTGTTGAGACAGTAT...TAA')\n",
            "726\n",
            "Z78515.1\n",
            "Seq('CGTAACAAGGTTTCCGTAGGTGAACCTGCGGAAGGATCATTGCTGAGACCGTAG...AGC')\n",
            "765\n",
            "Z78514.1\n",
            "Seq('CGTAACAAGGTTTCCGTAGGTGGACCTTCGGGAGGATCATTTTTGAAGCCCCCA...CTA')\n",
            "755\n",
            "Z78513.1\n",
            "Seq('CGTAACAAGGTTTCCGTAGGTGAACCTGCGGAAGGATCATTGTTGAGACCGCCA...GAG')\n",
            "742\n",
            "Z78512.1\n",
            "Seq('CGTAACAAGGTTTCCGTAGGTGGACCTTCGGGAGGATCATTTTTGAAGCCCCCA...AGC')\n",
            "762\n",
            "Z78511.1\n",
            "Seq('CGTAACAAGGTTTCCGTAGGTGAACCTTCGGAAGGATCATTGTTGAGACCCCCA...GGA')\n",
            "745\n",
            "Z78510.1\n",
            "Seq('CTAACCAGGGTTCCGAGGTGACCTTCGGGAGGATTCCTTTTTAAGCCCCCGAAA...TTA')\n",
            "750\n",
            "Z78509.1\n",
            "Seq('CGTAACAAGGTTTCCGTAGGTGAACCTGCGGAAGGATCATTGTTGAGACCGCCA...GGA')\n",
            "731\n",
            "Z78508.1\n",
            "Seq('CGTAACAAGGTTTCCGTAGGTGAACCTGCGGAAGGATCATTGTTGAGACCGCCA...TGA')\n",
            "741\n",
            "Z78507.1\n",
            "Seq('CGTAACAAGGTTTCCGTAGGTGAACCTGCGGAAGGATCATTGTTGAGACCCCCA...TGA')\n",
            "740\n",
            "Z78506.1\n",
            "Seq('CGTAACAAGGTTTCCGTAGGTGAACCTGCGGAAGGATCATTGTTGAGACCGCAA...TGA')\n",
            "727\n",
            "Z78505.1\n",
            "Seq('CGTAACAAGGTTTCCGTAGGTGAACCTGCGGAAGGATCATTGTTGAGACCGCCA...TTT')\n",
            "711\n",
            "Z78504.1\n",
            "Seq('CGTAACAAGGTTTCCGTAGGTGAACCTTCGGAAGGATCATTGTTGAGACCGCAA...TAA')\n",
            "743\n",
            "Z78503.1\n",
            "Seq('CGTAACCAGGTTTCCGTAGGTGAACCTCCGGAAGGATCCTTGTTGAGACCGCCA...TAA')\n",
            "727\n",
            "Z78502.1\n",
            "Seq('CGTAACCAGGTTTCCGTAGGTGAACCTCCGGAAGGATCATTGTTGAGACCGCCA...CGC')\n",
            "757\n",
            "Z78501.1\n",
            "Seq('CGTAACAAGGTTTCCGTAGGTGAACCTGCGGAAGGATCATTGTTGAGACCGCAA...AGA')\n",
            "770\n",
            "Z78500.1\n",
            "Seq('CGTAACAAGGTTTCCGTAGGTGAACCTGCGGAAGGCTCATTGTTGAGACCGCAA...AAG')\n",
            "767\n",
            "Z78499.1\n",
            "Seq('CGTAACAAGGTTTCCGTAGGTGAACCTGCGGAGGGATCATTGTTGAGATCGCAT...ACC')\n",
            "759\n",
            "Z78498.1\n",
            "Seq('CGTAACAAGGTTTCCGTAGGTGAACCTGCGGAAAGGTCATTGTTGAGATCACAT...AGC')\n",
            "750\n",
            "Z78497.1\n",
            "Seq('CGTAACAAGGTTTCCGTAGGTGAACCTGCGGAAGGATCATTGTTGAGATCACAT...AGC')\n",
            "788\n",
            "Z78496.1\n",
            "Seq('CGTAACAAGGTTTCCGTAGGTGAACCTGCGGAAGGATCATTGTTGAGATCGCAT...AGC')\n",
            "774\n",
            "Z78495.1\n",
            "Seq('CGTAACAAGGTTTCCGTAGGTGAACCTCCGGAAGGATCATTGTTGAGATCACAT...GTG')\n",
            "789\n",
            "Z78494.1\n",
            "Seq('CGTAACAAGGTTTCCGTAGGTGAACCTGCGGAAGGATCATTGTTGAGGTCGCAT...AAG')\n",
            "688\n",
            "Z78493.1\n",
            "Seq('CGTAACAAGGATTCCGTAGGTGAACCTGCGGAAGGATCATTGTTGAGATCGCAT...CCC')\n",
            "719\n",
            "Z78492.1\n",
            "Seq('CGTAACAAGGTTTCCGTAGGTGAACCTGCGGAAGGATCATTGTTGAGATCGCAT...ATA')\n",
            "743\n",
            "Z78491.1\n",
            "Seq('CGTAACAAGGTTTCCGTAGGTGAACCTGCGGAAGGATCATTGTTGAGATCGCAT...AGC')\n",
            "737\n",
            "Z78490.1\n",
            "Seq('CGTAACAAGGTTTCCGTAGGTGAACCTGCGGAAGGATCATTGTTGAGATCACAT...TGA')\n",
            "728\n",
            "Z78489.1\n",
            "Seq('CGTAACAAGGTTTCCGTAGGTGAACCTGCGGAAGGATCATTGTTGAGATCACAT...GGC')\n",
            "740\n",
            "Z78488.1\n",
            "Seq('CTGTAGGTGAACCTGCGGAAGGATCATTGTTGAGATCACGCAATAATTGATCGA...GCT')\n",
            "696\n",
            "Z78487.1\n",
            "Seq('CGTAACAAGGTTTCCGTAGGTGAACCTGCGGAAGGATCATTGTTGAGATCACAT...TAA')\n",
            "732\n",
            "Z78486.1\n",
            "Seq('CGTCACGAGGTTTCCGTAGGTGAATCTGCGGGAGGATCATTGTTGAGATCACAT...TGA')\n",
            "731\n",
            "Z78485.1\n",
            "Seq('CTGAACCTGGTGTCCGAAGGTGAATCTGCGGATGGATCATTGTTGAGATATCAT...GTA')\n",
            "735\n",
            "Z78484.1\n",
            "Seq('CGTAACAAGGTTTCCGTAGGTGAACCTGGGGAAGGATCATTGTTGAGATCACAT...TTT')\n",
            "720\n",
            "Z78483.1\n",
            "Seq('CGTAACAAGGTTTCCGTAGGTGAACCTGCGGAAGGATCATTGTTGAGATCACAT...GCA')\n",
            "740\n",
            "Z78482.1\n",
            "Seq('TCTACTGCAGTGACCGAGATTTGCCATCGAGCCTCCTGGGAGCTTTCTTGCTGG...GCA')\n",
            "629\n",
            "Z78481.1\n",
            "Seq('CGTAACAAGGTTTCCGTAGGTGAACCTGCGGAAGGATCATTGTTGAGATCACAT...TGA')\n",
            "572\n",
            "Z78480.1\n",
            "Seq('CGTAACAAGGTTTCCGTAGGTGAACCTGCGGAAGGATCATTGTTGAGATCACAT...TGA')\n",
            "587\n",
            "Z78479.1\n",
            "Seq('CGTAACAAGGTTTCCGTAGGTGAACCTGCGGAAGGATCATTGTTGAGATCACAT...AGT')\n",
            "700\n",
            "Z78478.1\n",
            "Seq('CGTAACAAGGTTTCCGTAGGTGAACCTCCGGAAGGATCAGTGTTGAGATCACAT...GGC')\n",
            "636\n",
            "Z78477.1\n",
            "Seq('CGTAACAAGGTTTCCGTAGGTGAACCTGCGGAAGGATCATTGTTGAGATCACAT...TGC')\n",
            "716\n",
            "Z78476.1\n",
            "Seq('CGTAACAAGGTTTCCGTAGGTGAACCTGCGGAAGGATCATTGTTGAGATCACAT...CCC')\n",
            "592\n",
            "Z78475.1\n",
            "Seq('CGTAACAAGGTTTCCGTAGGTGAACCTGCGGAAGGATCATTGTTGAGATCACAT...GGT')\n",
            "716\n",
            "Z78474.1\n",
            "Seq('CGTAACAAGGTTTCCGTAGGTGAACCTGCGGAAGGATCATTGTTGAGATCACGT...CTT')\n",
            "733\n",
            "Z78473.1\n",
            "Seq('CGTAACAAGGTTTCCGTAGGTGAACCTGCGGAAGGATCATTGTTGAGATCACAT...AGG')\n",
            "626\n",
            "Z78472.1\n",
            "Seq('CGTAACAAGGTTTCCGTAGGTGAACCTGCGGAAGGATCATTGTTGAGATCACAT...AGC')\n",
            "737\n",
            "Z78471.1\n",
            "Seq('CGTAACAAGGTTTCCGTAGGTGAACCTGCGGAAGGATCATTGTTGAGATCACAT...AGC')\n",
            "740\n",
            "Z78470.1\n",
            "Seq('CGTAACAAGGTTTCCGTAGGTGAACCTGCGGAAGGATCATTGTTGAGATCACAT...GTT')\n",
            "574\n",
            "Z78469.1\n",
            "Seq('CGTAACAAGGTTTCCGTAGGTGAACCTGCGGAAGGATCATTGTTGAGATCACAT...GTT')\n",
            "594\n",
            "Z78468.1\n",
            "Seq('CGTAACAAGGTTTCCGTAGGTGAACCTGCGGAAGGATCATTGTTGAGATCGCAT...GTT')\n",
            "610\n",
            "Z78467.1\n",
            "Seq('CGTAACAAGGTTTCCGTAGGTGAACCTGCGGAAGGATCATTGTTGAGATCACAT...TGA')\n",
            "730\n",
            "Z78466.1\n",
            "Seq('CGTAACAAGGTTTCCGTAGGTGAACCTGCGGAAGGATCATTGTTGAGATCACAT...CCC')\n",
            "641\n",
            "Z78465.1\n",
            "Seq('CGTAACAAGGTTTCCGTAGGTGAACCTGCGGAAGGATCATTGTTGAGATCACAT...TGC')\n",
            "702\n",
            "Z78464.1\n",
            "Seq('CGTAACAAGGTTTCCGTAGGTGAGCGGAAGGGTCATTGTTGAGATCACATAATA...AGC')\n",
            "733\n",
            "Z78463.1\n",
            "Seq('CGTAACAAGGTTTCCGTAGGTGAACCTGCGGAAGGTTCATTGTTGAGATCACAT...AGC')\n",
            "738\n",
            "Z78462.1\n",
            "Seq('CGTCACGAGGTCTCCGGATGTGACCCTGCGGAAGGATCATTGTTGAGATCACAT...CAT')\n",
            "736\n",
            "Z78461.1\n",
            "Seq('CGTAACAAGGTTTCCGTAGGTGAACCTCCGGAAGGATCATTGTTGAGATCACAT...TAA')\n",
            "732\n",
            "Z78460.1\n",
            "Seq('CGTAACAAGGTTTCCGTAGGTGAACCTCCGGAAGGATCATTGTTGAGATCACAT...TTA')\n",
            "745\n",
            "Z78459.1\n",
            "Seq('CGTAACAAGGTTTCCGTAGGTGAACCTGCGGAAGGATCATTGTTGAGATCACAT...TTT')\n",
            "744\n",
            "Z78458.1\n",
            "Seq('CGTAACAAGGTTTCCGTAGGTGAACCTGCGGAAGGATCATTGTTGAGATCACAT...TTG')\n",
            "738\n",
            "Z78457.1\n",
            "Seq('CGTAACAAGGTTTCCGTAGGTGAACCTCCGGAAGGATCATTGTTGAGATCACAT...GAG')\n",
            "739\n",
            "Z78456.1\n",
            "Seq('CGTAACAAGGTTTCCGTAGGTGAACCTGCGGAAGGATCATTGTTGAGATCACAT...AGC')\n",
            "740\n",
            "Z78455.1\n",
            "Seq('CGTAACCAGGTTTCCGTAGGTGGACCTTCGGGAGGATCATTTTTGAGATCACAT...GCA')\n",
            "745\n",
            "Z78454.1\n",
            "Seq('CGTAACAAGGTTTCCGTAGGTGAACCTGCGGAAGGATCATTGTTGAGATCACAT...AAC')\n",
            "695\n",
            "Z78453.1\n",
            "Seq('CGTAACAAGGTTTCCGTAGGTGAACCTGCGGAAGGATCATTGTTGAGATCACAT...GCA')\n",
            "745\n",
            "Z78452.1\n",
            "Seq('CGTAACAAGGTTTCCGTAGGTGAACCTGCGGAAGGATCATTGTTGAGATCACAT...GCA')\n",
            "743\n",
            "Z78451.1\n",
            "Seq('CGTAACAAGGTTTCCGTAGGTGTACCTCCGGAAGGATCATTGTTGAGATCACAT...AGC')\n",
            "730\n",
            "Z78450.1\n",
            "Seq('GGAAGGATCATTGCTGATATCACATAATAATTGATCGAGTTAAGCTGGAGGATC...GAG')\n",
            "706\n",
            "Z78449.1\n",
            "Seq('CGTAACAAGGTTTCCGTAGGTGAACCTGCGGAAGGATCATTGTTGAGATCACAT...TGC')\n",
            "744\n",
            "Z78448.1\n",
            "Seq('CGTAACAAGGTTTCCGTAGGTGAACCTGCGGAAGGATCATTGTTGAGATCACAT...AGG')\n",
            "742\n",
            "Z78447.1\n",
            "Seq('CGTAACAAGGATTCCGTAGGTGAACCTGCGGGAGGATCATTGTTGAGATCACAT...AGC')\n",
            "694\n",
            "Z78446.1\n",
            "Seq('CGTAACAAGGTTTCCGTAGGTGAACCTCCGGAAGGATCATTGTTGAGATCACAT...CCC')\n",
            "712\n",
            "Z78445.1\n",
            "Seq('CGTAACAAGGTTTCCGTAGGTGAACCTGCGGAAGGATCATTGTTGAGATCACAT...TGT')\n",
            "715\n",
            "Z78444.1\n",
            "Seq('CGTAACAAGGTTTCCGTAGGGTGAACTGCGGAAGGATCATTGTTGAGATCACAT...ATT')\n",
            "688\n",
            "Z78443.1\n",
            "Seq('CGTAACAAGGTTTCCGTAGGTGAACCTGCGGAAGGATCATTGTTGAGATCACAT...AGG')\n",
            "784\n",
            "Z78442.1\n",
            "Seq('GTAGGTGAACCTGCGGAAGGATCATTGTTGAGATCACATAATAATTGATCGAGT...AGT')\n",
            "721\n",
            "Z78441.1\n",
            "Seq('GGAAGGTCATTGCCGATATCACATAATAATTGATCGAGTTAATCTGGAGGATCT...GAG')\n",
            "703\n",
            "Z78440.1\n",
            "Seq('CGTAACAAGGTTTCCGTAGGTGGACCTCCGGGAGGATCATTGTTGAGATCACAT...GCA')\n",
            "744\n",
            "Z78439.1\n",
            "Seq('CATTGTTGAGATCACATAATAATTGATCGAGTTAATCTGGAGGATCTGTTTACT...GCC')\n",
            "592\n"
          ]
        }
      ]
    },
    {
      "cell_type": "markdown",
      "metadata": {
        "id": "cp8GArC564gq"
      },
      "source": [
        "## 2. Примери за поврзување со различни биолошки бази"
      ]
    },
    {
      "cell_type": "markdown",
      "source": [
        "Биолошки бази\n",
        "\n",
        "*   Entrez (and PubMed) from the NCBI \n",
        "*   ExPASy \n",
        "*   SCOP \n",
        "\n",
        "Импортирање на библиотеки за да се воспостави конекција со базите"
      ],
      "metadata": {
        "id": "_lqntbizQNST"
      }
    },
    {
      "cell_type": "code",
      "metadata": {
        "id": "fOOC_7eC7NJh"
      },
      "source": [
        "from Bio import Entrez\n",
        "Entrez.email = \"zorica.koceva@students.finki.ukim.mk\""
      ],
      "execution_count": null,
      "outputs": []
    },
    {
      "cell_type": "markdown",
      "source": [
        "# *Entrez - PubMed NCBI biological database*"
      ],
      "metadata": {
        "id": "m0GMVMMupz-t"
      }
    },
    {
      "cell_type": "code",
      "source": [
        "handle = Entrez.einfo()\n",
        "result = handle.read()\n",
        "handle.close()"
      ],
      "metadata": {
        "id": "fcyYYyYfbjyh"
      },
      "execution_count": null,
      "outputs": []
    },
    {
      "cell_type": "code",
      "source": [
        "# Примери геном, нуклеотид, пубмед\n",
        "handle = Entrez.einfo(db='genome')\n",
        "record = Entrez.read(handle)\n",
        "print(record['DbInfo'])\n",
        "handle.close()\n",
        "handle = Entrez.einfo(db='nucleotide')\n",
        "record = Entrez.read(handle)\n",
        "print(record['DbInfo'])\n",
        "handle.close()\n",
        "handle = Entrez.einfo(db='pubmed')\n",
        "record = Entrez.read(handle)\n",
        "print(record['DbInfo'])\n",
        "handle.close()"
      ],
      "metadata": {
        "colab": {
          "base_uri": "https://localhost:8080/"
        },
        "id": "jilaZ8DgKLjE",
        "outputId": "51452b40-dd32-47e3-f9d1-d2b4a99b2202"
      },
      "execution_count": null,
      "outputs": [
        {
          "output_type": "stream",
          "name": "stdout",
          "text": [
            "{'DbName': 'genome', 'MenuName': 'Genome', 'Description': 'Genomic sequences, contigs, and maps', 'DbBuild': 'Build220103-0210.1', 'Count': '82553', 'LastUpdate': '2022/01/03 02:53', 'FieldList': [{'Name': 'ALL', 'FullName': 'All Fields', 'Description': 'All terms from all searchable fields', 'TermCount': '13668476', 'IsDate': 'N', 'IsNumerical': 'N', 'SingleToken': 'N', 'Hierarchy': 'N', 'IsHidden': 'N'}, {'Name': 'UID', 'FullName': 'UID', 'Description': 'Unique number assigned to genome', 'TermCount': '0', 'IsDate': 'N', 'IsNumerical': 'Y', 'SingleToken': 'Y', 'Hierarchy': 'N', 'IsHidden': 'Y'}, {'Name': 'FILT', 'FullName': 'Filter', 'Description': 'Limits the records', 'TermCount': '17', 'IsDate': 'N', 'IsNumerical': 'N', 'SingleToken': 'Y', 'Hierarchy': 'N', 'IsHidden': 'N'}, {'Name': 'ORGN', 'FullName': 'Organism', 'Description': 'Organism', 'TermCount': '620415', 'IsDate': 'N', 'IsNumerical': 'N', 'SingleToken': 'Y', 'Hierarchy': 'Y', 'IsHidden': 'N'}, {'Name': 'PID', 'FullName': 'ProjectID', 'Description': 'Project ID', 'TermCount': '122854', 'IsDate': 'N', 'IsNumerical': 'Y', 'SingleToken': 'Y', 'Hierarchy': 'N', 'IsHidden': 'N'}, {'Name': 'PRJA', 'FullName': 'Project Accession', 'Description': 'Project Accession', 'TermCount': '122847', 'IsDate': 'N', 'IsNumerical': 'N', 'SingleToken': 'Y', 'Hierarchy': 'N', 'IsHidden': 'N'}, {'Name': 'PRJT', 'FullName': 'Project Type', 'Description': 'Project Type', 'TermCount': '21', 'IsDate': 'N', 'IsNumerical': 'N', 'SingleToken': 'Y', 'Hierarchy': 'N', 'IsHidden': 'N'}, {'Name': 'DFLN', 'FullName': 'Title', 'Description': 'Genome short description', 'TermCount': '58875', 'IsDate': 'N', 'IsNumerical': 'N', 'SingleToken': 'Y', 'Hierarchy': 'N', 'IsHidden': 'N'}, {'Name': 'DSCR', 'FullName': 'Genome description', 'Description': 'Genome full description', 'TermCount': '34856', 'IsDate': 'N', 'IsNumerical': 'N', 'SingleToken': 'Y', 'Hierarchy': 'N', 'IsHidden': 'N'}, {'Name': 'STAT', 'FullName': 'Status', 'Description': 'Bioproject status', 'TermCount': '4', 'IsDate': 'N', 'IsNumerical': 'N', 'SingleToken': 'Y', 'Hierarchy': 'N', 'IsHidden': 'N'}, {'Name': 'AID', 'FullName': 'AssemblyID', 'Description': 'Release ID of full assembly', 'TermCount': '439628', 'IsDate': 'N', 'IsNumerical': 'Y', 'SingleToken': 'Y', 'Hierarchy': 'N', 'IsHidden': 'N'}, {'Name': 'AACC', 'FullName': 'Assembly Accession', 'Description': 'Accession of full assembly', 'TermCount': '439628', 'IsDate': 'N', 'IsNumerical': 'N', 'SingleToken': 'Y', 'Hierarchy': 'N', 'IsHidden': 'N'}, {'Name': 'ANAM', 'FullName': 'Assembly Name', 'Description': 'Name of full assembly', 'TermCount': '1017972', 'IsDate': 'N', 'IsNumerical': 'N', 'SingleToken': 'Y', 'Hierarchy': 'N', 'IsHidden': 'N'}, {'Name': 'GI', 'FullName': 'Replicon GI', 'Description': 'Replicon GI', 'TermCount': '692600', 'IsDate': 'N', 'IsNumerical': 'Y', 'SingleToken': 'Y', 'Hierarchy': 'N', 'IsHidden': 'N'}, {'Name': 'ACCN', 'FullName': 'Replicon accession', 'Description': 'Replicon Accession', 'TermCount': '1744246', 'IsDate': 'N', 'IsNumerical': 'N', 'SingleToken': 'Y', 'Hierarchy': 'N', 'IsHidden': 'N'}, {'Name': 'RNAM', 'FullName': 'Replicon name', 'Description': 'Replicon Name', 'TermCount': '25346', 'IsDate': 'N', 'IsNumerical': 'N', 'SingleToken': 'Y', 'Hierarchy': 'N', 'IsHidden': 'N'}, {'Name': 'PACC', 'FullName': 'Protein Accession', 'Description': 'Protein Accession', 'TermCount': '0', 'IsDate': 'N', 'IsNumerical': 'N', 'SingleToken': 'Y', 'Hierarchy': 'N', 'IsHidden': 'N'}, {'Name': 'PROT', 'FullName': 'Protein Name', 'Description': 'Protein Name', 'TermCount': '0', 'IsDate': 'N', 'IsNumerical': 'N', 'SingleToken': 'Y', 'Hierarchy': 'N', 'IsHidden': 'N'}, {'Name': 'PGI', 'FullName': 'Protein GI', 'Description': 'protein GI', 'TermCount': '0', 'IsDate': 'N', 'IsNumerical': 'Y', 'SingleToken': 'Y', 'Hierarchy': 'N', 'IsHidden': 'N'}, {'Name': 'GNID', 'FullName': 'GeneID', 'Description': 'GeneID', 'TermCount': '0', 'IsDate': 'N', 'IsNumerical': 'Y', 'SingleToken': 'Y', 'Hierarchy': 'N', 'IsHidden': 'N'}, {'Name': 'GENE', 'FullName': 'Gene Name', 'Description': 'Gene Name', 'TermCount': '7923948', 'IsDate': 'N', 'IsNumerical': 'N', 'SingleToken': 'Y', 'Hierarchy': 'N', 'IsHidden': 'N'}, {'Name': 'LTAG', 'FullName': 'Locus Tag', 'Description': 'Locus Tag', 'TermCount': '0', 'IsDate': 'N', 'IsNumerical': 'N', 'SingleToken': 'Y', 'Hierarchy': 'N', 'IsHidden': 'N'}, {'Name': 'WGSP', 'FullName': 'WGS prefix', 'Description': 'WGS Prefix', 'TermCount': '594527', 'IsDate': 'N', 'IsNumerical': 'N', 'SingleToken': 'Y', 'Hierarchy': 'N', 'IsHidden': 'N'}, {'Name': 'PMID', 'FullName': 'PubMed ID', 'Description': 'Unique identifier from PubMed', 'TermCount': '24447', 'IsDate': 'N', 'IsNumerical': 'Y', 'SingleToken': 'Y', 'Hierarchy': 'N', 'IsHidden': 'N'}, {'Name': 'BIOP', 'FullName': 'biological properties', 'Description': 'Biological Properties', 'TermCount': '0', 'IsDate': 'N', 'IsNumerical': 'N', 'SingleToken': 'Y', 'Hierarchy': 'N', 'IsHidden': 'N'}, {'Name': 'PCID', 'FullName': 'ProtClust ID', 'Description': 'Protein Clusters ID', 'TermCount': '45', 'IsDate': 'N', 'IsNumerical': 'Y', 'SingleToken': 'Y', 'Hierarchy': 'N', 'IsHidden': 'N'}, {'Name': 'PROP', 'FullName': 'Properties', 'Description': 'Project/Organism Properties', 'TermCount': '8', 'IsDate': 'N', 'IsNumerical': 'N', 'SingleToken': 'Y', 'Hierarchy': 'N', 'IsHidden': 'N'}, {'Name': 'CDT', 'FullName': 'Create Date', 'Description': 'Create Date', 'TermCount': '6890', 'IsDate': 'Y', 'IsNumerical': 'N', 'SingleToken': 'Y', 'Hierarchy': 'N', 'IsHidden': 'N'}, {'Name': 'STRN', 'FullName': 'Strain', 'Description': 'Organism Strain', 'TermCount': '362025', 'IsDate': 'N', 'IsNumerical': 'N', 'SingleToken': 'Y', 'Hierarchy': 'N', 'IsHidden': 'N'}, {'Name': 'HOST', 'FullName': 'Host', 'Description': 'Organism Host', 'TermCount': '32', 'IsDate': 'N', 'IsNumerical': 'N', 'SingleToken': 'Y', 'Hierarchy': 'N', 'IsHidden': 'N'}], 'LinkList': [{'Name': 'genome_assembly', 'Menu': 'Assembly', 'Description': 'Related Assembly records', 'DbTo': 'assembly'}, {'Name': 'genome_bioproject', 'Menu': 'BioProject Links', 'Description': 'Related BioProjects', 'DbTo': 'bioproject'}, {'Name': 'genome_gene', 'Menu': 'Gene Links', 'Description': 'Related Gene', 'DbTo': 'gene'}, {'Name': 'genome_nuccore', 'Menu': 'Components', 'Description': 'Constituent nucleotide sequence', 'DbTo': 'nuccore'}, {'Name': 'genome_nuccore_samespecies', 'Menu': 'Other genomes for species', 'Description': 'Other (nearly) complete genomes or particular genomic segments for the species from DDBJ/EMBL/GenBank', 'DbTo': 'nuccore'}, {'Name': 'genome_protein', 'Menu': 'Protein Links', 'Description': 'Constituent protein sequence', 'DbTo': 'protein'}, {'Name': 'genome_proteinclusters', 'Menu': 'Protein Cluster Links', 'Description': 'Related Protein Clusters', 'DbTo': 'proteinclusters'}, {'Name': 'genome_pubmed', 'Menu': 'PubMed Links', 'Description': 'PubMed articles cited by genome record', 'DbTo': 'pubmed'}, {'Name': 'genome_taxonomy', 'Menu': 'Taxonomy Links', 'Description': 'Taxonomy sequences associated with genome record', 'DbTo': 'taxonomy'}]}\n",
            "{'DbName': 'nuccore', 'MenuName': 'Nucleotide', 'Description': 'Core Nucleotide db', 'DbBuild': 'Build211231-1935m.1', 'Count': '486564110', 'LastUpdate': '2022/01/02 04:39', 'FieldList': [{'Name': 'ALL', 'FullName': 'All Fields', 'Description': 'All terms from all searchable fields', 'TermCount': '9510863008', 'IsDate': 'N', 'IsNumerical': 'N', 'SingleToken': 'N', 'Hierarchy': 'N', 'IsHidden': 'N'}, {'Name': 'UID', 'FullName': 'UID', 'Description': 'Unique number assigned to each sequence', 'TermCount': '0', 'IsDate': 'N', 'IsNumerical': 'Y', 'SingleToken': 'Y', 'Hierarchy': 'N', 'IsHidden': 'Y'}, {'Name': 'FILT', 'FullName': 'Filter', 'Description': 'Limits the records', 'TermCount': '436', 'IsDate': 'N', 'IsNumerical': 'N', 'SingleToken': 'Y', 'Hierarchy': 'N', 'IsHidden': 'N'}, {'Name': 'WORD', 'FullName': 'Text Word', 'Description': 'Free text associated with record', 'TermCount': '2106148315', 'IsDate': 'N', 'IsNumerical': 'N', 'SingleToken': 'N', 'Hierarchy': 'N', 'IsHidden': 'N'}, {'Name': 'TITL', 'FullName': 'Title', 'Description': 'Words in definition line', 'TermCount': '366058357', 'IsDate': 'N', 'IsNumerical': 'N', 'SingleToken': 'N', 'Hierarchy': 'N', 'IsHidden': 'N'}, {'Name': 'KYWD', 'FullName': 'Keyword', 'Description': 'Nonstandardized terms provided by submitter', 'TermCount': '23243069', 'IsDate': 'N', 'IsNumerical': 'N', 'SingleToken': 'Y', 'Hierarchy': 'N', 'IsHidden': 'N'}, {'Name': 'AUTH', 'FullName': 'Author', 'Description': 'Author(s) of publication', 'TermCount': '3275101', 'IsDate': 'N', 'IsNumerical': 'N', 'SingleToken': 'Y', 'Hierarchy': 'N', 'IsHidden': 'N'}, {'Name': 'JOUR', 'FullName': 'Journal', 'Description': 'Journal abbreviation of publication', 'TermCount': '27267', 'IsDate': 'N', 'IsNumerical': 'N', 'SingleToken': 'Y', 'Hierarchy': 'N', 'IsHidden': 'N'}, {'Name': 'VOL', 'FullName': 'Volume', 'Description': 'Volume number of publication', 'TermCount': '4125', 'IsDate': 'N', 'IsNumerical': 'N', 'SingleToken': 'Y', 'Hierarchy': 'N', 'IsHidden': 'N'}, {'Name': 'ISS', 'FullName': 'Issue', 'Description': 'Issue number of publication', 'TermCount': '4652', 'IsDate': 'N', 'IsNumerical': 'N', 'SingleToken': 'Y', 'Hierarchy': 'N', 'IsHidden': 'N'}, {'Name': 'PAGE', 'FullName': 'Page Number', 'Description': 'Page number(s) of publication', 'TermCount': '188844', 'IsDate': 'N', 'IsNumerical': 'N', 'SingleToken': 'Y', 'Hierarchy': 'N', 'IsHidden': 'N'}, {'Name': 'ORGN', 'FullName': 'Organism', 'Description': 'Scientific and common names of organism, and all higher levels of taxonomy', 'TermCount': '5689607', 'IsDate': 'N', 'IsNumerical': 'N', 'SingleToken': 'Y', 'Hierarchy': 'Y', 'IsHidden': 'N'}, {'Name': 'ACCN', 'FullName': 'Accession', 'Description': 'Accession number of sequence', 'TermCount': '1002451685', 'IsDate': 'N', 'IsNumerical': 'N', 'SingleToken': 'Y', 'Hierarchy': 'N', 'IsHidden': 'N'}, {'Name': 'PACC', 'FullName': 'Primary Accession', 'Description': 'Does not include retired secondary accessions', 'TermCount': '974009510', 'IsDate': 'N', 'IsNumerical': 'N', 'SingleToken': 'Y', 'Hierarchy': 'N', 'IsHidden': 'N'}, {'Name': 'GENE', 'FullName': 'Gene Name', 'Description': 'Name of gene associated with sequence', 'TermCount': '6675052934', 'IsDate': 'N', 'IsNumerical': 'N', 'SingleToken': 'Y', 'Hierarchy': 'N', 'IsHidden': 'N'}, {'Name': 'PROT', 'FullName': 'Protein Name', 'Description': 'Name of protein associated with sequence', 'TermCount': '7997325', 'IsDate': 'N', 'IsNumerical': 'N', 'SingleToken': 'Y', 'Hierarchy': 'N', 'IsHidden': 'N'}, {'Name': 'ECNO', 'FullName': 'EC/RN Number', 'Description': 'EC number for enzyme or CAS registry number', 'TermCount': '6040', 'IsDate': 'N', 'IsNumerical': 'N', 'SingleToken': 'Y', 'Hierarchy': 'N', 'IsHidden': 'N'}, {'Name': 'PDAT', 'FullName': 'Publication Date', 'Description': 'Date sequence added to GenBank', 'TermCount': '12120', 'IsDate': 'Y', 'IsNumerical': 'N', 'SingleToken': 'Y', 'Hierarchy': 'N', 'IsHidden': 'N'}, {'Name': 'MDAT', 'FullName': 'Modification Date', 'Description': 'Date of last update', 'TermCount': '8679', 'IsDate': 'Y', 'IsNumerical': 'N', 'SingleToken': 'Y', 'Hierarchy': 'N', 'IsHidden': 'N'}, {'Name': 'SUBS', 'FullName': 'Substance Name', 'Description': 'CAS chemical name or MEDLINE Substance Name', 'TermCount': '195040', 'IsDate': 'N', 'IsNumerical': 'N', 'SingleToken': 'Y', 'Hierarchy': 'N', 'IsHidden': 'N'}, {'Name': 'PROP', 'FullName': 'Properties', 'Description': 'Classification by source qualifiers and molecule type', 'TermCount': '52172', 'IsDate': 'N', 'IsNumerical': 'N', 'SingleToken': 'Y', 'Hierarchy': 'N', 'IsHidden': 'N'}, {'Name': 'SQID', 'FullName': 'SeqID String', 'Description': 'String identifier for sequence', 'TermCount': '268587096', 'IsDate': 'N', 'IsNumerical': 'N', 'SingleToken': 'Y', 'Hierarchy': 'N', 'IsHidden': 'N'}, {'Name': 'GPRJ', 'FullName': 'BioProject', 'Description': 'BioProject', 'TermCount': '242539', 'IsDate': 'N', 'IsNumerical': 'N', 'SingleToken': 'Y', 'Hierarchy': 'Y', 'IsHidden': 'N'}, {'Name': 'SLEN', 'FullName': 'Sequence Length', 'Description': 'Length of sequence', 'TermCount': '1251947', 'IsDate': 'N', 'IsNumerical': 'Y', 'SingleToken': 'Y', 'Hierarchy': 'N', 'IsHidden': 'N'}, {'Name': 'FKEY', 'FullName': 'Feature key', 'Description': 'Feature annotated on sequence', 'TermCount': '417', 'IsDate': 'N', 'IsNumerical': 'N', 'SingleToken': 'Y', 'Hierarchy': 'N', 'IsHidden': 'N'}, {'Name': 'PORG', 'FullName': 'Primary Organism', 'Description': 'Scientific and common names of primary organism, and all higher levels of taxonomy', 'TermCount': '5688802', 'IsDate': 'N', 'IsNumerical': 'N', 'SingleToken': 'Y', 'Hierarchy': 'Y', 'IsHidden': 'N'}, {'Name': 'COMP', 'FullName': 'Component Accession', 'Description': 'Component accessions for an assembly', 'TermCount': '206920444', 'IsDate': 'N', 'IsNumerical': 'N', 'SingleToken': 'Y', 'Hierarchy': 'N', 'IsHidden': 'N'}, {'Name': 'ASSM', 'FullName': 'Assembly', 'Description': 'Assembly', 'TermCount': '236946', 'IsDate': 'N', 'IsNumerical': 'N', 'SingleToken': 'Y', 'Hierarchy': 'N', 'IsHidden': 'N'}, {'Name': 'DIV', 'FullName': 'Division', 'Description': 'Division', 'TermCount': '19', 'IsDate': 'N', 'IsNumerical': 'N', 'SingleToken': 'Y', 'Hierarchy': 'N', 'IsHidden': 'N'}, {'Name': 'STRN', 'FullName': 'Strain', 'Description': 'Strain', 'TermCount': '2760632', 'IsDate': 'N', 'IsNumerical': 'N', 'SingleToken': 'Y', 'Hierarchy': 'N', 'IsHidden': 'N'}, {'Name': 'ISOL', 'FullName': 'Isolate', 'Description': 'Isolate', 'TermCount': '6676369', 'IsDate': 'N', 'IsNumerical': 'N', 'SingleToken': 'Y', 'Hierarchy': 'N', 'IsHidden': 'N'}, {'Name': 'CULT', 'FullName': 'Cultivar', 'Description': 'Cultivar', 'TermCount': '39761', 'IsDate': 'N', 'IsNumerical': 'N', 'SingleToken': 'Y', 'Hierarchy': 'N', 'IsHidden': 'N'}, {'Name': 'BRD', 'FullName': 'Breed', 'Description': 'Breed', 'TermCount': '5829', 'IsDate': 'N', 'IsNumerical': 'N', 'SingleToken': 'Y', 'Hierarchy': 'N', 'IsHidden': 'N'}, {'Name': 'BIOS', 'FullName': 'BioSample', 'Description': 'BioSample', 'TermCount': '3254622', 'IsDate': 'N', 'IsNumerical': 'N', 'SingleToken': 'Y', 'Hierarchy': 'N', 'IsHidden': 'N'}], 'LinkList': [{'Name': 'nucleotide_genome', 'Menu': 'Assembly to Genome', 'Description': 'Genome record containing nucleotide sequence', 'DbTo': 'genome'}]}\n",
            "{'DbName': 'pubmed', 'MenuName': 'PubMed', 'Description': 'PubMed bibliographic record', 'DbBuild': 'Build211230-2142m.3', 'Count': '33509575', 'LastUpdate': '2021/12/31 14:35', 'FieldList': [{'Name': 'ALL', 'FullName': 'All Fields', 'Description': 'All terms from all searchable fields', 'TermCount': '271511312', 'IsDate': 'N', 'IsNumerical': 'N', 'SingleToken': 'N', 'Hierarchy': 'N', 'IsHidden': 'N'}, {'Name': 'UID', 'FullName': 'UID', 'Description': 'Unique number assigned to publication', 'TermCount': '0', 'IsDate': 'N', 'IsNumerical': 'Y', 'SingleToken': 'Y', 'Hierarchy': 'N', 'IsHidden': 'Y'}, {'Name': 'FILT', 'FullName': 'Filter', 'Description': 'Limits the records', 'TermCount': '2031', 'IsDate': 'N', 'IsNumerical': 'N', 'SingleToken': 'Y', 'Hierarchy': 'N', 'IsHidden': 'N'}, {'Name': 'TITL', 'FullName': 'Title', 'Description': 'Words in title of publication', 'TermCount': '20017714', 'IsDate': 'N', 'IsNumerical': 'N', 'SingleToken': 'N', 'Hierarchy': 'N', 'IsHidden': 'N'}, {'Name': 'WORD', 'FullName': 'Text Word', 'Description': 'Free text associated with publication', 'TermCount': '75934987', 'IsDate': 'N', 'IsNumerical': 'N', 'SingleToken': 'N', 'Hierarchy': 'N', 'IsHidden': 'N'}, {'Name': 'MESH', 'FullName': 'MeSH Terms', 'Description': 'Medical Subject Headings assigned to publication', 'TermCount': '627633', 'IsDate': 'N', 'IsNumerical': 'N', 'SingleToken': 'Y', 'Hierarchy': 'Y', 'IsHidden': 'N'}, {'Name': 'MAJR', 'FullName': 'MeSH Major Topic', 'Description': 'MeSH terms of major importance to publication', 'TermCount': '565689', 'IsDate': 'N', 'IsNumerical': 'N', 'SingleToken': 'Y', 'Hierarchy': 'Y', 'IsHidden': 'N'}, {'Name': 'AUTH', 'FullName': 'Author', 'Description': 'Author(s) of publication', 'TermCount': '22563131', 'IsDate': 'N', 'IsNumerical': 'N', 'SingleToken': 'Y', 'Hierarchy': 'N', 'IsHidden': 'N'}, {'Name': 'JOUR', 'FullName': 'Journal', 'Description': 'Journal abbreviation of publication', 'TermCount': '213519', 'IsDate': 'N', 'IsNumerical': 'N', 'SingleToken': 'Y', 'Hierarchy': 'N', 'IsHidden': 'N'}, {'Name': 'AFFL', 'FullName': 'Affiliation', 'Description': \"Author's institutional affiliation and address\", 'TermCount': '64944617', 'IsDate': 'N', 'IsNumerical': 'N', 'SingleToken': 'N', 'Hierarchy': 'N', 'IsHidden': 'N'}, {'Name': 'ECNO', 'FullName': 'EC/RN Number', 'Description': 'EC number for enzyme or CAS registry number', 'TermCount': '107309', 'IsDate': 'N', 'IsNumerical': 'N', 'SingleToken': 'Y', 'Hierarchy': 'N', 'IsHidden': 'N'}, {'Name': 'SUBS', 'FullName': 'Supplementary Concept', 'Description': 'CAS chemical name or MEDLINE Substance Name', 'TermCount': '272059', 'IsDate': 'N', 'IsNumerical': 'N', 'SingleToken': 'Y', 'Hierarchy': 'N', 'IsHidden': 'N'}, {'Name': 'PDAT', 'FullName': 'Date - Publication', 'Description': 'Date of publication', 'TermCount': '41389', 'IsDate': 'Y', 'IsNumerical': 'N', 'SingleToken': 'Y', 'Hierarchy': 'N', 'IsHidden': 'N'}, {'Name': 'EDAT', 'FullName': 'Date - Entrez', 'Description': 'Date publication first accessible through Entrez', 'TermCount': '40395', 'IsDate': 'Y', 'IsNumerical': 'N', 'SingleToken': 'Y', 'Hierarchy': 'N', 'IsHidden': 'N'}, {'Name': 'VOL', 'FullName': 'Volume', 'Description': 'Volume number of publication', 'TermCount': '14596', 'IsDate': 'N', 'IsNumerical': 'N', 'SingleToken': 'Y', 'Hierarchy': 'N', 'IsHidden': 'N'}, {'Name': 'PAGE', 'FullName': 'Pagination', 'Description': 'Page number(s) of publication', 'TermCount': '4740831', 'IsDate': 'N', 'IsNumerical': 'N', 'SingleToken': 'Y', 'Hierarchy': 'N', 'IsHidden': 'N'}, {'Name': 'PTYP', 'FullName': 'Publication Type', 'Description': 'Type of publication (e.g., review)', 'TermCount': '90', 'IsDate': 'N', 'IsNumerical': 'N', 'SingleToken': 'Y', 'Hierarchy': 'Y', 'IsHidden': 'N'}, {'Name': 'LANG', 'FullName': 'Language', 'Description': 'Language of publication', 'TermCount': '59', 'IsDate': 'N', 'IsNumerical': 'N', 'SingleToken': 'Y', 'Hierarchy': 'N', 'IsHidden': 'N'}, {'Name': 'ISS', 'FullName': 'Issue', 'Description': 'Issue number of publication', 'TermCount': '17163', 'IsDate': 'N', 'IsNumerical': 'N', 'SingleToken': 'Y', 'Hierarchy': 'N', 'IsHidden': 'N'}, {'Name': 'SUBH', 'FullName': 'MeSH Subheading', 'Description': 'Additional specificity for MeSH term', 'TermCount': '76', 'IsDate': 'N', 'IsNumerical': 'N', 'SingleToken': 'Y', 'Hierarchy': 'Y', 'IsHidden': 'N'}, {'Name': 'SI', 'FullName': 'Secondary Source ID', 'Description': 'Cross-reference from publication to other databases', 'TermCount': '8004757', 'IsDate': 'N', 'IsNumerical': 'N', 'SingleToken': 'Y', 'Hierarchy': 'N', 'IsHidden': 'N'}, {'Name': 'MHDA', 'FullName': 'Date - MeSH', 'Description': 'Date publication was indexed with MeSH terms', 'TermCount': '40253', 'IsDate': 'Y', 'IsNumerical': 'N', 'SingleToken': 'Y', 'Hierarchy': 'N', 'IsHidden': 'N'}, {'Name': 'TIAB', 'FullName': 'Title/Abstract', 'Description': 'Free text associated with Abstract/Title', 'TermCount': '63498705', 'IsDate': 'N', 'IsNumerical': 'N', 'SingleToken': 'N', 'Hierarchy': 'N', 'IsHidden': 'N'}, {'Name': 'OTRM', 'FullName': 'Other Term', 'Description': 'Other terms associated with publication', 'TermCount': '5800458', 'IsDate': 'N', 'IsNumerical': 'N', 'SingleToken': 'N', 'Hierarchy': 'N', 'IsHidden': 'N'}, {'Name': 'INVR', 'FullName': 'Investigator', 'Description': 'Investigator', 'TermCount': '2185106', 'IsDate': 'N', 'IsNumerical': 'N', 'SingleToken': 'Y', 'Hierarchy': 'N', 'IsHidden': 'N'}, {'Name': 'COLN', 'FullName': 'Author - Corporate', 'Description': 'Corporate Author of publication', 'TermCount': '324381', 'IsDate': 'N', 'IsNumerical': 'N', 'SingleToken': 'N', 'Hierarchy': 'N', 'IsHidden': 'N'}, {'Name': 'CNTY', 'FullName': 'Place of Publication', 'Description': 'Country of publication', 'TermCount': '231', 'IsDate': 'N', 'IsNumerical': 'N', 'SingleToken': 'N', 'Hierarchy': 'N', 'IsHidden': 'Y'}, {'Name': 'PAPX', 'FullName': 'Pharmacological Action', 'Description': 'MeSH pharmacological action pre-explosions', 'TermCount': '553', 'IsDate': 'N', 'IsNumerical': 'N', 'SingleToken': 'Y', 'Hierarchy': 'N', 'IsHidden': 'N'}, {'Name': 'GRNT', 'FullName': 'Grant Number', 'Description': 'NIH Grant Numbers', 'TermCount': '6281202', 'IsDate': 'N', 'IsNumerical': 'N', 'SingleToken': 'Y', 'Hierarchy': 'N', 'IsHidden': 'N'}, {'Name': 'MDAT', 'FullName': 'Date - Modification', 'Description': 'Date of last modification', 'TermCount': '7091', 'IsDate': 'Y', 'IsNumerical': 'N', 'SingleToken': 'Y', 'Hierarchy': 'N', 'IsHidden': 'N'}, {'Name': 'CDAT', 'FullName': 'Date - Completion', 'Description': 'Date of completion', 'TermCount': '12483', 'IsDate': 'Y', 'IsNumerical': 'N', 'SingleToken': 'Y', 'Hierarchy': 'N', 'IsHidden': 'N'}, {'Name': 'PID', 'FullName': 'Publisher ID', 'Description': 'Publisher ID', 'TermCount': '36719562', 'IsDate': 'N', 'IsNumerical': 'N', 'SingleToken': 'Y', 'Hierarchy': 'N', 'IsHidden': 'Y'}, {'Name': 'FAUT', 'FullName': 'Author - First', 'Description': 'First Author of publication', 'TermCount': '11846888', 'IsDate': 'N', 'IsNumerical': 'N', 'SingleToken': 'Y', 'Hierarchy': 'N', 'IsHidden': 'N'}, {'Name': 'FULL', 'FullName': 'Author - Full', 'Description': 'Full Author Name(s) of publication', 'TermCount': '16502453', 'IsDate': 'N', 'IsNumerical': 'N', 'SingleToken': 'Y', 'Hierarchy': 'N', 'IsHidden': 'N'}, {'Name': 'FINV', 'FullName': 'Investigator - Full', 'Description': 'Full name of investigator', 'TermCount': '1359880', 'IsDate': 'N', 'IsNumerical': 'N', 'SingleToken': 'Y', 'Hierarchy': 'N', 'IsHidden': 'N'}, {'Name': 'TT', 'FullName': 'Transliterated Title', 'Description': 'Words in transliterated title of publication', 'TermCount': '2395883', 'IsDate': 'N', 'IsNumerical': 'N', 'SingleToken': 'N', 'Hierarchy': 'N', 'IsHidden': 'N'}, {'Name': 'LAUT', 'FullName': 'Author - Last', 'Description': 'Last Author of publication', 'TermCount': '9655737', 'IsDate': 'N', 'IsNumerical': 'N', 'SingleToken': 'Y', 'Hierarchy': 'N', 'IsHidden': 'N'}, {'Name': 'PPDT', 'FullName': 'Print Publication Date', 'Description': 'Date of print publication', 'TermCount': '41370', 'IsDate': 'Y', 'IsNumerical': 'N', 'SingleToken': 'Y', 'Hierarchy': 'N', 'IsHidden': 'Y'}, {'Name': 'EPDT', 'FullName': 'Electronic Publication Date', 'Description': 'Date of Electronic publication', 'TermCount': '8600', 'IsDate': 'Y', 'IsNumerical': 'N', 'SingleToken': 'Y', 'Hierarchy': 'N', 'IsHidden': 'Y'}, {'Name': 'LID', 'FullName': 'Location ID', 'Description': 'ELocation ID', 'TermCount': '27159019', 'IsDate': 'N', 'IsNumerical': 'N', 'SingleToken': 'Y', 'Hierarchy': 'N', 'IsHidden': 'N'}, {'Name': 'CRDT', 'FullName': 'Date - Create', 'Description': 'Date publication first accessible through Entrez', 'TermCount': '31446', 'IsDate': 'Y', 'IsNumerical': 'N', 'SingleToken': 'Y', 'Hierarchy': 'N', 'IsHidden': 'N'}, {'Name': 'BOOK', 'FullName': 'Book', 'Description': 'ID of the book that contains the document', 'TermCount': '8687', 'IsDate': 'N', 'IsNumerical': 'N', 'SingleToken': 'Y', 'Hierarchy': 'N', 'IsHidden': 'N'}, {'Name': 'ED', 'FullName': 'Editor', 'Description': \"Section's Editor\", 'TermCount': '6369', 'IsDate': 'N', 'IsNumerical': 'N', 'SingleToken': 'Y', 'Hierarchy': 'N', 'IsHidden': 'N'}, {'Name': 'ISBN', 'FullName': 'ISBN', 'Description': 'ISBN', 'TermCount': '4882', 'IsDate': 'N', 'IsNumerical': 'N', 'SingleToken': 'Y', 'Hierarchy': 'N', 'IsHidden': 'N'}, {'Name': 'PUBN', 'FullName': 'Publisher', 'Description': \"Publisher's name\", 'TermCount': '805', 'IsDate': 'N', 'IsNumerical': 'N', 'SingleToken': 'Y', 'Hierarchy': 'N', 'IsHidden': 'N'}, {'Name': 'AUCL', 'FullName': 'Author Cluster ID', 'Description': 'Author Cluster ID', 'TermCount': '0', 'IsDate': 'N', 'IsNumerical': 'N', 'SingleToken': 'Y', 'Hierarchy': 'N', 'IsHidden': 'Y'}, {'Name': 'EID', 'FullName': 'Extended PMID', 'Description': 'Extended PMID', 'TermCount': '33481269', 'IsDate': 'N', 'IsNumerical': 'N', 'SingleToken': 'Y', 'Hierarchy': 'N', 'IsHidden': 'Y'}, {'Name': 'DSO', 'FullName': 'DSO', 'Description': 'Additional text from the summary', 'TermCount': '500195', 'IsDate': 'N', 'IsNumerical': 'N', 'SingleToken': 'N', 'Hierarchy': 'N', 'IsHidden': 'Y'}, {'Name': 'AUID', 'FullName': 'Author - Identifier', 'Description': 'Author Identifier', 'TermCount': '9133569', 'IsDate': 'N', 'IsNumerical': 'N', 'SingleToken': 'Y', 'Hierarchy': 'N', 'IsHidden': 'N'}, {'Name': 'PS', 'FullName': 'Subject - Personal Name', 'Description': 'Personal Name as Subject', 'TermCount': '559500', 'IsDate': 'N', 'IsNumerical': 'N', 'SingleToken': 'Y', 'Hierarchy': 'N', 'IsHidden': 'N'}, {'Name': 'COIS', 'FullName': 'Conflict of Interest Statements', 'Description': 'Conflict of Interest Statements', 'TermCount': '651470', 'IsDate': 'N', 'IsNumerical': 'N', 'SingleToken': 'N', 'Hierarchy': 'N', 'IsHidden': 'N'}], 'LinkList': [{'Name': 'pubmed_assembly', 'Menu': 'Assembly', 'Description': 'Assembly', 'DbTo': 'assembly'}, {'Name': 'pubmed_bioproject', 'Menu': 'Project Links', 'Description': 'Related Projects', 'DbTo': 'bioproject'}, {'Name': 'pubmed_biosample', 'Menu': 'BioSample Links', 'Description': 'BioSample links', 'DbTo': 'biosample'}, {'Name': 'pubmed_biosystems', 'Menu': 'BioSystem Links', 'Description': 'BioSystems', 'DbTo': 'biosystems'}, {'Name': 'pubmed_books_refs', 'Menu': 'Cited in Books', 'Description': 'PubMed links associated with Books', 'DbTo': 'books'}, {'Name': 'pubmed_cdd', 'Menu': 'Conserved Domain Links', 'Description': 'Link to related CDD entry', 'DbTo': 'cdd'}, {'Name': 'pubmed_clinvar', 'Menu': 'ClinVar', 'Description': 'Clinical variations associated with publication', 'DbTo': 'clinvar'}, {'Name': 'pubmed_clinvar_calculated', 'Menu': 'ClinVar (calculated)', 'Description': 'Clinical variations calculated to be associated with publication', 'DbTo': 'clinvar'}, {'Name': 'pubmed_dbvar', 'Menu': 'dbVar', 'Description': 'Link from PubMed to dbVar', 'DbTo': 'dbvar'}, {'Name': 'pubmed_gap', 'Menu': 'dbGaP Links', 'Description': 'Related dbGaP record', 'DbTo': 'gap'}, {'Name': 'pubmed_gds', 'Menu': 'GEO DataSet Links', 'Description': 'Related GEO DataSets', 'DbTo': 'gds'}, {'Name': 'pubmed_gene', 'Menu': 'Gene Links', 'Description': 'Link to related Genes', 'DbTo': 'gene'}, {'Name': 'pubmed_gene_bookrecords', 'Menu': 'Gene (from Bookshelf)', 'Description': 'Gene records in this citation', 'DbTo': 'gene'}, {'Name': 'pubmed_gene_citedinomim', 'Menu': 'Gene (OMIM) Links', 'Description': 'PubMed links to Gene derived from pubmed_omim_cited links', 'DbTo': 'gene'}, {'Name': 'pubmed_gene_pmc_nucleotide', 'Menu': 'Gene (nucleotide/PMC)', 'Description': 'Records in Gene identified from shared sequence and PMC links.', 'DbTo': 'gene'}, {'Name': 'pubmed_gene_rif', 'Menu': 'Gene (GeneRIF) Links', 'Description': 'Link to Gene for the GeneRIF subcategory', 'DbTo': 'gene'}, {'Name': 'pubmed_genome', 'Menu': 'Genome Links', 'Description': 'Published genome sequences', 'DbTo': 'genome'}, {'Name': 'pubmed_geoprofiles', 'Menu': 'GEO Profile Links', 'Description': 'GEO records associated with pubmed record', 'DbTo': 'geoprofiles'}, {'Name': 'pubmed_homologene', 'Menu': 'HomoloGene Links', 'Description': 'Related HomoloGene', 'DbTo': 'homologene'}, {'Name': 'pubmed_medgen', 'Menu': 'MedGen', 'Description': 'Related information in MedGen', 'DbTo': 'medgen'}, {'Name': 'pubmed_medgen_bookshelf_cited', 'Menu': 'MedGen (Bookshelf cited)', 'Description': 'Related records in MedGen based on citations in GeneReviews and Medical Genetics Summaries', 'DbTo': 'medgen'}, {'Name': 'pubmed_medgen_genereviews', 'Menu': 'MedGen (GeneReviews)', 'Description': 'Related MedGen records', 'DbTo': 'medgen'}, {'Name': 'pubmed_medgen_omim', 'Menu': 'MedGen (OMIM)', 'Description': 'Related information in MedGen (OMIM)', 'DbTo': 'medgen'}, {'Name': 'pubmed_nuccore', 'Menu': 'Nucleotide Links', 'Description': 'Published Nucleotide sequences', 'DbTo': 'nuccore'}, {'Name': 'pubmed_nuccore_refseq', 'Menu': 'Nucleotide (RefSeq) Links', 'Description': 'Link to Nucleotide RefSeqs', 'DbTo': 'nuccore'}, {'Name': 'pubmed_nuccore_weighted', 'Menu': 'Nucleotide (Weighted) Links', 'Description': 'Links to nuccore', 'DbTo': 'nuccore'}, {'Name': 'pubmed_omim_bookrecords', 'Menu': 'OMIM (from Bookshelf)', 'Description': 'OMIM records in this citation', 'DbTo': 'omim'}, {'Name': 'pubmed_omim_calculated', 'Menu': 'OMIM (calculated) Links', 'Description': 'OMIM (calculated) Links', 'DbTo': 'omim'}, {'Name': 'pubmed_omim_cited', 'Menu': 'OMIM (cited) Links', 'Description': 'OMIM (cited) Links', 'DbTo': 'omim'}, {'Name': 'pubmed_pcassay', 'Menu': 'PubChem BioAssay', 'Description': 'Related PubChem BioAssay', 'DbTo': 'pcassay'}, {'Name': 'pubmed_pccompound', 'Menu': 'PubChem Compound', 'Description': 'Related PubChem Compound', 'DbTo': 'pccompound'}, {'Name': 'pubmed_pccompound_mesh', 'Menu': 'PubChem Compound (MeSH Keyword)', 'Description': 'Related PubChem Compound via MeSH', 'DbTo': 'pccompound'}, {'Name': 'pubmed_pccompound_publisher', 'Menu': 'PubChem Compound (Publisher)', 'Description': 'Publisher deposited structures linked to PubChem Compound', 'DbTo': 'pccompound'}, {'Name': 'pubmed_pcsubstance', 'Menu': 'PubChem Substance Links', 'Description': 'Related PubChem Substance', 'DbTo': 'pcsubstance'}, {'Name': 'pubmed_pcsubstance_bookrecords', 'Menu': 'PubChem Substance (from Bookshelf)', 'Description': 'Structures in the PubChem Substance database in this citation', 'DbTo': 'pcsubstance'}, {'Name': 'pubmed_pcsubstance_publisher', 'Menu': 'PubChem Substance (Publisher)', 'Description': 'PubChem Substances supplied by publisher', 'DbTo': 'pcsubstance'}, {'Name': 'pubmed_pmc', 'Menu': 'PMC Links', 'Description': 'Free full text articles in PMC', 'DbTo': 'pmc'}, {'Name': 'pubmed_pmc_bookrecords', 'Menu': 'References in PMC for this Bookshelf citation', 'Description': 'Full text of articles in PubMed Central cited in this record', 'DbTo': 'pmc'}, {'Name': 'pubmed_pmc_embargo', 'Menu': '', 'Description': 'Embargoed PMC article associated with PubMed', 'DbTo': 'pmc'}, {'Name': 'pubmed_pmc_local', 'Menu': '', 'Description': 'Free full text articles in PMC', 'DbTo': 'pmc'}, {'Name': 'pubmed_pmc_refs', 'Menu': 'Cited in PMC', 'Description': 'PubMed links associated with PMC', 'DbTo': 'pmc'}, {'Name': 'pubmed_popset', 'Menu': 'PopSet Links', 'Description': 'Published population set', 'DbTo': 'popset'}, {'Name': 'pubmed_probe', 'Menu': 'Probe Links', 'Description': 'Related Probe entry', 'DbTo': 'probe'}, {'Name': 'pubmed_protein', 'Menu': 'Protein Links', 'Description': 'Published protein sequences', 'DbTo': 'protein'}, {'Name': 'pubmed_protein_refseq', 'Menu': 'Protein (RefSeq) Links', 'Description': 'Link to Protein RefSeqs', 'DbTo': 'protein'}, {'Name': 'pubmed_protein_weighted', 'Menu': 'Protein (Weighted) Links', 'Description': 'Links to protein', 'DbTo': 'protein'}, {'Name': 'pubmed_proteinclusters', 'Menu': 'Protein Cluster Links', 'Description': 'Related Protein Clusters', 'DbTo': 'proteinclusters'}, {'Name': 'pubmed_protfam', 'Menu': 'Protein Family Models', 'Description': 'Protein family models supported by a particular publication', 'DbTo': 'protfam'}, {'Name': 'pubmed_pubmed', 'Menu': 'Similar articles', 'Description': 'Similar PubMed articles, obtained by matching text and MeSH terms', 'DbTo': 'pubmed'}, {'Name': 'pubmed_pubmed_alsoviewed', 'Menu': 'Articles frequently viewed together', 'Description': 'Articles frequently viewed together', 'DbTo': 'pubmed'}, {'Name': 'pubmed_pubmed_bookrecords', 'Menu': 'References for this Bookshelf citation', 'Description': 'PubMed abstracts for articles cited in this record', 'DbTo': 'pubmed'}, {'Name': 'pubmed_pubmed_refs', 'Menu': 'References for PMC Articles', 'Description': 'References for this PMC Article', 'DbTo': 'pubmed'}, {'Name': 'pubmed_snp', 'Menu': 'SNP Links', 'Description': 'PubMed to SNP links', 'DbTo': 'snp'}, {'Name': 'pubmed_snp_cited', 'Menu': 'SNP (Cited)', 'Description': 'Related SNP (Cited) records', 'DbTo': 'snp'}, {'Name': 'pubmed_sra', 'Menu': 'SRA Links', 'Description': 'Links to Short Read Archive Experiments', 'DbTo': 'sra'}, {'Name': 'pubmed_structure', 'Menu': 'Structure Links', 'Description': 'Published 3D structures', 'DbTo': 'structure'}, {'Name': 'pubmed_taxonomy_entrez', 'Menu': 'Taxonomy via GenBank', 'Description': 'Related Taxonomy entry computed using other Entrez links', 'DbTo': 'taxonomy'}]}\n"
          ]
        }
      ]
    },
    {
      "cell_type": "markdown",
      "metadata": {
        "id": "sfhk9xd569k9"
      },
      "source": [
        "## 3. Пример за работа со Seq објекти во процесите транскрипција и транслација"
      ]
    },
    {
      "cell_type": "code",
      "metadata": {
        "id": "osB8bqfe7O3x",
        "colab": {
          "base_uri": "https://localhost:8080/"
        },
        "outputId": "83177d3e-89a7-4651-a20c-a83febc0ba6b"
      },
      "source": [
        "from Bio.Seq import Seq\n",
        "my_seq = Seq(\"GATCGACGGCA\")\n",
        "for index, letter in enumerate(my_seq):\n",
        "    print(\"%i %s\" % (index, letter))"
      ],
      "execution_count": null,
      "outputs": [
        {
          "output_type": "stream",
          "name": "stdout",
          "text": [
            "0 G\n",
            "1 A\n",
            "2 T\n",
            "3 C\n",
            "4 G\n",
            "5 A\n",
            "6 C\n",
            "7 G\n",
            "8 G\n",
            "9 C\n",
            "10 A\n"
          ]
        }
      ]
    },
    {
      "cell_type": "code",
      "source": [
        "#Accessing elements\n",
        "print(my_seq[2]) #third letter\n",
        "print(my_seq[-1]) #last letter"
      ],
      "metadata": {
        "colab": {
          "base_uri": "https://localhost:8080/"
        },
        "id": "EKVcpNLbBo-_",
        "outputId": "21a974a2-4adc-4a25-e11f-919bc4ade01f"
      },
      "execution_count": null,
      "outputs": [
        {
          "output_type": "stream",
          "name": "stdout",
          "text": [
            "T\n",
            "A\n"
          ]
        }
      ]
    },
    {
      "cell_type": "code",
      "source": [
        "Seq(\"GATCGACGGCA\").count(\"GAC\")"
      ],
      "metadata": {
        "colab": {
          "base_uri": "https://localhost:8080/"
        },
        "id": "S0_XsYexDNkQ",
        "outputId": "3340b1df-6a0d-49ef-c016-f12b21049f1f"
      },
      "execution_count": null,
      "outputs": [
        {
          "output_type": "execute_result",
          "data": {
            "text/plain": [
              "1"
            ]
          },
          "metadata": {},
          "execution_count": 12
        }
      ]
    },
    {
      "cell_type": "code",
      "source": [
        "#Calculating GC percentage\n",
        "from Bio.SeqUtils import GC\n",
        "my_seq = Seq(\"GATCGACGGCAGATCGACGGCATACA\")\n",
        "GC(my_seq)"
      ],
      "metadata": {
        "colab": {
          "base_uri": "https://localhost:8080/"
        },
        "id": "mKh3X47mDlg9",
        "outputId": "2ffd7192-cb51-4f06-f0f6-6324c435a151"
      },
      "execution_count": null,
      "outputs": [
        {
          "output_type": "execute_result",
          "data": {
            "text/plain": [
              "57.69230769230769"
            ]
          },
          "metadata": {},
          "execution_count": 13
        }
      ]
    },
    {
      "cell_type": "code",
      "source": [
        "#Slicing sequence\n",
        "my_seq[4:12]\n",
        "#Seq('GACGGCAG')\n",
        "\n"
      ],
      "metadata": {
        "colab": {
          "base_uri": "https://localhost:8080/"
        },
        "id": "20_v-4WqD9EE",
        "outputId": "e10e1fd4-c0f3-4d5a-fd46-d436769afd38"
      },
      "execution_count": null,
      "outputs": [
        {
          "output_type": "execute_result",
          "data": {
            "text/plain": [
              "Seq('GACGGCAG')"
            ]
          },
          "metadata": {},
          "execution_count": 14
        }
      ]
    },
    {
      "cell_type": "code",
      "source": [
        "#first, second and third codon positions\n",
        "my_seq[0::3]\n"
      ],
      "metadata": {
        "colab": {
          "base_uri": "https://localhost:8080/"
        },
        "id": "PZ0BbDCETQjh",
        "outputId": "5e769720-768c-415e-edbf-f8a4c02ebf1b"
      },
      "execution_count": null,
      "outputs": [
        {
          "output_type": "execute_result",
          "data": {
            "text/plain": [
              "Seq('GCCCAGGAC')"
            ]
          },
          "metadata": {},
          "execution_count": 15
        }
      ]
    },
    {
      "cell_type": "code",
      "source": [
        "my_seq[1::3]\n"
      ],
      "metadata": {
        "colab": {
          "base_uri": "https://localhost:8080/"
        },
        "id": "hWvDRQ-gTS6g",
        "outputId": "a1dbf270-407f-4f76-9f1e-1a2ec126cc04"
      },
      "execution_count": null,
      "outputs": [
        {
          "output_type": "execute_result",
          "data": {
            "text/plain": [
              "Seq('AGGATAGTA')"
            ]
          },
          "metadata": {},
          "execution_count": 16
        }
      ]
    },
    {
      "cell_type": "code",
      "source": [
        "my_seq[2::3]"
      ],
      "metadata": {
        "colab": {
          "base_uri": "https://localhost:8080/"
        },
        "id": "BbgSH6aGTT8O",
        "outputId": "5a612e23-19eb-410d-b2a4-3c62958dcb6e"
      },
      "execution_count": null,
      "outputs": [
        {
          "output_type": "execute_result",
          "data": {
            "text/plain": [
              "Seq('TAGGCCCA')"
            ]
          },
          "metadata": {},
          "execution_count": 17
        }
      ]
    },
    {
      "cell_type": "code",
      "source": [
        "# Seq objects into strings\n",
        "fasta_format_string = \">Име \\n%s\\n\" % my_seq\n",
        "print(fasta_format_string)"
      ],
      "metadata": {
        "colab": {
          "base_uri": "https://localhost:8080/"
        },
        "id": "OktVawYAToS-",
        "outputId": "0198b3df-03db-4471-9f4f-f98266d88f4d"
      },
      "execution_count": null,
      "outputs": [
        {
          "output_type": "stream",
          "name": "stdout",
          "text": [
            ">Име \n",
            "GATCGACGGCAGATCGACGGCATACA\n",
            "\n"
          ]
        }
      ]
    },
    {
      "cell_type": "code",
      "source": [
        "# Нуклеотидни секвенци и спротивен обратен комплемент\n",
        "\n",
        "nucleo_seq = Seq(\"GATCGATGGGCCTATATAGGATCGAAAATCGC\")\n",
        "nucleo_seq\n"
      ],
      "metadata": {
        "colab": {
          "base_uri": "https://localhost:8080/"
        },
        "id": "H36gMSxkWCZn",
        "outputId": "f9f4b864-2fc7-4491-ca17-5f891a8b703d"
      },
      "execution_count": null,
      "outputs": [
        {
          "output_type": "execute_result",
          "data": {
            "text/plain": [
              "Seq('GATCGATGGGCCTATATAGGATCGAAAATCGC')"
            ]
          },
          "metadata": {},
          "execution_count": 19
        }
      ]
    },
    {
      "cell_type": "code",
      "source": [
        "nucleo_seq.complement()\n"
      ],
      "metadata": {
        "colab": {
          "base_uri": "https://localhost:8080/"
        },
        "id": "M3t2CFCDYnmT",
        "outputId": "06825c16-d4b3-4f5c-ad39-7d71f3a12268"
      },
      "execution_count": null,
      "outputs": [
        {
          "output_type": "execute_result",
          "data": {
            "text/plain": [
              "Seq('CTAGCTACCCGGATATATCCTAGCTTTTAGCG')"
            ]
          },
          "metadata": {},
          "execution_count": 20
        }
      ]
    },
    {
      "cell_type": "markdown",
      "source": [
        "Seq('CTAGCTACCCGGATATATCCTAGCTTTTAGCG')"
      ],
      "metadata": {
        "id": "IbAbl2nmYxYL"
      }
    },
    {
      "cell_type": "code",
      "source": [
        "nucleo_seq.reverse_complement()"
      ],
      "metadata": {
        "colab": {
          "base_uri": "https://localhost:8080/"
        },
        "id": "RJBPKCO7Y0iz",
        "outputId": "3fc71eb1-0979-49ad-e752-2d8afd0a5d4b"
      },
      "execution_count": null,
      "outputs": [
        {
          "output_type": "execute_result",
          "data": {
            "text/plain": [
              "Seq('GCGATTTTCGATCCTATATAGGCCCATCGATC')"
            ]
          },
          "metadata": {},
          "execution_count": 21
        }
      ]
    },
    {
      "cell_type": "markdown",
      "source": [
        "Seq('GCGATTTTCGATCCTATATAGGCCCATCGATC')"
      ],
      "metadata": {
        "id": "Kb4zBvSjY9R5"
      }
    },
    {
      "cell_type": "markdown",
      "source": [
        "\n",
        "\n",
        "\n",
        "```\n",
        "Транскрипција \n",
        "\n",
        " \n",
        " \tDNA coding strand (aka Crick strand, strand +1)\t \n",
        "5’\tATGGCCATTGTAATGGGCCGCTGAAAGGGTGCCCGATAG\t3’\n",
        " \t  |||||||||||||||||||||||||||||||||||||||\t \n",
        "3’\tTACCGGTAACATTACCCGGCGACTTTCCCACGGGCTATC\t5’\n",
        " \tDNA template strand (aka Watson strand, strand −1)\t \n",
        " \n",
        "                   \t|\t \n",
        "             \tTranscription\t\n",
        "                       ↓\t \n",
        " \n",
        "5’\tAUGGCCAUUGUAAUGGGCCGCUGAAAGGGUGCCCGAUAG\t3’\n",
        " \tSingle stranded messenger RNA\n",
        "\n",
        "   reverse complement (TCAG → CUGA) to give the mRNA\n",
        "\n",
        "\n",
        "\t Претвара ДНА во РНА или Тимин Т во Урацил У со тоа што се оди 5'-> 3' со транскрипција, а обратната насока 3'->5' со back-transcribe() од РНА во ДНА со У замена на Т. \n",
        "\n",
        "```\n",
        "\n",
        "\n",
        "\n",
        "\n",
        "\n"
      ],
      "metadata": {
        "id": "6KcRFyccfHjA"
      }
    },
    {
      "cell_type": "code",
      "source": [
        "coding_dna = Seq(\"ACTCGAGCCATTGGTAATGGGCCGCTGAAAGGGTGCCCGATAG\")\n",
        "coding_dna\n",
        "\n"
      ],
      "metadata": {
        "colab": {
          "base_uri": "https://localhost:8080/"
        },
        "id": "4slQnzdguh56",
        "outputId": "383033e1-ad1b-411f-a4b5-8c7e702c047b"
      },
      "execution_count": null,
      "outputs": [
        {
          "output_type": "execute_result",
          "data": {
            "text/plain": [
              "Seq('ACTCGAGCCATTGGTAATGGGCCGCTGAAAGGGTGCCCGATAG')"
            ]
          },
          "metadata": {},
          "execution_count": 22
        }
      ]
    },
    {
      "cell_type": "code",
      "source": [
        "template_dna = coding_dna.reverse_complement()\n",
        "template_dna\n"
      ],
      "metadata": {
        "colab": {
          "base_uri": "https://localhost:8080/"
        },
        "id": "MKP0WN-fM5dx",
        "outputId": "3b556902-9ae2-46e9-e81e-05f8aefc2705"
      },
      "execution_count": null,
      "outputs": [
        {
          "output_type": "execute_result",
          "data": {
            "text/plain": [
              "Seq('CTATCGGGCACCCTTTCAGCGGCCCATTACCAATGGCTCGAGT')"
            ]
          },
          "metadata": {},
          "execution_count": 23
        }
      ]
    },
    {
      "cell_type": "code",
      "source": [
        "messengerRNA = coding_dna.transcribe()\n",
        "messengerRNA"
      ],
      "metadata": {
        "colab": {
          "base_uri": "https://localhost:8080/"
        },
        "id": "0V1xrA7UNTkq",
        "outputId": "5e258e8e-b003-4bf2-eb5b-0712dc3bdf7d"
      },
      "execution_count": null,
      "outputs": [
        {
          "output_type": "execute_result",
          "data": {
            "text/plain": [
              "Seq('ACUCGAGCCAUUGGUAAUGGGCCGCUGAAAGGGUGCCCGAUAG')"
            ]
          },
          "metadata": {},
          "execution_count": 24
        }
      ]
    },
    {
      "cell_type": "code",
      "source": [
        "#The Seq object also includes a back-transcription method for going from the mRNA to the coding strand of the DNA. Again, this is a simple U → T substitution:\n",
        "messengerRNA.back_transcribe()"
      ],
      "metadata": {
        "colab": {
          "base_uri": "https://localhost:8080/"
        },
        "id": "3V1njS9xNeAx",
        "outputId": "bf1bab49-5ef1-464f-ea9d-3fb04ecc5d81"
      },
      "execution_count": null,
      "outputs": [
        {
          "output_type": "execute_result",
          "data": {
            "text/plain": [
              "Seq('ACTCGAGCCATTGGTAATGGGCCGCTGAAAGGGTGCCCGATAG')"
            ]
          },
          "metadata": {},
          "execution_count": 25
        }
      ]
    },
    {
      "cell_type": "markdown",
      "source": [
        "Потребно е да одговараат на приказот погоре - по конвенција, нуклеотидните секвенци вообичаено се читаат од насоката 5' до 3', додека на шаблонот е прикажано обратно.\n",
        "\n",
        "Да ја транскрибираме шифрата за кодирање во соодветната mRNA, користејќи го методот вграден во транскрипција на објектот Seq:"
      ],
      "metadata": {
        "id": "vHpnr-AT56Ku"
      }
    },
    {
      "cell_type": "code",
      "source": [
        "#If you do want to do a true biological transcription starting with the template strand, then this becomes a two-step process:\n",
        "template_dna.reverse_complement().transcribe()"
      ],
      "metadata": {
        "colab": {
          "base_uri": "https://localhost:8080/"
        },
        "id": "doIIH7eq6lhY",
        "outputId": "185ae448-9d3f-4ad9-cbef-17c91bd4d8ac"
      },
      "execution_count": null,
      "outputs": [
        {
          "output_type": "execute_result",
          "data": {
            "text/plain": [
              "Seq('ACUCGAGCCAUUGGUAAUGGGCCGCUGAAAGGGUGCCCGAUAG')"
            ]
          },
          "metadata": {},
          "execution_count": 26
        }
      ]
    },
    {
      "cell_type": "code",
      "source": [
        "#Споредба исто како за стрингови каде што се внимава дали се од ист тип РНА, ДНА\n",
        "coding_dna == messengerRNA"
      ],
      "metadata": {
        "colab": {
          "base_uri": "https://localhost:8080/"
        },
        "id": "SPVOikxDN34h",
        "outputId": "4a3b1186-d02b-475c-9255-8ba5e239b386"
      },
      "execution_count": null,
      "outputs": [
        {
          "output_type": "execute_result",
          "data": {
            "text/plain": [
              "False"
            ]
          },
          "metadata": {},
          "execution_count": 27
        }
      ]
    },
    {
      "cell_type": "markdown",
      "source": [
        "\n",
        "1. ExactPosition - Целобројна вредност integer означува одредена точно зададена позиција на самата секвенца како (6)\n",
        "\n",
        "2. BeforePosition/AfterPosition - Позиција за интервал помеѓу вредности каде не знаме точно се наоѓа па се бара пред или после некоја одредена позиција од нас зададена под претпоставка (<100), (>500) \n",
        "\n",
        "3. WithinPosition - Се поставуваат две вредности за позиција на лево од каде почнуваме и екстензија која се одзема со позицијата и ја дава крајната екстензија. (1.9) соодветно 1 ликација за позиција а 9-1=8 екстензија \n",
        "\n",
        "4. OneOfPosition \n",
        "\n",
        "5. UnknownPosition - Со '?' прашалник се означува дека не ја знаеме позицијата\n",
        "\n"
      ],
      "metadata": {
        "id": "EP9gg3NpOWzm"
      }
    },
    {
      "cell_type": "code",
      "source": [
        "from Bio import SeqFeature\n",
        "starting_position = SeqFeature.AfterPosition(3)\n",
        "end_pos = SeqFeature.BetweenPosition(10, left=6, right=10)\n",
        "my_location = SeqFeature.FeatureLocation(starting_position, end_pos)\n",
        "print(my_location)\n",
        "print(my_location.start)\n",
        "print(my_location.end)\n",
        "print(my_location.nofuzzy_start)\n",
        "print(my_location.nofuzzy_end)"
      ],
      "metadata": {
        "colab": {
          "base_uri": "https://localhost:8080/"
        },
        "id": "8dAfd57nPz96",
        "outputId": "2da52177-3e04-4eac-efc8-56861cc819cb"
      },
      "execution_count": null,
      "outputs": [
        {
          "output_type": "stream",
          "name": "stdout",
          "text": [
            "[>3:(6^10)]\n",
            ">3\n",
            "(6^10)\n",
            "3\n",
            "10\n"
          ]
        }
      ]
    },
    {
      "cell_type": "markdown",
      "source": [
        "\n",
        "\n",
        "```\n",
        "Translation\n",
        "\n",
        "Sticking with the same example discussed in the transcription section above, now let’s translate this mRNA into the corresponding protein sequence - again taking advantage of one of the Seq object’s biological methods:\n",
        "```\n",
        "\n"
      ],
      "metadata": {
        "id": "91HDPOiH9CfV"
      }
    },
    {
      "cell_type": "code",
      "source": [
        "messenger_rna = Seq(\"ACTCGAGCCATTGGTAATGGGCCGCTGAAA\")\n",
        "messenger_rna.translate()\n"
      ],
      "metadata": {
        "colab": {
          "base_uri": "https://localhost:8080/"
        },
        "id": "mggwgbqm-J2b",
        "outputId": "e490b0b1-29bd-42c9-84ea-485fe22a7412"
      },
      "execution_count": null,
      "outputs": [
        {
          "output_type": "execute_result",
          "data": {
            "text/plain": [
              "Seq('TRAIGNGPLK')"
            ]
          },
          "metadata": {},
          "execution_count": 24
        }
      ]
    },
    {
      "cell_type": "code",
      "source": [
        "coding_dna.translate(table=\"Vertebrate Mitochondrial\")"
      ],
      "metadata": {
        "colab": {
          "base_uri": "https://localhost:8080/"
        },
        "id": "9Bhf6AfQ-pOO",
        "outputId": "2ea05246-d76c-400c-91c4-91ae7b743e9d"
      },
      "execution_count": null,
      "outputs": [
        {
          "output_type": "stream",
          "name": "stderr",
          "text": [
            "/usr/local/lib/python3.7/dist-packages/Bio/Seq.py:2983: BiopythonWarning: Partial codon, len(sequence) not a multiple of three. Explicitly trim the sequence or add trailing N before translation. This may become an error in future.\n",
            "  BiopythonWarning,\n"
          ]
        },
        {
          "output_type": "execute_result",
          "data": {
            "text/plain": [
              "Seq('TRAIGNGPLKGCPM')"
            ]
          },
          "metadata": {},
          "execution_count": 25
        }
      ]
    },
    {
      "cell_type": "code",
      "source": [
        "coding_dna.translate(table=2)\n",
        "coding_dna.translate(table=2, stop_symbol=\"@\")"
      ],
      "metadata": {
        "colab": {
          "base_uri": "https://localhost:8080/"
        },
        "id": "TZDxsvd8-t8p",
        "outputId": "02ff1635-8f28-4e34-c1a7-e54f1890d6ba"
      },
      "execution_count": null,
      "outputs": [
        {
          "output_type": "stream",
          "name": "stderr",
          "text": [
            "/usr/local/lib/python3.7/dist-packages/Bio/Seq.py:2983: BiopythonWarning: Partial codon, len(sequence) not a multiple of three. Explicitly trim the sequence or add trailing N before translation. This may become an error in future.\n",
            "  BiopythonWarning,\n"
          ]
        },
        {
          "output_type": "execute_result",
          "data": {
            "text/plain": [
              "Seq('TRAIGNGPLKGCPM')"
            ]
          },
          "metadata": {},
          "execution_count": 26
        }
      ]
    },
    {
      "cell_type": "code",
      "source": [
        "gene = Seq(\"GTGAAAAAGATGCAATCTATCGTACTCGCACTTTCCCTGGTTCTGGTCGCTCCCATGGCA\"\n",
        "           \"GCACAGGCTGCGGAAATTACGTTAGTCCCGTCAGTAAAATTACAGATAGGCGATCGTGAT\"\n",
        "           \"AATCGTGGCTATTACTGGGATGGAGGTCACTGGCGCGACCACGGCTGGTGGAAACAACAT\"\n",
        "           \"TATGAATGGCGAGGCAATCGCTGGCACCTACACGGACCGCCGCCACCGCCGCGCCACCAT\"\n",
        "           \"AAGAAAGCTCCTCATGATCATCACGGCGGTCATGGTCCAGGCAAACATCACCGCTAA\")\n",
        "gene.translate(table=\"Bacterial\")\n",
        "gene.translate(table=\"Bacterial\", to_stop=True)"
      ],
      "metadata": {
        "colab": {
          "base_uri": "https://localhost:8080/"
        },
        "id": "lib3-5hv-7pL",
        "outputId": "9e8d717e-def6-4d90-f2ad-f71d5dfa01c0"
      },
      "execution_count": null,
      "outputs": [
        {
          "output_type": "execute_result",
          "data": {
            "text/plain": [
              "Seq('VKKMQSIVLALSLVLVAPMAAQAAEITLVPSVKLQIGDRDNRGYYWDGGHWRDH...HHR')"
            ]
          },
          "metadata": {},
          "execution_count": 27
        }
      ]
    },
    {
      "cell_type": "markdown",
      "metadata": {
        "id": "-HdeFgRy7Mql"
      },
      "source": [
        "## 4. Преземање на комплетната ДНА секвенција на Yersinia pestis (бактерија која ги инфектира белите дробови и предизвикува пневмонија). До неа се пристапува со употреба на идентификациониот број NC_005816 во GeneBank базата (работа со SeqIO објекти)"
      ]
    },
    {
      "cell_type": "code",
      "metadata": {
        "id": "8mGZdTc37TUg",
        "colab": {
          "base_uri": "https://localhost:8080/"
        },
        "outputId": "92dbb038-2331-47ab-a9ee-ae16b1011a9e"
      },
      "source": [
        "from Bio import SeqIO\n",
        "record = SeqIO.read(\"NC_005816.gb\", \"genbank\")\n",
        "record\n"
      ],
      "execution_count": null,
      "outputs": [
        {
          "output_type": "execute_result",
          "data": {
            "text/plain": [
              "SeqRecord(seq=Seq(None, length=9609), id='NC_005816.1', name='NC_005816', description='Yersinia pestis biovar Microtus str. 91001 plasmid pPCP1, complete sequence', dbxrefs=['BioProject:PRJNA224116', 'BioSample:SAMN02602970', 'Assembly:GCF_000007885.1'])"
            ]
          },
          "metadata": {},
          "execution_count": 2
        }
      ]
    },
    {
      "cell_type": "markdown",
      "source": [
        "SeqRecord(seq=Seq(None, length=9609), id='NC_005816.1', name='NC_005816', description='Yersinia pestis biovar Microtus str. 91001 plasmid pPCP1, complete sequence', dbxrefs=['BioProject:PRJNA224116', 'BioSample:SAMN02602970', 'Assembly:GCF_000007885.1'])"
      ],
      "metadata": {
        "id": "OqMvpTMm0D5d"
      }
    },
    {
      "cell_type": "code",
      "source": [
        "record.seq"
      ],
      "metadata": {
        "colab": {
          "base_uri": "https://localhost:8080/"
        },
        "id": "vI3DKWyWzksa",
        "outputId": "74178e32-5d7b-4d72-c822-80bd00d84712"
      },
      "execution_count": null,
      "outputs": [
        {
          "output_type": "execute_result",
          "data": {
            "text/plain": [
              "Seq(None, length=9609)"
            ]
          },
          "metadata": {},
          "execution_count": 3
        }
      ]
    },
    {
      "cell_type": "code",
      "source": [
        "recordPneumonia_id = record.id\n",
        "recordPneumonia_name = record.name\n",
        "recordPneumonia_description = record.description\n",
        "\n",
        "recordPneumonia_id"
      ],
      "metadata": {
        "colab": {
          "base_uri": "https://localhost:8080/",
          "height": 35
        },
        "id": "olALzmXb4rtz",
        "outputId": "ea14c00e-5ac3-4136-dd36-88662141411b"
      },
      "execution_count": null,
      "outputs": [
        {
          "output_type": "execute_result",
          "data": {
            "application/vnd.google.colaboratory.intrinsic+json": {
              "type": "string"
            },
            "text/plain": [
              "'NC_005816.1'"
            ]
          },
          "metadata": {},
          "execution_count": 4
        }
      ]
    },
    {
      "cell_type": "code",
      "source": [
        "print(\"Име: \" + recordPneumonia_name  + \"\\n\" + \"Опис: \" + recordPneumonia_description)"
      ],
      "metadata": {
        "colab": {
          "base_uri": "https://localhost:8080/"
        },
        "id": "2llYOg8G5u-Q",
        "outputId": "945c44e8-e222-499f-dc9b-6cf8f93a23df"
      },
      "execution_count": null,
      "outputs": [
        {
          "output_type": "stream",
          "name": "stdout",
          "text": [
            "Име: NC_005816\n",
            "Опис: Yersinia pestis biovar Microtus str. 91001 plasmid pPCP1, complete sequence\n"
          ]
        }
      ]
    },
    {
      "cell_type": "code",
      "source": [
        "record.annotations[\"source\"]"
      ],
      "metadata": {
        "colab": {
          "base_uri": "https://localhost:8080/",
          "height": 35
        },
        "id": "n8JDIRG06-xK",
        "outputId": "91d674cc-08c0-4509-9f2b-c83aaaaa8b28"
      },
      "execution_count": null,
      "outputs": [
        {
          "output_type": "execute_result",
          "data": {
            "application/vnd.google.colaboratory.intrinsic+json": {
              "type": "string"
            },
            "text/plain": [
              "'Yersinia pestis biovar Microtus str. 91001'"
            ]
          },
          "metadata": {},
          "execution_count": 6
        }
      ]
    },
    {
      "cell_type": "code",
      "source": [
        "record.dbxrefs"
      ],
      "metadata": {
        "colab": {
          "base_uri": "https://localhost:8080/"
        },
        "id": "4IUrqoP79aKm",
        "outputId": "adb8dbe0-8b5b-4743-c755-f6ee243ccabb"
      },
      "execution_count": null,
      "outputs": [
        {
          "output_type": "execute_result",
          "data": {
            "text/plain": [
              "['BioProject:PRJNA224116',\n",
              " 'BioSample:SAMN02602970',\n",
              " 'Assembly:GCF_000007885.1']"
            ]
          },
          "metadata": {},
          "execution_count": 7
        }
      ]
    },
    {
      "cell_type": "code",
      "source": [
        "len(record.features)"
      ],
      "metadata": {
        "colab": {
          "base_uri": "https://localhost:8080/"
        },
        "id": "1iCziI8F9b2G",
        "outputId": "44011615-c242-45cc-dd6c-21d5f1ae4a55"
      },
      "execution_count": null,
      "outputs": [
        {
          "output_type": "execute_result",
          "data": {
            "text/plain": [
              "19"
            ]
          },
          "metadata": {},
          "execution_count": 8
        }
      ]
    },
    {
      "cell_type": "code",
      "source": [
        "Entrez.email = \"zorica.koceva@students.finki.ukim.mk\"\n",
        "\n",
        "handle = Entrez.efetch(db=\"nucleotide\", rettype=\"gb\", retmode=\"text\", id=\"45478711\")\n",
        "\n",
        "seq_record_gb = SeqIO.read(handle, \"gb\")\n",
        "handle.close()\n",
        "\n",
        "handle = Entrez.efetch(db=\"nucleotide\", rettype=\"fasta\", retmode=\"text\", id=\"45478711\")\n",
        "seq_record_fasta = SeqIO.read(handle, \"fasta\")\n",
        "handle.close()\n",
        "\n",
        "seq_record_gb.seq = seq_record_fasta.seq\n",
        "print(seq_record_gb.seq)"
      ],
      "metadata": {
        "colab": {
          "base_uri": "https://localhost:8080/"
        },
        "id": "a1I5KqZhQ0Pm",
        "outputId": "35c37b7f-bd08-4740-914b-46cbe1654173"
      },
      "execution_count": null,
      "outputs": [
        {
          "output_type": "stream",
          "name": "stdout",
          "text": [
            "TGTAACGAACGGTGCAATAGTGATCCACACCCAACGCCTGAAATCAGATCCAGGGGGTAATCTGCTCTCCTGATTCAGGAGAGTTTATGGTCACTTTTGAGACAGTTATGGAAATTAAAATCCTGCACAAGCAGGGAATGAGTAGCCGGGCGATTGCCAGAGAACTGGGGATCTCCCGCAATACCGTTAAACGTTATTTGCAGGCAAAATCTGAGCCGCCAAAATATACGCCGCGACCTGCTGTTGCTTCACTCCTGGATGAATACCGGGATTATATTCGTCAACGCATCGCCGATGCTCATCCTTACAAAATCCCGGCAACGGTAATCGCTCGCGAGATCAGAGACCAGGGATATCGTGGCGGAATGACCATTCTCAGGGCATTCATTCGTTCTCTCTCGGTTCCTCAGGAGCAGGAGCCTGCCGTTCGGTTCGAAACTGAACCCGGACGACAGATGCAGGTTGACTGGGGCACTATGCGTAATGGTCGCTCACCGCTTCACGTGTTCGTTGCTGTTCTCGGATACAGCCGAATGCTGTACATCGAATTCACTGACAATATGCGTTATGACACGCTGGAGACCTGCCATCGTAATGCGTTCCGCTTCTTTGGTGGTGTGCCGCGCGAAGTGTTGTATGACAATATGAAAACTGTGGTTCTGCAACGTGACGCATATCAGACCGGTCAGCACCGGTTCCATCCTTCGCTGTGGCAGTTCGGCAAGGAGATGGGCTTCTCTCCCCGACTGTGTCGCCCCTTCAGGGCACAGACTAAAGGTAAGGTGGAACGGATGGTGCAGTACACCCGTAACAGTTTTTACATCCCACTAATGACTCGCCTGCGCCCGATGGGGATCACTGTCGATGTTGAAACAGCCAACCGCCACGGTCTGCGCTGGCTGCACGATGTCGCTAACCAACGAAAGCATGAAACAATCCAGGCCCGTCCCTGCGATCGCTGGCTCGAAGAGCAGCAGTCCATGCTGGCACTGCCTCCGGAGAAAAAAGAGTATGACGTGCATCTTGATGAAAATCTGGTGAACTTCGACAAACACCCCCTGCATCATCCACTCTCCATCTACGACTCATTCTGCAGAGGAGTGGCGTGATGATGGAACTGCAACATCAACGACTGATGGCGCTCGCCGGGCAGTTGCAACTGGAAAGCCTTATAAGCGCAGCGCCTGCGCTGTCACAACAGGCAGTAGACCAGGAATGGAGTTATATGGACTTCCTGGAGCATCTGCTTCATGAAGAAAAACTGGCACGTCATCAACGTAAACAGGCGATGTATACCCGAATGGCAGCCTTCCCGGCGGTGAAAACGTTCGAAGAGTATGACTTCACATTCGCCACCGGAGCACCGCAGAAGCAACTCCAGTCGTTACGCTCACTCAGCTTCATAGAACGTAATGAAAATATCGTATTACTGGGGCCATCAGGTGTGGGGAAAACCCATCTGGCAATAGCGATGGGCTATGAAGCAGTCCGTGCAGGTATCAAAGTTCGCTTCACAACAGCAGCAGATCTGTTACTTCAGTTATCTACGGCACAACGTCAGGGCCGTTATAAAACGACGCTTCAGCGTGGAGTAATGGCCCCCCGCCTGCTCATCATTGATGAAATAGGCTATCTGCCGTTCAGTCAGGAAGAAGCAAAGCTGTTCTTCCAGGTCATCGCTAAACGTTACGAAAAGAGCGCAATGATCCTGACATCCAATCTGCCGTTCGGGCAGTGGGATCAAACGTTCGCCGGTGATGCAGCACTGACCTCAGCGATGCTGGACCGTATCTTACACCACTCACATGTCGTTCAAATCAAAGGAGAAAGCTATCGACTCAGACAGAAACGAAAGGCCGGGGTTATAGCAGAAGCTAATCCTGAGTAAAACGGTGGATCAATATTGGGCCGTTGGTGGAGATATAAGTGGATCACTTTTCATCCGTCGTTGACACCCTGATGAATTCACGTGTTCACGCCTGAATAACAAGAATGCCGGAGATACGCAGTCATATTTTTTACACAATTCTCTAATCCCGACAAGGTCGTAGGTCGTTATAGGAAAATTCTTAGCACCATTCCGGAACAATCAGAACAGCAGGCCATGAACGACTGACAACATTACGAATATAAAAAACGCACCCGGGCCAGACATTCCCCCTACTGATTAAACCAGCCGGACTTGTCCACGGAACGGTCTTTTTAAACCGACACACAGTCTGAGTACAGATACATGTCACGATGATGCAGGATTAGCGGAAGAGTGTGAGCACGTTTCCGGGAACTGTGGTGAACCATAGCTCAATATTCGAGTGAGGGCATACCGGAAACGCGCTCAGATTCGTTGTAACGCGATTTTCCGTACCGGGCAATTTTTTCAGTTGTTTTTTCGTTTCATGTCGTCAGAAACGTTCTGAGCGCGTTTCCGGCATCTGATGCTACGCAAACCATCCCCATGGTCAGTTGACAGCCGGAAACACGCGGGTGTCGTTTTAGCGTATCGACGGGACGGCGTCGAGAAGCACAAAAAACAGATGTTGTACTCAGTCAGTTGTTTTACAGACAGCACTGCGGCAGATTGAAAAAGTACCGTACTTTCAGGAATGTCCAGAAACCATGTGTCAGACTTCGTTCTCCCCCTTCCGGGTGAATTTTTTTGTCATCCGTTCAGGAATCTCTTTATAACGATTACTCCATTTCAGGATTTTTTATGTGGCGTTTACTACAGGCAGGATATTCAAAGGCAAAAAAATCCCCCGGAACAGGCGGAACCCGGACAGGGGGAGAACGAATCGCTAAATAATTTTCGTAGTTGTATTTCCCATCGTTGCTACTGCAACGGGATGAATTTGCCGCAGTTTATCCTGTAAAACAATCCTGATTTACTCACACTCCACATATCACTGACGGAGCACAACGGAATAGTGAACAAACAACAACAAACTGCGCTGAATATGGCGCGATTTATCAGAAGCCAGAGCCTGATACTGCTTGAAAAACTGGATGCTCTGGATGCCGACGAGCAGGCGGCCATGTGTGAACGACTGCACGAACTCGCGGAAGAACTCCAGAACAGCATCCAGGCTCGCTTTGAAGCCGAAAGTGAAACAGGAACATAACGAAGCTCCCGGAGACGGTCACAGCTTGTCTGTGAACGGATGCCGGGAGCAGACAAGCCCGTCAGGGCGCGTCAGCGGGTTTTAGCGGGTGTCGGGGCGCAGCCATGACCCAGTCACGTAGCGATAGCGGAGTGTATACTGGCTTAGTCATGCGGCATCAGTGCGGATTGTATGAAAAGTGCACCATGTACGGTGTGAAATGCCGCACAGATGCGTAAGGAGAACATGCAGATGCCGATGCTCTTCCGCTTCCTCGCTCACTGACTCGCTGCGCTCGGTCGTTCGGCTGCGGCGAGCGGTGTCTGCTCACTCAAAAGCGGTGATACTGTTATCCACACAATCAGGGGATAACGCCGGAAAGAACATGTGAGCAAAAAACGAAGACCCCAGAAAAGGCCGCGCCGGAGGCGCTTTTTCCATAGGCTCCGCCCCCCTGACGAGCATCACAAAAATCGACGCTCAAGTCAGAGGTGGCGAAACCCGACAGGACTTAAAGATACCAGGCGTTTCCCCCCGGAAGCTCCCTCGTGCGCTCTCCTGTTCCGACCCTGCCGCTTACCGGATACCTCTCCGCCTTTCTCCCTTCGGGAAGCGTGGCGCTTTCTCATAGCTCACGCTGTTGGTATCTCAGTTCGGTGTAGGTCGTTCGCTCCAAGCTGGGCTGTGTGCACGAACCCCCCGTTCAGCCCGACCACTGCGCCTTATCCGGTAACTATCGTCTTGAGTCCAACCCGGTAAGACACGACTTTACGCCACTGGCAGCAGCCATTGGTAACTGAAAAGTGGATTTAGATACGCAGAACTCTTGAAGTTGAAGCCTTATCGCGGCTACACTGAAAGGACAGCATTTGGTATCTGTGCTCCACTTAAGCCAGCTACCACAGGTTAGAAAGCCTGAGAAACTTCTAACCTTCGAAAGAACCCACGCCTGAGAACGTGGGTTTTTTCGTTTACAGGCAGCAGATTACGCGCAGAAAAAAAGGATCTCAAGAAGATCCTTTGATCTTTTCTACTGAATTGCGCTCCCGATCAGTTCAGCAGAAGATTATGATGGGGTTCTATGGGTATTGCTGCGGTAACACCCATGTTACTTGAGGTTGTATGTAGTCTGTGTAGAATTATACACATAAGGCTTAAACTGCTCTTTTTTTTCAATATGCAATTGGAAGTTCATTGACTACATAAATAGATTATTCCAAATAATTTATTTATGTAAGAACAGGATGGGAGGGGGAATGATCTCAAAGTTATTTTGCTTGGCTCTCATATTTTTATCATCAAGTGGCCTTGCAGAAAAAAACACATATACAGCAAAAGACATCTTGCAAAACCTAGAATTAAATACCTTTGGCAATTCATTGTCTCATGGCATCTATGGGAAACAGACAACCTTCAAGCAAACCGAGTTTACAAATATTAAAAGCAACACCAAAAAACACATTGCACTTATCAATAAAGACAACTCATGGATGATATCATTAAAAATACTAGGAATTAAGAGAGATGAGTATACTGTCTGTTTTGAAGATTTCTCTCTAATAAGACCGCCAACATATGTAGCCATACATCCTCTACTTATAAAAAAAGTAAAATCTGGAAACTTTATAGTAGTGAAAGAAATAAAGAAATCTATCCCTGGTTGCACTGTATATTATCATTAATAGCAAGCCCCTCATTATTATGAGGGGCTCATGGTTATTTTAACAATCCACTATCGATATCTTTTTGCACCAGAGCGCCCTCTCGTTTACGTCTGTCAGACATTCCATCAACAATATTATTAAAAGCATTTACAAGGCCATTCCAGTCTTTTGCGATAACTTTATTCCATACTGTGGGAGCAGTTCTGGATAACTTAAACCCTTTTTGATATCCAATAGACACCAGTGCTGTACGGGTTCTCAACGGTAAATCGCTGAACCGAAGACCGATATTAGCGTCATTGAAAAGACCTTCAATCTTATGTGAGAATTTATCAATATAAATATTAGATAAGAGATGAGCTTCATTATCAGAAAGCGTCAGAGGTGCTGTTCTCACTTTATCATAAGCCTCCTTCCCTCGAAGCATATAATACCCATCAAGTCTATCTGCAATATACTGAGGGACACCGTCATTCAATAAATCCTGTTTGCTTCGCTGACCAAGGTCAACCCCGGAACCGAATGTAACACCGGTACTGTTAAAATAATCGCTACTAGGATTAGACGGAAAATGACTTGTCGGATTAAACCCTTCAAAACCATTACTGGAGAAAATATCGTGGTCAACAATATTTACCGAACGACGTAAAAATTCCTTCAGTTGACTAATATTGTCAAAGTTAATGACAGTGTTGTCCGCTAGGACGATGCGATTTCGGTTATTATTCAGAATGTCTTCGTTCTCTTTCTTATCGAGATGTTCAATAGATTCGGCAATCGTTCCCTCAAGAACCATGACACGGTAGACTTTCACACCGTCTTTTTCCTGACCTGTTTCAACAGTTATTTTCTGTTCGTAAGACACGGTCCCTTCAGTTTTTGAAATTTTACTTTCCTGGCGGATCTTATTTGAATATTCACTGTCTTTCTCCATCTCCGTATCAATCGGAAACCCCATAATGTACATCAGTTTAAAATTACTCCGGCCAGGCAGATCCACATAATGTGGTAATGCAATTGTAATCGAATTAGCTTCAAAATTTGGTCTGTAACTGCTTAATGTACTTCCGGAAAAGAGAAAAGCCGGAACACCACCTGAACCATTCACTACCATTGTATCTGACATAAAAATTCCTCTTTAACACATAAAAAAAACAATAAGTTAAAAAAATACTGTACATAAAAGCACTGTTTTTATGTACAGTAATAAAATTACGCCGCTTTATTTTCTCTGTCAATAATATGAAATTTCATTTTTGTGATCTGAATCACTCTTATAAAAATCAGGAAGGGAAGATTCGCAGCAGAAAAACAGCACCGGGTAACATCAGAAAAAAACAGAAAGGAGATAACGTGAGCAAAACAAAATCTGGTCGCCACCGACTGAGCAAAACAGACAAACGCCTGCTGGCTGCACTTGTCGTTGCCGGATACGAAGAACGGACAGCCCGTGACCTCATCCAGAAACACGTTTACACACTGACACAGGCCGACCTGCGCCATCTGGTCAGTGAAATCAGTAACGGTGTGGGACAGTCACAGGCCTACGATGCGATTTACCAGGCGAGACGCATTCGTCTCGCCCGTAAATACCTGAGCGGAAAAAAACCGGAAGGGGTGGAACCCCGGGAAGGGCAGGAACGGGAAGATTTACCATAACTCCCGTTATCAGTACCATCGGCTCAACGCTCGTTGTCGGATCTGAAAAATTCGCTCAAAAGATCATATTTCCCTGGATATTTTCCACCGTTTCTTATGTGAGAAAAGTCACATAATTCTGTCAGACGACGAGAAAACGGATATCGATTATTGTTTAATATTTTTACATTATTAAAAATGAAATTAGATAATCAGATACAAATAATATGTTTTCGTTCATGCAGAGAGATTAAGGGTGTCTAATGAAGAAAAGTTCTATTGTGGCAACCATTATAACTATTCTGTCCGGGAGTGCTAATGCAGCATCATCTCAGTTAATACCAAATATATCCCCTGACAGCTTTACAGTTGCAGCCTCCACCGGGATGCTGAGTGGAAAGTCTCATGAAATGCTTTATGACGCAGAAACAGGAAGAAAGATCAGCCAGTTAGACTGGAAGATCAAAAATGTCGCTATCCTGAAAGGTGATATATCCTGGGATCCATACTCATTTCTGACCCTGAATGCCAGGGGGTGGACGTCTCTGGCTTCCGGGTCAGGTAATATGGATGACTACGACTGGATGAATGAAAATCAATCTGAGTGGACAGATCACTCATCTCATCCTGCTACAAATGTTAATCATGCCAATGAATATGACCTCAATGTGAAAGGCTGGTTACTCCAGGATGAGAATTATAAAGCAGGTATAACAGCAGGATATCAGGAAACACGTTTCAGTTGGACAGCTACAGGTGGTTCATATAGTTATAATAATGGAGCTTATACCGGAAACTTCCCGAAAGGAGTGCGGGTAATAGGTTATAACCAGCGCTTTTCTATGCCATATATTGGACTTGCAGGCCAGTATCGCATTAATGATTTTGAGTTAAATGCATTATTTAAATTCAGCGACTGGGTTCGGGCACATGATAATGATGAGCACTATATGAGAGATCTTACTTTCCGTGAGAAGACATCCGGCTCACGTTATTATGGTACCGTAATTAACGCTGGATATTATGTCACACCTAATGCCAAAGTCTTTGCGGAATTTACATACAGTAAATATGATGAGGGCAAAGGAGGTACTCAGATCATTGATAAGAATAGTGGAGATTCTGTCTCTATTGGCGGAGATGCTGCCGGTATTTCCAATAAAAATTATACTGTGACGGCGGGTCTGCAATATCGCTTCTGAAAAATACAGATCATATCTCTCTTTTCATCCTCCCCTAGCGGGGAGGATGTCTGTGGAAAGGAGGTTGGTGTTTGACCAACCTTCAGATGTGTGAAAAATCACCTTTTTCACCATAATGACGGGGCGCTCATTCTGTTGTTTTGCCTTGACATTCTCCACGTCTTTCAGGGCATGGAGAAGGTCAAATTAGACATGGAACGCTACTCTCCTTCCTGTAGGAAGCTCAACATCCAAGCTTAATTTGCCTCCCATTGCTTCAACGTAACGCTTTAACGTCGCCAGCTTTAAATCATTTCCGCGCTGCTCCAGCTTTGTTACTGCTGGCTGGCTTATACCCATCGCCTCAGCAACTTGTTTTTGTGATAACTGGAGTTCTTCACGCATCATCTGCAAGCCGACCTCAAGAATCATCTCATCTGCCATTTCTTTAATTCGTGTCTGGCTTTCAGGTGAACGACTGGCAATCACCTCATCTAATGTTCTCATTACTTGCTCTCCAGTGTGTTCAGATGTGCTGTAAATTCATCCTCAGCTATACGCACCAGTTTTTCATAAAACCGCTTATCATTACTTTTATCTCCTGCACAAAGAACGATAGCCCGACGAATCGGATCGAACGCATAAAAGGCTCTTATCGGACGGCCAGAAAACTGAACGCGAAGCTCTTTCATATTTTTGTACCGAGAACCTTTCACGGTATCGGCATATGGCCTGGGTAACTCAGGTCCGTAAACCTGTAGCTTTTTCAAATCAGCCAAAACCTTTTCCTGAAGAGCGTCTTCTTGCTCATTTAGCCAGTCGTCAAATCGCTGGCTAAAAAGTACCATCCACATGCTCAACCCTATAACCTGTAGCTTACCCCACTAACAATATAACCTACGAGTTATATTTTCAAGAAAAGCTGGCTATTTAACATAACGGCAATTTGTACGCACCACTGAAATGCGTTCAGCGCGATCACGGCAACAGACAGGCAAAAATAGCAACAAACCTCCCGAAAAACCGCCGCGATCGCGCCTGATAAATTTTAACCTTATGCATATCTATGCAGCCAGGCGAATCACGAACGAATTGCCTGCCTGATGTAACTGAAACGGGTGTTTTTTCCTGATTTGGTGGGCGTGGAAGACGGAACATGAACGGGAAAACAGAATTCATGCCAGATGAGCGCGATCTGGCAATTAAGGCAAAACACAGCAACAAAGACACGCCAGAATCGCGCCCGGATATGTTTTAACGCGATTTTCAGACTCAGACAAATTCAGCAGAATGCTACTCCATTCACCGGGCTGATGGTGAATACATGCGTATCCAGGATGAGTACATTTCTGGCTCTGCCACAGCTCTGTCTGTTGGCAGCTTTCGCCTGTCCGGAAACCTGCTTAAAACGCTCCCGAAAGGCCTCTGAACCAGAAAGCAACAAAACACAGGCCATTAAGTAAATCGCGTTAAAACACGTCTGATGGATTGCTGCAAAAAAAAGTCCCTAATGGAGCAGGGACTGTTAAACCCAGTGAATAGCGTCTAAATTAAAGTAAGAATACGACCAGGTACTCTTCAGAAAAGAGATTAATCCACCGCACAGAATAATCAACAGTAAAAACAAACAACCCTGATTTTTTATTTTTCTTTTTTTCGATAAAAACAAAATTAAAGAAATAATTAATCAGAACATTCCTTAACTTCAGGGCATTGCCTGTGTTCCATTTTGTGATTAGTCTGAAACTTCCGAAGGTGGATAACACCCGGTATTTTTTTGCTCACATAAAGCCCCTCCTTCAGGCAGAGGGGCTTTTTCTTTGCCACCACATAAAAAAGGCCCTCACAGGAGGTGTTCTGTGAGGGCGTATGATAAGGACTGAATCGATGGTTAATATGTCTAGTCCTGACTTTTGCATCTCCGAATATAAAACCCTGTTTAACGGCATGCAAAACCAAAAAATAAAAATGTGACATCGCAATGCCAGATAATATTGACGCATGAGGGAATGCGTACCCCGACCCCTG\n"
          ]
        }
      ]
    },
    {
      "cell_type": "markdown",
      "metadata": {
        "id": "6kqiMbnM7Tnc"
      },
      "source": [
        "\n",
        "## 5. Имплеметирање репликација на секвенцијата потпомогната од функции во biopython"
      ]
    },
    {
      "cell_type": "code",
      "metadata": {
        "id": "jd4po_0d7T2-",
        "colab": {
          "base_uri": "https://localhost:8080/"
        },
        "outputId": "2f1b5a34-a6d5-4102-d464-7dc8d68d0735"
      },
      "source": [
        "# Репликација на DNA секвенција со биопајтон\n",
        "coding_strand = seq_record_gb.seq\n",
        "# Комплементарна ДНА низа\n",
        "template_strand = seq_record_gb.seq.complement() \n",
        "\n",
        "# Почеток на репликација\n",
        "replicated_coding_strand = template_strand.complement()\n",
        "replicated_template_strand = coding_strand.complement()\n",
        "\n",
        "print(f'Прва DNA низа:\\n {coding_strand}\\n {replicated_template_strand}')\n",
        "print(f'Втора DNA низа:\\n {replicated_coding_strand}\\n {template_strand}')"
      ],
      "execution_count": null,
      "outputs": [
        {
          "output_type": "stream",
          "name": "stdout",
          "text": [
            "Прва DNA низа:\n",
            " TGTAACGAACGGTGCAATAGTGATCCACACCCAACGCCTGAAATCAGATCCAGGGGGTAATCTGCTCTCCTGATTCAGGAGAGTTTATGGTCACTTTTGAGACAGTTATGGAAATTAAAATCCTGCACAAGCAGGGAATGAGTAGCCGGGCGATTGCCAGAGAACTGGGGATCTCCCGCAATACCGTTAAACGTTATTTGCAGGCAAAATCTGAGCCGCCAAAATATACGCCGCGACCTGCTGTTGCTTCACTCCTGGATGAATACCGGGATTATATTCGTCAACGCATCGCCGATGCTCATCCTTACAAAATCCCGGCAACGGTAATCGCTCGCGAGATCAGAGACCAGGGATATCGTGGCGGAATGACCATTCTCAGGGCATTCATTCGTTCTCTCTCGGTTCCTCAGGAGCAGGAGCCTGCCGTTCGGTTCGAAACTGAACCCGGACGACAGATGCAGGTTGACTGGGGCACTATGCGTAATGGTCGCTCACCGCTTCACGTGTTCGTTGCTGTTCTCGGATACAGCCGAATGCTGTACATCGAATTCACTGACAATATGCGTTATGACACGCTGGAGACCTGCCATCGTAATGCGTTCCGCTTCTTTGGTGGTGTGCCGCGCGAAGTGTTGTATGACAATATGAAAACTGTGGTTCTGCAACGTGACGCATATCAGACCGGTCAGCACCGGTTCCATCCTTCGCTGTGGCAGTTCGGCAAGGAGATGGGCTTCTCTCCCCGACTGTGTCGCCCCTTCAGGGCACAGACTAAAGGTAAGGTGGAACGGATGGTGCAGTACACCCGTAACAGTTTTTACATCCCACTAATGACTCGCCTGCGCCCGATGGGGATCACTGTCGATGTTGAAACAGCCAACCGCCACGGTCTGCGCTGGCTGCACGATGTCGCTAACCAACGAAAGCATGAAACAATCCAGGCCCGTCCCTGCGATCGCTGGCTCGAAGAGCAGCAGTCCATGCTGGCACTGCCTCCGGAGAAAAAAGAGTATGACGTGCATCTTGATGAAAATCTGGTGAACTTCGACAAACACCCCCTGCATCATCCACTCTCCATCTACGACTCATTCTGCAGAGGAGTGGCGTGATGATGGAACTGCAACATCAACGACTGATGGCGCTCGCCGGGCAGTTGCAACTGGAAAGCCTTATAAGCGCAGCGCCTGCGCTGTCACAACAGGCAGTAGACCAGGAATGGAGTTATATGGACTTCCTGGAGCATCTGCTTCATGAAGAAAAACTGGCACGTCATCAACGTAAACAGGCGATGTATACCCGAATGGCAGCCTTCCCGGCGGTGAAAACGTTCGAAGAGTATGACTTCACATTCGCCACCGGAGCACCGCAGAAGCAACTCCAGTCGTTACGCTCACTCAGCTTCATAGAACGTAATGAAAATATCGTATTACTGGGGCCATCAGGTGTGGGGAAAACCCATCTGGCAATAGCGATGGGCTATGAAGCAGTCCGTGCAGGTATCAAAGTTCGCTTCACAACAGCAGCAGATCTGTTACTTCAGTTATCTACGGCACAACGTCAGGGCCGTTATAAAACGACGCTTCAGCGTGGAGTAATGGCCCCCCGCCTGCTCATCATTGATGAAATAGGCTATCTGCCGTTCAGTCAGGAAGAAGCAAAGCTGTTCTTCCAGGTCATCGCTAAACGTTACGAAAAGAGCGCAATGATCCTGACATCCAATCTGCCGTTCGGGCAGTGGGATCAAACGTTCGCCGGTGATGCAGCACTGACCTCAGCGATGCTGGACCGTATCTTACACCACTCACATGTCGTTCAAATCAAAGGAGAAAGCTATCGACTCAGACAGAAACGAAAGGCCGGGGTTATAGCAGAAGCTAATCCTGAGTAAAACGGTGGATCAATATTGGGCCGTTGGTGGAGATATAAGTGGATCACTTTTCATCCGTCGTTGACACCCTGATGAATTCACGTGTTCACGCCTGAATAACAAGAATGCCGGAGATACGCAGTCATATTTTTTACACAATTCTCTAATCCCGACAAGGTCGTAGGTCGTTATAGGAAAATTCTTAGCACCATTCCGGAACAATCAGAACAGCAGGCCATGAACGACTGACAACATTACGAATATAAAAAACGCACCCGGGCCAGACATTCCCCCTACTGATTAAACCAGCCGGACTTGTCCACGGAACGGTCTTTTTAAACCGACACACAGTCTGAGTACAGATACATGTCACGATGATGCAGGATTAGCGGAAGAGTGTGAGCACGTTTCCGGGAACTGTGGTGAACCATAGCTCAATATTCGAGTGAGGGCATACCGGAAACGCGCTCAGATTCGTTGTAACGCGATTTTCCGTACCGGGCAATTTTTTCAGTTGTTTTTTCGTTTCATGTCGTCAGAAACGTTCTGAGCGCGTTTCCGGCATCTGATGCTACGCAAACCATCCCCATGGTCAGTTGACAGCCGGAAACACGCGGGTGTCGTTTTAGCGTATCGACGGGACGGCGTCGAGAAGCACAAAAAACAGATGTTGTACTCAGTCAGTTGTTTTACAGACAGCACTGCGGCAGATTGAAAAAGTACCGTACTTTCAGGAATGTCCAGAAACCATGTGTCAGACTTCGTTCTCCCCCTTCCGGGTGAATTTTTTTGTCATCCGTTCAGGAATCTCTTTATAACGATTACTCCATTTCAGGATTTTTTATGTGGCGTTTACTACAGGCAGGATATTCAAAGGCAAAAAAATCCCCCGGAACAGGCGGAACCCGGACAGGGGGAGAACGAATCGCTAAATAATTTTCGTAGTTGTATTTCCCATCGTTGCTACTGCAACGGGATGAATTTGCCGCAGTTTATCCTGTAAAACAATCCTGATTTACTCACACTCCACATATCACTGACGGAGCACAACGGAATAGTGAACAAACAACAACAAACTGCGCTGAATATGGCGCGATTTATCAGAAGCCAGAGCCTGATACTGCTTGAAAAACTGGATGCTCTGGATGCCGACGAGCAGGCGGCCATGTGTGAACGACTGCACGAACTCGCGGAAGAACTCCAGAACAGCATCCAGGCTCGCTTTGAAGCCGAAAGTGAAACAGGAACATAACGAAGCTCCCGGAGACGGTCACAGCTTGTCTGTGAACGGATGCCGGGAGCAGACAAGCCCGTCAGGGCGCGTCAGCGGGTTTTAGCGGGTGTCGGGGCGCAGCCATGACCCAGTCACGTAGCGATAGCGGAGTGTATACTGGCTTAGTCATGCGGCATCAGTGCGGATTGTATGAAAAGTGCACCATGTACGGTGTGAAATGCCGCACAGATGCGTAAGGAGAACATGCAGATGCCGATGCTCTTCCGCTTCCTCGCTCACTGACTCGCTGCGCTCGGTCGTTCGGCTGCGGCGAGCGGTGTCTGCTCACTCAAAAGCGGTGATACTGTTATCCACACAATCAGGGGATAACGCCGGAAAGAACATGTGAGCAAAAAACGAAGACCCCAGAAAAGGCCGCGCCGGAGGCGCTTTTTCCATAGGCTCCGCCCCCCTGACGAGCATCACAAAAATCGACGCTCAAGTCAGAGGTGGCGAAACCCGACAGGACTTAAAGATACCAGGCGTTTCCCCCCGGAAGCTCCCTCGTGCGCTCTCCTGTTCCGACCCTGCCGCTTACCGGATACCTCTCCGCCTTTCTCCCTTCGGGAAGCGTGGCGCTTTCTCATAGCTCACGCTGTTGGTATCTCAGTTCGGTGTAGGTCGTTCGCTCCAAGCTGGGCTGTGTGCACGAACCCCCCGTTCAGCCCGACCACTGCGCCTTATCCGGTAACTATCGTCTTGAGTCCAACCCGGTAAGACACGACTTTACGCCACTGGCAGCAGCCATTGGTAACTGAAAAGTGGATTTAGATACGCAGAACTCTTGAAGTTGAAGCCTTATCGCGGCTACACTGAAAGGACAGCATTTGGTATCTGTGCTCCACTTAAGCCAGCTACCACAGGTTAGAAAGCCTGAGAAACTTCTAACCTTCGAAAGAACCCACGCCTGAGAACGTGGGTTTTTTCGTTTACAGGCAGCAGATTACGCGCAGAAAAAAAGGATCTCAAGAAGATCCTTTGATCTTTTCTACTGAATTGCGCTCCCGATCAGTTCAGCAGAAGATTATGATGGGGTTCTATGGGTATTGCTGCGGTAACACCCATGTTACTTGAGGTTGTATGTAGTCTGTGTAGAATTATACACATAAGGCTTAAACTGCTCTTTTTTTTCAATATGCAATTGGAAGTTCATTGACTACATAAATAGATTATTCCAAATAATTTATTTATGTAAGAACAGGATGGGAGGGGGAATGATCTCAAAGTTATTTTGCTTGGCTCTCATATTTTTATCATCAAGTGGCCTTGCAGAAAAAAACACATATACAGCAAAAGACATCTTGCAAAACCTAGAATTAAATACCTTTGGCAATTCATTGTCTCATGGCATCTATGGGAAACAGACAACCTTCAAGCAAACCGAGTTTACAAATATTAAAAGCAACACCAAAAAACACATTGCACTTATCAATAAAGACAACTCATGGATGATATCATTAAAAATACTAGGAATTAAGAGAGATGAGTATACTGTCTGTTTTGAAGATTTCTCTCTAATAAGACCGCCAACATATGTAGCCATACATCCTCTACTTATAAAAAAAGTAAAATCTGGAAACTTTATAGTAGTGAAAGAAATAAAGAAATCTATCCCTGGTTGCACTGTATATTATCATTAATAGCAAGCCCCTCATTATTATGAGGGGCTCATGGTTATTTTAACAATCCACTATCGATATCTTTTTGCACCAGAGCGCCCTCTCGTTTACGTCTGTCAGACATTCCATCAACAATATTATTAAAAGCATTTACAAGGCCATTCCAGTCTTTTGCGATAACTTTATTCCATACTGTGGGAGCAGTTCTGGATAACTTAAACCCTTTTTGATATCCAATAGACACCAGTGCTGTACGGGTTCTCAACGGTAAATCGCTGAACCGAAGACCGATATTAGCGTCATTGAAAAGACCTTCAATCTTATGTGAGAATTTATCAATATAAATATTAGATAAGAGATGAGCTTCATTATCAGAAAGCGTCAGAGGTGCTGTTCTCACTTTATCATAAGCCTCCTTCCCTCGAAGCATATAATACCCATCAAGTCTATCTGCAATATACTGAGGGACACCGTCATTCAATAAATCCTGTTTGCTTCGCTGACCAAGGTCAACCCCGGAACCGAATGTAACACCGGTACTGTTAAAATAATCGCTACTAGGATTAGACGGAAAATGACTTGTCGGATTAAACCCTTCAAAACCATTACTGGAGAAAATATCGTGGTCAACAATATTTACCGAACGACGTAAAAATTCCTTCAGTTGACTAATATTGTCAAAGTTAATGACAGTGTTGTCCGCTAGGACGATGCGATTTCGGTTATTATTCAGAATGTCTTCGTTCTCTTTCTTATCGAGATGTTCAATAGATTCGGCAATCGTTCCCTCAAGAACCATGACACGGTAGACTTTCACACCGTCTTTTTCCTGACCTGTTTCAACAGTTATTTTCTGTTCGTAAGACACGGTCCCTTCAGTTTTTGAAATTTTACTTTCCTGGCGGATCTTATTTGAATATTCACTGTCTTTCTCCATCTCCGTATCAATCGGAAACCCCATAATGTACATCAGTTTAAAATTACTCCGGCCAGGCAGATCCACATAATGTGGTAATGCAATTGTAATCGAATTAGCTTCAAAATTTGGTCTGTAACTGCTTAATGTACTTCCGGAAAAGAGAAAAGCCGGAACACCACCTGAACCATTCACTACCATTGTATCTGACATAAAAATTCCTCTTTAACACATAAAAAAAACAATAAGTTAAAAAAATACTGTACATAAAAGCACTGTTTTTATGTACAGTAATAAAATTACGCCGCTTTATTTTCTCTGTCAATAATATGAAATTTCATTTTTGTGATCTGAATCACTCTTATAAAAATCAGGAAGGGAAGATTCGCAGCAGAAAAACAGCACCGGGTAACATCAGAAAAAAACAGAAAGGAGATAACGTGAGCAAAACAAAATCTGGTCGCCACCGACTGAGCAAAACAGACAAACGCCTGCTGGCTGCACTTGTCGTTGCCGGATACGAAGAACGGACAGCCCGTGACCTCATCCAGAAACACGTTTACACACTGACACAGGCCGACCTGCGCCATCTGGTCAGTGAAATCAGTAACGGTGTGGGACAGTCACAGGCCTACGATGCGATTTACCAGGCGAGACGCATTCGTCTCGCCCGTAAATACCTGAGCGGAAAAAAACCGGAAGGGGTGGAACCCCGGGAAGGGCAGGAACGGGAAGATTTACCATAACTCCCGTTATCAGTACCATCGGCTCAACGCTCGTTGTCGGATCTGAAAAATTCGCTCAAAAGATCATATTTCCCTGGATATTTTCCACCGTTTCTTATGTGAGAAAAGTCACATAATTCTGTCAGACGACGAGAAAACGGATATCGATTATTGTTTAATATTTTTACATTATTAAAAATGAAATTAGATAATCAGATACAAATAATATGTTTTCGTTCATGCAGAGAGATTAAGGGTGTCTAATGAAGAAAAGTTCTATTGTGGCAACCATTATAACTATTCTGTCCGGGAGTGCTAATGCAGCATCATCTCAGTTAATACCAAATATATCCCCTGACAGCTTTACAGTTGCAGCCTCCACCGGGATGCTGAGTGGAAAGTCTCATGAAATGCTTTATGACGCAGAAACAGGAAGAAAGATCAGCCAGTTAGACTGGAAGATCAAAAATGTCGCTATCCTGAAAGGTGATATATCCTGGGATCCATACTCATTTCTGACCCTGAATGCCAGGGGGTGGACGTCTCTGGCTTCCGGGTCAGGTAATATGGATGACTACGACTGGATGAATGAAAATCAATCTGAGTGGACAGATCACTCATCTCATCCTGCTACAAATGTTAATCATGCCAATGAATATGACCTCAATGTGAAAGGCTGGTTACTCCAGGATGAGAATTATAAAGCAGGTATAACAGCAGGATATCAGGAAACACGTTTCAGTTGGACAGCTACAGGTGGTTCATATAGTTATAATAATGGAGCTTATACCGGAAACTTCCCGAAAGGAGTGCGGGTAATAGGTTATAACCAGCGCTTTTCTATGCCATATATTGGACTTGCAGGCCAGTATCGCATTAATGATTTTGAGTTAAATGCATTATTTAAATTCAGCGACTGGGTTCGGGCACATGATAATGATGAGCACTATATGAGAGATCTTACTTTCCGTGAGAAGACATCCGGCTCACGTTATTATGGTACCGTAATTAACGCTGGATATTATGTCACACCTAATGCCAAAGTCTTTGCGGAATTTACATACAGTAAATATGATGAGGGCAAAGGAGGTACTCAGATCATTGATAAGAATAGTGGAGATTCTGTCTCTATTGGCGGAGATGCTGCCGGTATTTCCAATAAAAATTATACTGTGACGGCGGGTCTGCAATATCGCTTCTGAAAAATACAGATCATATCTCTCTTTTCATCCTCCCCTAGCGGGGAGGATGTCTGTGGAAAGGAGGTTGGTGTTTGACCAACCTTCAGATGTGTGAAAAATCACCTTTTTCACCATAATGACGGGGCGCTCATTCTGTTGTTTTGCCTTGACATTCTCCACGTCTTTCAGGGCATGGAGAAGGTCAAATTAGACATGGAACGCTACTCTCCTTCCTGTAGGAAGCTCAACATCCAAGCTTAATTTGCCTCCCATTGCTTCAACGTAACGCTTTAACGTCGCCAGCTTTAAATCATTTCCGCGCTGCTCCAGCTTTGTTACTGCTGGCTGGCTTATACCCATCGCCTCAGCAACTTGTTTTTGTGATAACTGGAGTTCTTCACGCATCATCTGCAAGCCGACCTCAAGAATCATCTCATCTGCCATTTCTTTAATTCGTGTCTGGCTTTCAGGTGAACGACTGGCAATCACCTCATCTAATGTTCTCATTACTTGCTCTCCAGTGTGTTCAGATGTGCTGTAAATTCATCCTCAGCTATACGCACCAGTTTTTCATAAAACCGCTTATCATTACTTTTATCTCCTGCACAAAGAACGATAGCCCGACGAATCGGATCGAACGCATAAAAGGCTCTTATCGGACGGCCAGAAAACTGAACGCGAAGCTCTTTCATATTTTTGTACCGAGAACCTTTCACGGTATCGGCATATGGCCTGGGTAACTCAGGTCCGTAAACCTGTAGCTTTTTCAAATCAGCCAAAACCTTTTCCTGAAGAGCGTCTTCTTGCTCATTTAGCCAGTCGTCAAATCGCTGGCTAAAAAGTACCATCCACATGCTCAACCCTATAACCTGTAGCTTACCCCACTAACAATATAACCTACGAGTTATATTTTCAAGAAAAGCTGGCTATTTAACATAACGGCAATTTGTACGCACCACTGAAATGCGTTCAGCGCGATCACGGCAACAGACAGGCAAAAATAGCAACAAACCTCCCGAAAAACCGCCGCGATCGCGCCTGATAAATTTTAACCTTATGCATATCTATGCAGCCAGGCGAATCACGAACGAATTGCCTGCCTGATGTAACTGAAACGGGTGTTTTTTCCTGATTTGGTGGGCGTGGAAGACGGAACATGAACGGGAAAACAGAATTCATGCCAGATGAGCGCGATCTGGCAATTAAGGCAAAACACAGCAACAAAGACACGCCAGAATCGCGCCCGGATATGTTTTAACGCGATTTTCAGACTCAGACAAATTCAGCAGAATGCTACTCCATTCACCGGGCTGATGGTGAATACATGCGTATCCAGGATGAGTACATTTCTGGCTCTGCCACAGCTCTGTCTGTTGGCAGCTTTCGCCTGTCCGGAAACCTGCTTAAAACGCTCCCGAAAGGCCTCTGAACCAGAAAGCAACAAAACACAGGCCATTAAGTAAATCGCGTTAAAACACGTCTGATGGATTGCTGCAAAAAAAAGTCCCTAATGGAGCAGGGACTGTTAAACCCAGTGAATAGCGTCTAAATTAAAGTAAGAATACGACCAGGTACTCTTCAGAAAAGAGATTAATCCACCGCACAGAATAATCAACAGTAAAAACAAACAACCCTGATTTTTTATTTTTCTTTTTTTCGATAAAAACAAAATTAAAGAAATAATTAATCAGAACATTCCTTAACTTCAGGGCATTGCCTGTGTTCCATTTTGTGATTAGTCTGAAACTTCCGAAGGTGGATAACACCCGGTATTTTTTTGCTCACATAAAGCCCCTCCTTCAGGCAGAGGGGCTTTTTCTTTGCCACCACATAAAAAAGGCCCTCACAGGAGGTGTTCTGTGAGGGCGTATGATAAGGACTGAATCGATGGTTAATATGTCTAGTCCTGACTTTTGCATCTCCGAATATAAAACCCTGTTTAACGGCATGCAAAACCAAAAAATAAAAATGTGACATCGCAATGCCAGATAATATTGACGCATGAGGGAATGCGTACCCCGACCCCTG\n",
            " ACATTGCTTGCCACGTTATCACTAGGTGTGGGTTGCGGACTTTAGTCTAGGTCCCCCATTAGACGAGAGGACTAAGTCCTCTCAAATACCAGTGAAAACTCTGTCAATACCTTTAATTTTAGGACGTGTTCGTCCCTTACTCATCGGCCCGCTAACGGTCTCTTGACCCCTAGAGGGCGTTATGGCAATTTGCAATAAACGTCCGTTTTAGACTCGGCGGTTTTATATGCGGCGCTGGACGACAACGAAGTGAGGACCTACTTATGGCCCTAATATAAGCAGTTGCGTAGCGGCTACGAGTAGGAATGTTTTAGGGCCGTTGCCATTAGCGAGCGCTCTAGTCTCTGGTCCCTATAGCACCGCCTTACTGGTAAGAGTCCCGTAAGTAAGCAAGAGAGAGCCAAGGAGTCCTCGTCCTCGGACGGCAAGCCAAGCTTTGACTTGGGCCTGCTGTCTACGTCCAACTGACCCCGTGATACGCATTACCAGCGAGTGGCGAAGTGCACAAGCAACGACAAGAGCCTATGTCGGCTTACGACATGTAGCTTAAGTGACTGTTATACGCAATACTGTGCGACCTCTGGACGGTAGCATTACGCAAGGCGAAGAAACCACCACACGGCGCGCTTCACAACATACTGTTATACTTTTGACACCAAGACGTTGCACTGCGTATAGTCTGGCCAGTCGTGGCCAAGGTAGGAAGCGACACCGTCAAGCCGTTCCTCTACCCGAAGAGAGGGGCTGACACAGCGGGGAAGTCCCGTGTCTGATTTCCATTCCACCTTGCCTACCACGTCATGTGGGCATTGTCAAAAATGTAGGGTGATTACTGAGCGGACGCGGGCTACCCCTAGTGACAGCTACAACTTTGTCGGTTGGCGGTGCCAGACGCGACCGACGTGCTACAGCGATTGGTTGCTTTCGTACTTTGTTAGGTCCGGGCAGGGACGCTAGCGACCGAGCTTCTCGTCGTCAGGTACGACCGTGACGGAGGCCTCTTTTTTCTCATACTGCACGTAGAACTACTTTTAGACCACTTGAAGCTGTTTGTGGGGGACGTAGTAGGTGAGAGGTAGATGCTGAGTAAGACGTCTCCTCACCGCACTACTACCTTGACGTTGTAGTTGCTGACTACCGCGAGCGGCCCGTCAACGTTGACCTTTCGGAATATTCGCGTCGCGGACGCGACAGTGTTGTCCGTCATCTGGTCCTTACCTCAATATACCTGAAGGACCTCGTAGACGAAGTACTTCTTTTTGACCGTGCAGTAGTTGCATTTGTCCGCTACATATGGGCTTACCGTCGGAAGGGCCGCCACTTTTGCAAGCTTCTCATACTGAAGTGTAAGCGGTGGCCTCGTGGCGTCTTCGTTGAGGTCAGCAATGCGAGTGAGTCGAAGTATCTTGCATTACTTTTATAGCATAATGACCCCGGTAGTCCACACCCCTTTTGGGTAGACCGTTATCGCTACCCGATACTTCGTCAGGCACGTCCATAGTTTCAAGCGAAGTGTTGTCGTCGTCTAGACAATGAAGTCAATAGATGCCGTGTTGCAGTCCCGGCAATATTTTGCTGCGAAGTCGCACCTCATTACCGGGGGGCGGACGAGTAGTAACTACTTTATCCGATAGACGGCAAGTCAGTCCTTCTTCGTTTCGACAAGAAGGTCCAGTAGCGATTTGCAATGCTTTTCTCGCGTTACTAGGACTGTAGGTTAGACGGCAAGCCCGTCACCCTAGTTTGCAAGCGGCCACTACGTCGTGACTGGAGTCGCTACGACCTGGCATAGAATGTGGTGAGTGTACAGCAAGTTTAGTTTCCTCTTTCGATAGCTGAGTCTGTCTTTGCTTTCCGGCCCCAATATCGTCTTCGATTAGGACTCATTTTGCCACCTAGTTATAACCCGGCAACCACCTCTATATTCACCTAGTGAAAAGTAGGCAGCAACTGTGGGACTACTTAAGTGCACAAGTGCGGACTTATTGTTCTTACGGCCTCTATGCGTCAGTATAAAAAATGTGTTAAGAGATTAGGGCTGTTCCAGCATCCAGCAATATCCTTTTAAGAATCGTGGTAAGGCCTTGTTAGTCTTGTCGTCCGGTACTTGCTGACTGTTGTAATGCTTATATTTTTTGCGTGGGCCCGGTCTGTAAGGGGGATGACTAATTTGGTCGGCCTGAACAGGTGCCTTGCCAGAAAAATTTGGCTGTGTGTCAGACTCATGTCTATGTACAGTGCTACTACGTCCTAATCGCCTTCTCACACTCGTGCAAAGGCCCTTGACACCACTTGGTATCGAGTTATAAGCTCACTCCCGTATGGCCTTTGCGCGAGTCTAAGCAACATTGCGCTAAAAGGCATGGCCCGTTAAAAAAGTCAACAAAAAAGCAAAGTACAGCAGTCTTTGCAAGACTCGCGCAAAGGCCGTAGACTACGATGCGTTTGGTAGGGGTACCAGTCAACTGTCGGCCTTTGTGCGCCCACAGCAAAATCGCATAGCTGCCCTGCCGCAGCTCTTCGTGTTTTTTGTCTACAACATGAGTCAGTCAACAAAATGTCTGTCGTGACGCCGTCTAACTTTTTCATGGCATGAAAGTCCTTACAGGTCTTTGGTACACAGTCTGAAGCAAGAGGGGGAAGGCCCACTTAAAAAAACAGTAGGCAAGTCCTTAGAGAAATATTGCTAATGAGGTAAAGTCCTAAAAAATACACCGCAAATGATGTCCGTCCTATAAGTTTCCGTTTTTTTAGGGGGCCTTGTCCGCCTTGGGCCTGTCCCCCTCTTGCTTAGCGATTTATTAAAAGCATCAACATAAAGGGTAGCAACGATGACGTTGCCCTACTTAAACGGCGTCAAATAGGACATTTTGTTAGGACTAAATGAGTGTGAGGTGTATAGTGACTGCCTCGTGTTGCCTTATCACTTGTTTGTTGTTGTTTGACGCGACTTATACCGCGCTAAATAGTCTTCGGTCTCGGACTATGACGAACTTTTTGACCTACGAGACCTACGGCTGCTCGTCCGCCGGTACACACTTGCTGACGTGCTTGAGCGCCTTCTTGAGGTCTTGTCGTAGGTCCGAGCGAAACTTCGGCTTTCACTTTGTCCTTGTATTGCTTCGAGGGCCTCTGCCAGTGTCGAACAGACACTTGCCTACGGCCCTCGTCTGTTCGGGCAGTCCCGCGCAGTCGCCCAAAATCGCCCACAGCCCCGCGTCGGTACTGGGTCAGTGCATCGCTATCGCCTCACATATGACCGAATCAGTACGCCGTAGTCACGCCTAACATACTTTTCACGTGGTACATGCCACACTTTACGGCGTGTCTACGCATTCCTCTTGTACGTCTACGGCTACGAGAAGGCGAAGGAGCGAGTGACTGAGCGACGCGAGCCAGCAAGCCGACGCCGCTCGCCACAGACGAGTGAGTTTTCGCCACTATGACAATAGGTGTGTTAGTCCCCTATTGCGGCCTTTCTTGTACACTCGTTTTTTGCTTCTGGGGTCTTTTCCGGCGCGGCCTCCGCGAAAAAGGTATCCGAGGCGGGGGGACTGCTCGTAGTGTTTTTAGCTGCGAGTTCAGTCTCCACCGCTTTGGGCTGTCCTGAATTTCTATGGTCCGCAAAGGGGGGCCTTCGAGGGAGCACGCGAGAGGACAAGGCTGGGACGGCGAATGGCCTATGGAGAGGCGGAAAGAGGGAAGCCCTTCGCACCGCGAAAGAGTATCGAGTGCGACAACCATAGAGTCAAGCCACATCCAGCAAGCGAGGTTCGACCCGACACACGTGCTTGGGGGGCAAGTCGGGCTGGTGACGCGGAATAGGCCATTGATAGCAGAACTCAGGTTGGGCCATTCTGTGCTGAAATGCGGTGACCGTCGTCGGTAACCATTGACTTTTCACCTAAATCTATGCGTCTTGAGAACTTCAACTTCGGAATAGCGCCGATGTGACTTTCCTGTCGTAAACCATAGACACGAGGTGAATTCGGTCGATGGTGTCCAATCTTTCGGACTCTTTGAAGATTGGAAGCTTTCTTGGGTGCGGACTCTTGCACCCAAAAAAGCAAATGTCCGTCGTCTAATGCGCGTCTTTTTTTCCTAGAGTTCTTCTAGGAAACTAGAAAAGATGACTTAACGCGAGGGCTAGTCAAGTCGTCTTCTAATACTACCCCAAGATACCCATAACGACGCCATTGTGGGTACAATGAACTCCAACATACATCAGACACATCTTAATATGTGTATTCCGAATTTGACGAGAAAAAAAAGTTATACGTTAACCTTCAAGTAACTGATGTATTTATCTAATAAGGTTTATTAAATAAATACATTCTTGTCCTACCCTCCCCCTTACTAGAGTTTCAATAAAACGAACCGAGAGTATAAAAATAGTAGTTCACCGGAACGTCTTTTTTTGTGTATATGTCGTTTTCTGTAGAACGTTTTGGATCTTAATTTATGGAAACCGTTAAGTAACAGAGTACCGTAGATACCCTTTGTCTGTTGGAAGTTCGTTTGGCTCAAATGTTTATAATTTTCGTTGTGGTTTTTTGTGTAACGTGAATAGTTATTTCTGTTGAGTACCTACTATAGTAATTTTTATGATCCTTAATTCTCTCTACTCATATGACAGACAAAACTTCTAAAGAGAGATTATTCTGGCGGTTGTATACATCGGTATGTAGGAGATGAATATTTTTTTCATTTTAGACCTTTGAAATATCATCACTTTCTTTATTTCTTTAGATAGGGACCAACGTGACATATAATAGTAATTATCGTTCGGGGAGTAATAATACTCCCCGAGTACCAATAAAATTGTTAGGTGATAGCTATAGAAAAACGTGGTCTCGCGGGAGAGCAAATGCAGACAGTCTGTAAGGTAGTTGTTATAATAATTTTCGTAAATGTTCCGGTAAGGTCAGAAAACGCTATTGAAATAAGGTATGACACCCTCGTCAAGACCTATTGAATTTGGGAAAAACTATAGGTTATCTGTGGTCACGACATGCCCAAGAGTTGCCATTTAGCGACTTGGCTTCTGGCTATAATCGCAGTAACTTTTCTGGAAGTTAGAATACACTCTTAAATAGTTATATTTATAATCTATTCTCTACTCGAAGTAATAGTCTTTCGCAGTCTCCACGACAAGAGTGAAATAGTATTCGGAGGAAGGGAGCTTCGTATATTATGGGTAGTTCAGATAGACGTTATATGACTCCCTGTGGCAGTAAGTTATTTAGGACAAACGAAGCGACTGGTTCCAGTTGGGGCCTTGGCTTACATTGTGGCCATGACAATTTTATTAGCGATGATCCTAATCTGCCTTTTACTGAACAGCCTAATTTGGGAAGTTTTGGTAATGACCTCTTTTATAGCACCAGTTGTTATAAATGGCTTGCTGCATTTTTAAGGAAGTCAACTGATTATAACAGTTTCAATTACTGTCACAACAGGCGATCCTGCTACGCTAAAGCCAATAATAAGTCTTACAGAAGCAAGAGAAAGAATAGCTCTACAAGTTATCTAAGCCGTTAGCAAGGGAGTTCTTGGTACTGTGCCATCTGAAAGTGTGGCAGAAAAAGGACTGGACAAAGTTGTCAATAAAAGACAAGCATTCTGTGCCAGGGAAGTCAAAAACTTTAAAATGAAAGGACCGCCTAGAATAAACTTATAAGTGACAGAAAGAGGTAGAGGCATAGTTAGCCTTTGGGGTATTACATGTAGTCAAATTTTAATGAGGCCGGTCCGTCTAGGTGTATTACACCATTACGTTAACATTAGCTTAATCGAAGTTTTAAACCAGACATTGACGAATTACATGAAGGCCTTTTCTCTTTTCGGCCTTGTGGTGGACTTGGTAAGTGATGGTAACATAGACTGTATTTTTAAGGAGAAATTGTGTATTTTTTTTGTTATTCAATTTTTTTATGACATGTATTTTCGTGACAAAAATACATGTCATTATTTTAATGCGGCGAAATAAAAGAGACAGTTATTATACTTTAAAGTAAAAACACTAGACTTAGTGAGAATATTTTTAGTCCTTCCCTTCTAAGCGTCGTCTTTTTGTCGTGGCCCATTGTAGTCTTTTTTTGTCTTTCCTCTATTGCACTCGTTTTGTTTTAGACCAGCGGTGGCTGACTCGTTTTGTCTGTTTGCGGACGACCGACGTGAACAGCAACGGCCTATGCTTCTTGCCTGTCGGGCACTGGAGTAGGTCTTTGTGCAAATGTGTGACTGTGTCCGGCTGGACGCGGTAGACCAGTCACTTTAGTCATTGCCACACCCTGTCAGTGTCCGGATGCTACGCTAAATGGTCCGCTCTGCGTAAGCAGAGCGGGCATTTATGGACTCGCCTTTTTTTGGCCTTCCCCACCTTGGGGCCCTTCCCGTCCTTGCCCTTCTAAATGGTATTGAGGGCAATAGTCATGGTAGCCGAGTTGCGAGCAACAGCCTAGACTTTTTAAGCGAGTTTTCTAGTATAAAGGGACCTATAAAAGGTGGCAAAGAATACACTCTTTTCAGTGTATTAAGACAGTCTGCTGCTCTTTTGCCTATAGCTAATAACAAATTATAAAAATGTAATAATTTTTACTTTAATCTATTAGTCTATGTTTATTATACAAAAGCAAGTACGTCTCTCTAATTCCCACAGATTACTTCTTTTCAAGATAACACCGTTGGTAATATTGATAAGACAGGCCCTCACGATTACGTCGTAGTAGAGTCAATTATGGTTTATATAGGGGACTGTCGAAATGTCAACGTCGGAGGTGGCCCTACGACTCACCTTTCAGAGTACTTTACGAAATACTGCGTCTTTGTCCTTCTTTCTAGTCGGTCAATCTGACCTTCTAGTTTTTACAGCGATAGGACTTTCCACTATATAGGACCCTAGGTATGAGTAAAGACTGGGACTTACGGTCCCCCACCTGCAGAGACCGAAGGCCCAGTCCATTATACCTACTGATGCTGACCTACTTACTTTTAGTTAGACTCACCTGTCTAGTGAGTAGAGTAGGACGATGTTTACAATTAGTACGGTTACTTATACTGGAGTTACACTTTCCGACCAATGAGGTCCTACTCTTAATATTTCGTCCATATTGTCGTCCTATAGTCCTTTGTGCAAAGTCAACCTGTCGATGTCCACCAAGTATATCAATATTATTACCTCGAATATGGCCTTTGAAGGGCTTTCCTCACGCCCATTATCCAATATTGGTCGCGAAAAGATACGGTATATAACCTGAACGTCCGGTCATAGCGTAATTACTAAAACTCAATTTACGTAATAAATTTAAGTCGCTGACCCAAGCCCGTGTACTATTACTACTCGTGATATACTCTCTAGAATGAAAGGCACTCTTCTGTAGGCCGAGTGCAATAATACCATGGCATTAATTGCGACCTATAATACAGTGTGGATTACGGTTTCAGAAACGCCTTAAATGTATGTCATTTATACTACTCCCGTTTCCTCCATGAGTCTAGTAACTATTCTTATCACCTCTAAGACAGAGATAACCGCCTCTACGACGGCCATAAAGGTTATTTTTAATATGACACTGCCGCCCAGACGTTATAGCGAAGACTTTTTATGTCTAGTATAGAGAGAAAAGTAGGAGGGGATCGCCCCTCCTACAGACACCTTTCCTCCAACCACAAACTGGTTGGAAGTCTACACACTTTTTAGTGGAAAAAGTGGTATTACTGCCCCGCGAGTAAGACAACAAAACGGAACTGTAAGAGGTGCAGAAAGTCCCGTACCTCTTCCAGTTTAATCTGTACCTTGCGATGAGAGGAAGGACATCCTTCGAGTTGTAGGTTCGAATTAAACGGAGGGTAACGAAGTTGCATTGCGAAATTGCAGCGGTCGAAATTTAGTAAAGGCGCGACGAGGTCGAAACAATGACGACCGACCGAATATGGGTAGCGGAGTCGTTGAACAAAAACACTATTGACCTCAAGAAGTGCGTAGTAGACGTTCGGCTGGAGTTCTTAGTAGAGTAGACGGTAAAGAAATTAAGCACAGACCGAAAGTCCACTTGCTGACCGTTAGTGGAGTAGATTACAAGAGTAATGAACGAGAGGTCACACAAGTCTACACGACATTTAAGTAGGAGTCGATATGCGTGGTCAAAAAGTATTTTGGCGAATAGTAATGAAAATAGAGGACGTGTTTCTTGCTATCGGGCTGCTTAGCCTAGCTTGCGTATTTTCCGAGAATAGCCTGCCGGTCTTTTGACTTGCGCTTCGAGAAAGTATAAAAACATGGCTCTTGGAAAGTGCCATAGCCGTATACCGGACCCATTGAGTCCAGGCATTTGGACATCGAAAAAGTTTAGTCGGTTTTGGAAAAGGACTTCTCGCAGAAGAACGAGTAAATCGGTCAGCAGTTTAGCGACCGATTTTTCATGGTAGGTGTACGAGTTGGGATATTGGACATCGAATGGGGTGATTGTTATATTGGATGCTCAATATAAAAGTTCTTTTCGACCGATAAATTGTATTGCCGTTAAACATGCGTGGTGACTTTACGCAAGTCGCGCTAGTGCCGTTGTCTGTCCGTTTTTATCGTTGTTTGGAGGGCTTTTTGGCGGCGCTAGCGCGGACTATTTAAAATTGGAATACGTATAGATACGTCGGTCCGCTTAGTGCTTGCTTAACGGACGGACTACATTGACTTTGCCCACAAAAAAGGACTAAACCACCCGCACCTTCTGCCTTGTACTTGCCCTTTTGTCTTAAGTACGGTCTACTCGCGCTAGACCGTTAATTCCGTTTTGTGTCGTTGTTTCTGTGCGGTCTTAGCGCGGGCCTATACAAAATTGCGCTAAAAGTCTGAGTCTGTTTAAGTCGTCTTACGATGAGGTAAGTGGCCCGACTACCACTTATGTACGCATAGGTCCTACTCATGTAAAGACCGAGACGGTGTCGAGACAGACAACCGTCGAAAGCGGACAGGCCTTTGGACGAATTTTGCGAGGGCTTTCCGGAGACTTGGTCTTTCGTTGTTTTGTGTCCGGTAATTCATTTAGCGCAATTTTGTGCAGACTACCTAACGACGTTTTTTTTCAGGGATTACCTCGTCCCTGACAATTTGGGTCACTTATCGCAGATTTAATTTCATTCTTATGCTGGTCCATGAGAAGTCTTTTCTCTAATTAGGTGGCGTGTCTTATTAGTTGTCATTTTTGTTTGTTGGGACTAAAAAATAAAAAGAAAAAAAGCTATTTTTGTTTTAATTTCTTTATTAATTAGTCTTGTAAGGAATTGAAGTCCCGTAACGGACACAAGGTAAAACACTAATCAGACTTTGAAGGCTTCCACCTATTGTGGGCCATAAAAAAACGAGTGTATTTCGGGGAGGAAGTCCGTCTCCCCGAAAAAGAAACGGTGGTGTATTTTTTCCGGGAGTGTCCTCCACAAGACACTCCCGCATACTATTCCTGACTTAGCTACCAATTATACAGATCAGGACTGAAAACGTAGAGGCTTATATTTTGGGACAAATTGCCGTACGTTTTGGTTTTTTATTTTTACACTGTAGCGTTACGGTCTATTATAACTGCGTACTCCCTTACGCATGGGGCTGGGGAC\n",
            "Втора DNA низа:\n",
            " TGTAACGAACGGTGCAATAGTGATCCACACCCAACGCCTGAAATCAGATCCAGGGGGTAATCTGCTCTCCTGATTCAGGAGAGTTTATGGTCACTTTTGAGACAGTTATGGAAATTAAAATCCTGCACAAGCAGGGAATGAGTAGCCGGGCGATTGCCAGAGAACTGGGGATCTCCCGCAATACCGTTAAACGTTATTTGCAGGCAAAATCTGAGCCGCCAAAATATACGCCGCGACCTGCTGTTGCTTCACTCCTGGATGAATACCGGGATTATATTCGTCAACGCATCGCCGATGCTCATCCTTACAAAATCCCGGCAACGGTAATCGCTCGCGAGATCAGAGACCAGGGATATCGTGGCGGAATGACCATTCTCAGGGCATTCATTCGTTCTCTCTCGGTTCCTCAGGAGCAGGAGCCTGCCGTTCGGTTCGAAACTGAACCCGGACGACAGATGCAGGTTGACTGGGGCACTATGCGTAATGGTCGCTCACCGCTTCACGTGTTCGTTGCTGTTCTCGGATACAGCCGAATGCTGTACATCGAATTCACTGACAATATGCGTTATGACACGCTGGAGACCTGCCATCGTAATGCGTTCCGCTTCTTTGGTGGTGTGCCGCGCGAAGTGTTGTATGACAATATGAAAACTGTGGTTCTGCAACGTGACGCATATCAGACCGGTCAGCACCGGTTCCATCCTTCGCTGTGGCAGTTCGGCAAGGAGATGGGCTTCTCTCCCCGACTGTGTCGCCCCTTCAGGGCACAGACTAAAGGTAAGGTGGAACGGATGGTGCAGTACACCCGTAACAGTTTTTACATCCCACTAATGACTCGCCTGCGCCCGATGGGGATCACTGTCGATGTTGAAACAGCCAACCGCCACGGTCTGCGCTGGCTGCACGATGTCGCTAACCAACGAAAGCATGAAACAATCCAGGCCCGTCCCTGCGATCGCTGGCTCGAAGAGCAGCAGTCCATGCTGGCACTGCCTCCGGAGAAAAAAGAGTATGACGTGCATCTTGATGAAAATCTGGTGAACTTCGACAAACACCCCCTGCATCATCCACTCTCCATCTACGACTCATTCTGCAGAGGAGTGGCGTGATGATGGAACTGCAACATCAACGACTGATGGCGCTCGCCGGGCAGTTGCAACTGGAAAGCCTTATAAGCGCAGCGCCTGCGCTGTCACAACAGGCAGTAGACCAGGAATGGAGTTATATGGACTTCCTGGAGCATCTGCTTCATGAAGAAAAACTGGCACGTCATCAACGTAAACAGGCGATGTATACCCGAATGGCAGCCTTCCCGGCGGTGAAAACGTTCGAAGAGTATGACTTCACATTCGCCACCGGAGCACCGCAGAAGCAACTCCAGTCGTTACGCTCACTCAGCTTCATAGAACGTAATGAAAATATCGTATTACTGGGGCCATCAGGTGTGGGGAAAACCCATCTGGCAATAGCGATGGGCTATGAAGCAGTCCGTGCAGGTATCAAAGTTCGCTTCACAACAGCAGCAGATCTGTTACTTCAGTTATCTACGGCACAACGTCAGGGCCGTTATAAAACGACGCTTCAGCGTGGAGTAATGGCCCCCCGCCTGCTCATCATTGATGAAATAGGCTATCTGCCGTTCAGTCAGGAAGAAGCAAAGCTGTTCTTCCAGGTCATCGCTAAACGTTACGAAAAGAGCGCAATGATCCTGACATCCAATCTGCCGTTCGGGCAGTGGGATCAAACGTTCGCCGGTGATGCAGCACTGACCTCAGCGATGCTGGACCGTATCTTACACCACTCACATGTCGTTCAAATCAAAGGAGAAAGCTATCGACTCAGACAGAAACGAAAGGCCGGGGTTATAGCAGAAGCTAATCCTGAGTAAAACGGTGGATCAATATTGGGCCGTTGGTGGAGATATAAGTGGATCACTTTTCATCCGTCGTTGACACCCTGATGAATTCACGTGTTCACGCCTGAATAACAAGAATGCCGGAGATACGCAGTCATATTTTTTACACAATTCTCTAATCCCGACAAGGTCGTAGGTCGTTATAGGAAAATTCTTAGCACCATTCCGGAACAATCAGAACAGCAGGCCATGAACGACTGACAACATTACGAATATAAAAAACGCACCCGGGCCAGACATTCCCCCTACTGATTAAACCAGCCGGACTTGTCCACGGAACGGTCTTTTTAAACCGACACACAGTCTGAGTACAGATACATGTCACGATGATGCAGGATTAGCGGAAGAGTGTGAGCACGTTTCCGGGAACTGTGGTGAACCATAGCTCAATATTCGAGTGAGGGCATACCGGAAACGCGCTCAGATTCGTTGTAACGCGATTTTCCGTACCGGGCAATTTTTTCAGTTGTTTTTTCGTTTCATGTCGTCAGAAACGTTCTGAGCGCGTTTCCGGCATCTGATGCTACGCAAACCATCCCCATGGTCAGTTGACAGCCGGAAACACGCGGGTGTCGTTTTAGCGTATCGACGGGACGGCGTCGAGAAGCACAAAAAACAGATGTTGTACTCAGTCAGTTGTTTTACAGACAGCACTGCGGCAGATTGAAAAAGTACCGTACTTTCAGGAATGTCCAGAAACCATGTGTCAGACTTCGTTCTCCCCCTTCCGGGTGAATTTTTTTGTCATCCGTTCAGGAATCTCTTTATAACGATTACTCCATTTCAGGATTTTTTATGTGGCGTTTACTACAGGCAGGATATTCAAAGGCAAAAAAATCCCCCGGAACAGGCGGAACCCGGACAGGGGGAGAACGAATCGCTAAATAATTTTCGTAGTTGTATTTCCCATCGTTGCTACTGCAACGGGATGAATTTGCCGCAGTTTATCCTGTAAAACAATCCTGATTTACTCACACTCCACATATCACTGACGGAGCACAACGGAATAGTGAACAAACAACAACAAACTGCGCTGAATATGGCGCGATTTATCAGAAGCCAGAGCCTGATACTGCTTGAAAAACTGGATGCTCTGGATGCCGACGAGCAGGCGGCCATGTGTGAACGACTGCACGAACTCGCGGAAGAACTCCAGAACAGCATCCAGGCTCGCTTTGAAGCCGAAAGTGAAACAGGAACATAACGAAGCTCCCGGAGACGGTCACAGCTTGTCTGTGAACGGATGCCGGGAGCAGACAAGCCCGTCAGGGCGCGTCAGCGGGTTTTAGCGGGTGTCGGGGCGCAGCCATGACCCAGTCACGTAGCGATAGCGGAGTGTATACTGGCTTAGTCATGCGGCATCAGTGCGGATTGTATGAAAAGTGCACCATGTACGGTGTGAAATGCCGCACAGATGCGTAAGGAGAACATGCAGATGCCGATGCTCTTCCGCTTCCTCGCTCACTGACTCGCTGCGCTCGGTCGTTCGGCTGCGGCGAGCGGTGTCTGCTCACTCAAAAGCGGTGATACTGTTATCCACACAATCAGGGGATAACGCCGGAAAGAACATGTGAGCAAAAAACGAAGACCCCAGAAAAGGCCGCGCCGGAGGCGCTTTTTCCATAGGCTCCGCCCCCCTGACGAGCATCACAAAAATCGACGCTCAAGTCAGAGGTGGCGAAACCCGACAGGACTTAAAGATACCAGGCGTTTCCCCCCGGAAGCTCCCTCGTGCGCTCTCCTGTTCCGACCCTGCCGCTTACCGGATACCTCTCCGCCTTTCTCCCTTCGGGAAGCGTGGCGCTTTCTCATAGCTCACGCTGTTGGTATCTCAGTTCGGTGTAGGTCGTTCGCTCCAAGCTGGGCTGTGTGCACGAACCCCCCGTTCAGCCCGACCACTGCGCCTTATCCGGTAACTATCGTCTTGAGTCCAACCCGGTAAGACACGACTTTACGCCACTGGCAGCAGCCATTGGTAACTGAAAAGTGGATTTAGATACGCAGAACTCTTGAAGTTGAAGCCTTATCGCGGCTACACTGAAAGGACAGCATTTGGTATCTGTGCTCCACTTAAGCCAGCTACCACAGGTTAGAAAGCCTGAGAAACTTCTAACCTTCGAAAGAACCCACGCCTGAGAACGTGGGTTTTTTCGTTTACAGGCAGCAGATTACGCGCAGAAAAAAAGGATCTCAAGAAGATCCTTTGATCTTTTCTACTGAATTGCGCTCCCGATCAGTTCAGCAGAAGATTATGATGGGGTTCTATGGGTATTGCTGCGGTAACACCCATGTTACTTGAGGTTGTATGTAGTCTGTGTAGAATTATACACATAAGGCTTAAACTGCTCTTTTTTTTCAATATGCAATTGGAAGTTCATTGACTACATAAATAGATTATTCCAAATAATTTATTTATGTAAGAACAGGATGGGAGGGGGAATGATCTCAAAGTTATTTTGCTTGGCTCTCATATTTTTATCATCAAGTGGCCTTGCAGAAAAAAACACATATACAGCAAAAGACATCTTGCAAAACCTAGAATTAAATACCTTTGGCAATTCATTGTCTCATGGCATCTATGGGAAACAGACAACCTTCAAGCAAACCGAGTTTACAAATATTAAAAGCAACACCAAAAAACACATTGCACTTATCAATAAAGACAACTCATGGATGATATCATTAAAAATACTAGGAATTAAGAGAGATGAGTATACTGTCTGTTTTGAAGATTTCTCTCTAATAAGACCGCCAACATATGTAGCCATACATCCTCTACTTATAAAAAAAGTAAAATCTGGAAACTTTATAGTAGTGAAAGAAATAAAGAAATCTATCCCTGGTTGCACTGTATATTATCATTAATAGCAAGCCCCTCATTATTATGAGGGGCTCATGGTTATTTTAACAATCCACTATCGATATCTTTTTGCACCAGAGCGCCCTCTCGTTTACGTCTGTCAGACATTCCATCAACAATATTATTAAAAGCATTTACAAGGCCATTCCAGTCTTTTGCGATAACTTTATTCCATACTGTGGGAGCAGTTCTGGATAACTTAAACCCTTTTTGATATCCAATAGACACCAGTGCTGTACGGGTTCTCAACGGTAAATCGCTGAACCGAAGACCGATATTAGCGTCATTGAAAAGACCTTCAATCTTATGTGAGAATTTATCAATATAAATATTAGATAAGAGATGAGCTTCATTATCAGAAAGCGTCAGAGGTGCTGTTCTCACTTTATCATAAGCCTCCTTCCCTCGAAGCATATAATACCCATCAAGTCTATCTGCAATATACTGAGGGACACCGTCATTCAATAAATCCTGTTTGCTTCGCTGACCAAGGTCAACCCCGGAACCGAATGTAACACCGGTACTGTTAAAATAATCGCTACTAGGATTAGACGGAAAATGACTTGTCGGATTAAACCCTTCAAAACCATTACTGGAGAAAATATCGTGGTCAACAATATTTACCGAACGACGTAAAAATTCCTTCAGTTGACTAATATTGTCAAAGTTAATGACAGTGTTGTCCGCTAGGACGATGCGATTTCGGTTATTATTCAGAATGTCTTCGTTCTCTTTCTTATCGAGATGTTCAATAGATTCGGCAATCGTTCCCTCAAGAACCATGACACGGTAGACTTTCACACCGTCTTTTTCCTGACCTGTTTCAACAGTTATTTTCTGTTCGTAAGACACGGTCCCTTCAGTTTTTGAAATTTTACTTTCCTGGCGGATCTTATTTGAATATTCACTGTCTTTCTCCATCTCCGTATCAATCGGAAACCCCATAATGTACATCAGTTTAAAATTACTCCGGCCAGGCAGATCCACATAATGTGGTAATGCAATTGTAATCGAATTAGCTTCAAAATTTGGTCTGTAACTGCTTAATGTACTTCCGGAAAAGAGAAAAGCCGGAACACCACCTGAACCATTCACTACCATTGTATCTGACATAAAAATTCCTCTTTAACACATAAAAAAAACAATAAGTTAAAAAAATACTGTACATAAAAGCACTGTTTTTATGTACAGTAATAAAATTACGCCGCTTTATTTTCTCTGTCAATAATATGAAATTTCATTTTTGTGATCTGAATCACTCTTATAAAAATCAGGAAGGGAAGATTCGCAGCAGAAAAACAGCACCGGGTAACATCAGAAAAAAACAGAAAGGAGATAACGTGAGCAAAACAAAATCTGGTCGCCACCGACTGAGCAAAACAGACAAACGCCTGCTGGCTGCACTTGTCGTTGCCGGATACGAAGAACGGACAGCCCGTGACCTCATCCAGAAACACGTTTACACACTGACACAGGCCGACCTGCGCCATCTGGTCAGTGAAATCAGTAACGGTGTGGGACAGTCACAGGCCTACGATGCGATTTACCAGGCGAGACGCATTCGTCTCGCCCGTAAATACCTGAGCGGAAAAAAACCGGAAGGGGTGGAACCCCGGGAAGGGCAGGAACGGGAAGATTTACCATAACTCCCGTTATCAGTACCATCGGCTCAACGCTCGTTGTCGGATCTGAAAAATTCGCTCAAAAGATCATATTTCCCTGGATATTTTCCACCGTTTCTTATGTGAGAAAAGTCACATAATTCTGTCAGACGACGAGAAAACGGATATCGATTATTGTTTAATATTTTTACATTATTAAAAATGAAATTAGATAATCAGATACAAATAATATGTTTTCGTTCATGCAGAGAGATTAAGGGTGTCTAATGAAGAAAAGTTCTATTGTGGCAACCATTATAACTATTCTGTCCGGGAGTGCTAATGCAGCATCATCTCAGTTAATACCAAATATATCCCCTGACAGCTTTACAGTTGCAGCCTCCACCGGGATGCTGAGTGGAAAGTCTCATGAAATGCTTTATGACGCAGAAACAGGAAGAAAGATCAGCCAGTTAGACTGGAAGATCAAAAATGTCGCTATCCTGAAAGGTGATATATCCTGGGATCCATACTCATTTCTGACCCTGAATGCCAGGGGGTGGACGTCTCTGGCTTCCGGGTCAGGTAATATGGATGACTACGACTGGATGAATGAAAATCAATCTGAGTGGACAGATCACTCATCTCATCCTGCTACAAATGTTAATCATGCCAATGAATATGACCTCAATGTGAAAGGCTGGTTACTCCAGGATGAGAATTATAAAGCAGGTATAACAGCAGGATATCAGGAAACACGTTTCAGTTGGACAGCTACAGGTGGTTCATATAGTTATAATAATGGAGCTTATACCGGAAACTTCCCGAAAGGAGTGCGGGTAATAGGTTATAACCAGCGCTTTTCTATGCCATATATTGGACTTGCAGGCCAGTATCGCATTAATGATTTTGAGTTAAATGCATTATTTAAATTCAGCGACTGGGTTCGGGCACATGATAATGATGAGCACTATATGAGAGATCTTACTTTCCGTGAGAAGACATCCGGCTCACGTTATTATGGTACCGTAATTAACGCTGGATATTATGTCACACCTAATGCCAAAGTCTTTGCGGAATTTACATACAGTAAATATGATGAGGGCAAAGGAGGTACTCAGATCATTGATAAGAATAGTGGAGATTCTGTCTCTATTGGCGGAGATGCTGCCGGTATTTCCAATAAAAATTATACTGTGACGGCGGGTCTGCAATATCGCTTCTGAAAAATACAGATCATATCTCTCTTTTCATCCTCCCCTAGCGGGGAGGATGTCTGTGGAAAGGAGGTTGGTGTTTGACCAACCTTCAGATGTGTGAAAAATCACCTTTTTCACCATAATGACGGGGCGCTCATTCTGTTGTTTTGCCTTGACATTCTCCACGTCTTTCAGGGCATGGAGAAGGTCAAATTAGACATGGAACGCTACTCTCCTTCCTGTAGGAAGCTCAACATCCAAGCTTAATTTGCCTCCCATTGCTTCAACGTAACGCTTTAACGTCGCCAGCTTTAAATCATTTCCGCGCTGCTCCAGCTTTGTTACTGCTGGCTGGCTTATACCCATCGCCTCAGCAACTTGTTTTTGTGATAACTGGAGTTCTTCACGCATCATCTGCAAGCCGACCTCAAGAATCATCTCATCTGCCATTTCTTTAATTCGTGTCTGGCTTTCAGGTGAACGACTGGCAATCACCTCATCTAATGTTCTCATTACTTGCTCTCCAGTGTGTTCAGATGTGCTGTAAATTCATCCTCAGCTATACGCACCAGTTTTTCATAAAACCGCTTATCATTACTTTTATCTCCTGCACAAAGAACGATAGCCCGACGAATCGGATCGAACGCATAAAAGGCTCTTATCGGACGGCCAGAAAACTGAACGCGAAGCTCTTTCATATTTTTGTACCGAGAACCTTTCACGGTATCGGCATATGGCCTGGGTAACTCAGGTCCGTAAACCTGTAGCTTTTTCAAATCAGCCAAAACCTTTTCCTGAAGAGCGTCTTCTTGCTCATTTAGCCAGTCGTCAAATCGCTGGCTAAAAAGTACCATCCACATGCTCAACCCTATAACCTGTAGCTTACCCCACTAACAATATAACCTACGAGTTATATTTTCAAGAAAAGCTGGCTATTTAACATAACGGCAATTTGTACGCACCACTGAAATGCGTTCAGCGCGATCACGGCAACAGACAGGCAAAAATAGCAACAAACCTCCCGAAAAACCGCCGCGATCGCGCCTGATAAATTTTAACCTTATGCATATCTATGCAGCCAGGCGAATCACGAACGAATTGCCTGCCTGATGTAACTGAAACGGGTGTTTTTTCCTGATTTGGTGGGCGTGGAAGACGGAACATGAACGGGAAAACAGAATTCATGCCAGATGAGCGCGATCTGGCAATTAAGGCAAAACACAGCAACAAAGACACGCCAGAATCGCGCCCGGATATGTTTTAACGCGATTTTCAGACTCAGACAAATTCAGCAGAATGCTACTCCATTCACCGGGCTGATGGTGAATACATGCGTATCCAGGATGAGTACATTTCTGGCTCTGCCACAGCTCTGTCTGTTGGCAGCTTTCGCCTGTCCGGAAACCTGCTTAAAACGCTCCCGAAAGGCCTCTGAACCAGAAAGCAACAAAACACAGGCCATTAAGTAAATCGCGTTAAAACACGTCTGATGGATTGCTGCAAAAAAAAGTCCCTAATGGAGCAGGGACTGTTAAACCCAGTGAATAGCGTCTAAATTAAAGTAAGAATACGACCAGGTACTCTTCAGAAAAGAGATTAATCCACCGCACAGAATAATCAACAGTAAAAACAAACAACCCTGATTTTTTATTTTTCTTTTTTTCGATAAAAACAAAATTAAAGAAATAATTAATCAGAACATTCCTTAACTTCAGGGCATTGCCTGTGTTCCATTTTGTGATTAGTCTGAAACTTCCGAAGGTGGATAACACCCGGTATTTTTTTGCTCACATAAAGCCCCTCCTTCAGGCAGAGGGGCTTTTTCTTTGCCACCACATAAAAAAGGCCCTCACAGGAGGTGTTCTGTGAGGGCGTATGATAAGGACTGAATCGATGGTTAATATGTCTAGTCCTGACTTTTGCATCTCCGAATATAAAACCCTGTTTAACGGCATGCAAAACCAAAAAATAAAAATGTGACATCGCAATGCCAGATAATATTGACGCATGAGGGAATGCGTACCCCGACCCCTG\n",
            " ACATTGCTTGCCACGTTATCACTAGGTGTGGGTTGCGGACTTTAGTCTAGGTCCCCCATTAGACGAGAGGACTAAGTCCTCTCAAATACCAGTGAAAACTCTGTCAATACCTTTAATTTTAGGACGTGTTCGTCCCTTACTCATCGGCCCGCTAACGGTCTCTTGACCCCTAGAGGGCGTTATGGCAATTTGCAATAAACGTCCGTTTTAGACTCGGCGGTTTTATATGCGGCGCTGGACGACAACGAAGTGAGGACCTACTTATGGCCCTAATATAAGCAGTTGCGTAGCGGCTACGAGTAGGAATGTTTTAGGGCCGTTGCCATTAGCGAGCGCTCTAGTCTCTGGTCCCTATAGCACCGCCTTACTGGTAAGAGTCCCGTAAGTAAGCAAGAGAGAGCCAAGGAGTCCTCGTCCTCGGACGGCAAGCCAAGCTTTGACTTGGGCCTGCTGTCTACGTCCAACTGACCCCGTGATACGCATTACCAGCGAGTGGCGAAGTGCACAAGCAACGACAAGAGCCTATGTCGGCTTACGACATGTAGCTTAAGTGACTGTTATACGCAATACTGTGCGACCTCTGGACGGTAGCATTACGCAAGGCGAAGAAACCACCACACGGCGCGCTTCACAACATACTGTTATACTTTTGACACCAAGACGTTGCACTGCGTATAGTCTGGCCAGTCGTGGCCAAGGTAGGAAGCGACACCGTCAAGCCGTTCCTCTACCCGAAGAGAGGGGCTGACACAGCGGGGAAGTCCCGTGTCTGATTTCCATTCCACCTTGCCTACCACGTCATGTGGGCATTGTCAAAAATGTAGGGTGATTACTGAGCGGACGCGGGCTACCCCTAGTGACAGCTACAACTTTGTCGGTTGGCGGTGCCAGACGCGACCGACGTGCTACAGCGATTGGTTGCTTTCGTACTTTGTTAGGTCCGGGCAGGGACGCTAGCGACCGAGCTTCTCGTCGTCAGGTACGACCGTGACGGAGGCCTCTTTTTTCTCATACTGCACGTAGAACTACTTTTAGACCACTTGAAGCTGTTTGTGGGGGACGTAGTAGGTGAGAGGTAGATGCTGAGTAAGACGTCTCCTCACCGCACTACTACCTTGACGTTGTAGTTGCTGACTACCGCGAGCGGCCCGTCAACGTTGACCTTTCGGAATATTCGCGTCGCGGACGCGACAGTGTTGTCCGTCATCTGGTCCTTACCTCAATATACCTGAAGGACCTCGTAGACGAAGTACTTCTTTTTGACCGTGCAGTAGTTGCATTTGTCCGCTACATATGGGCTTACCGTCGGAAGGGCCGCCACTTTTGCAAGCTTCTCATACTGAAGTGTAAGCGGTGGCCTCGTGGCGTCTTCGTTGAGGTCAGCAATGCGAGTGAGTCGAAGTATCTTGCATTACTTTTATAGCATAATGACCCCGGTAGTCCACACCCCTTTTGGGTAGACCGTTATCGCTACCCGATACTTCGTCAGGCACGTCCATAGTTTCAAGCGAAGTGTTGTCGTCGTCTAGACAATGAAGTCAATAGATGCCGTGTTGCAGTCCCGGCAATATTTTGCTGCGAAGTCGCACCTCATTACCGGGGGGCGGACGAGTAGTAACTACTTTATCCGATAGACGGCAAGTCAGTCCTTCTTCGTTTCGACAAGAAGGTCCAGTAGCGATTTGCAATGCTTTTCTCGCGTTACTAGGACTGTAGGTTAGACGGCAAGCCCGTCACCCTAGTTTGCAAGCGGCCACTACGTCGTGACTGGAGTCGCTACGACCTGGCATAGAATGTGGTGAGTGTACAGCAAGTTTAGTTTCCTCTTTCGATAGCTGAGTCTGTCTTTGCTTTCCGGCCCCAATATCGTCTTCGATTAGGACTCATTTTGCCACCTAGTTATAACCCGGCAACCACCTCTATATTCACCTAGTGAAAAGTAGGCAGCAACTGTGGGACTACTTAAGTGCACAAGTGCGGACTTATTGTTCTTACGGCCTCTATGCGTCAGTATAAAAAATGTGTTAAGAGATTAGGGCTGTTCCAGCATCCAGCAATATCCTTTTAAGAATCGTGGTAAGGCCTTGTTAGTCTTGTCGTCCGGTACTTGCTGACTGTTGTAATGCTTATATTTTTTGCGTGGGCCCGGTCTGTAAGGGGGATGACTAATTTGGTCGGCCTGAACAGGTGCCTTGCCAGAAAAATTTGGCTGTGTGTCAGACTCATGTCTATGTACAGTGCTACTACGTCCTAATCGCCTTCTCACACTCGTGCAAAGGCCCTTGACACCACTTGGTATCGAGTTATAAGCTCACTCCCGTATGGCCTTTGCGCGAGTCTAAGCAACATTGCGCTAAAAGGCATGGCCCGTTAAAAAAGTCAACAAAAAAGCAAAGTACAGCAGTCTTTGCAAGACTCGCGCAAAGGCCGTAGACTACGATGCGTTTGGTAGGGGTACCAGTCAACTGTCGGCCTTTGTGCGCCCACAGCAAAATCGCATAGCTGCCCTGCCGCAGCTCTTCGTGTTTTTTGTCTACAACATGAGTCAGTCAACAAAATGTCTGTCGTGACGCCGTCTAACTTTTTCATGGCATGAAAGTCCTTACAGGTCTTTGGTACACAGTCTGAAGCAAGAGGGGGAAGGCCCACTTAAAAAAACAGTAGGCAAGTCCTTAGAGAAATATTGCTAATGAGGTAAAGTCCTAAAAAATACACCGCAAATGATGTCCGTCCTATAAGTTTCCGTTTTTTTAGGGGGCCTTGTCCGCCTTGGGCCTGTCCCCCTCTTGCTTAGCGATTTATTAAAAGCATCAACATAAAGGGTAGCAACGATGACGTTGCCCTACTTAAACGGCGTCAAATAGGACATTTTGTTAGGACTAAATGAGTGTGAGGTGTATAGTGACTGCCTCGTGTTGCCTTATCACTTGTTTGTTGTTGTTTGACGCGACTTATACCGCGCTAAATAGTCTTCGGTCTCGGACTATGACGAACTTTTTGACCTACGAGACCTACGGCTGCTCGTCCGCCGGTACACACTTGCTGACGTGCTTGAGCGCCTTCTTGAGGTCTTGTCGTAGGTCCGAGCGAAACTTCGGCTTTCACTTTGTCCTTGTATTGCTTCGAGGGCCTCTGCCAGTGTCGAACAGACACTTGCCTACGGCCCTCGTCTGTTCGGGCAGTCCCGCGCAGTCGCCCAAAATCGCCCACAGCCCCGCGTCGGTACTGGGTCAGTGCATCGCTATCGCCTCACATATGACCGAATCAGTACGCCGTAGTCACGCCTAACATACTTTTCACGTGGTACATGCCACACTTTACGGCGTGTCTACGCATTCCTCTTGTACGTCTACGGCTACGAGAAGGCGAAGGAGCGAGTGACTGAGCGACGCGAGCCAGCAAGCCGACGCCGCTCGCCACAGACGAGTGAGTTTTCGCCACTATGACAATAGGTGTGTTAGTCCCCTATTGCGGCCTTTCTTGTACACTCGTTTTTTGCTTCTGGGGTCTTTTCCGGCGCGGCCTCCGCGAAAAAGGTATCCGAGGCGGGGGGACTGCTCGTAGTGTTTTTAGCTGCGAGTTCAGTCTCCACCGCTTTGGGCTGTCCTGAATTTCTATGGTCCGCAAAGGGGGGCCTTCGAGGGAGCACGCGAGAGGACAAGGCTGGGACGGCGAATGGCCTATGGAGAGGCGGAAAGAGGGAAGCCCTTCGCACCGCGAAAGAGTATCGAGTGCGACAACCATAGAGTCAAGCCACATCCAGCAAGCGAGGTTCGACCCGACACACGTGCTTGGGGGGCAAGTCGGGCTGGTGACGCGGAATAGGCCATTGATAGCAGAACTCAGGTTGGGCCATTCTGTGCTGAAATGCGGTGACCGTCGTCGGTAACCATTGACTTTTCACCTAAATCTATGCGTCTTGAGAACTTCAACTTCGGAATAGCGCCGATGTGACTTTCCTGTCGTAAACCATAGACACGAGGTGAATTCGGTCGATGGTGTCCAATCTTTCGGACTCTTTGAAGATTGGAAGCTTTCTTGGGTGCGGACTCTTGCACCCAAAAAAGCAAATGTCCGTCGTCTAATGCGCGTCTTTTTTTCCTAGAGTTCTTCTAGGAAACTAGAAAAGATGACTTAACGCGAGGGCTAGTCAAGTCGTCTTCTAATACTACCCCAAGATACCCATAACGACGCCATTGTGGGTACAATGAACTCCAACATACATCAGACACATCTTAATATGTGTATTCCGAATTTGACGAGAAAAAAAAGTTATACGTTAACCTTCAAGTAACTGATGTATTTATCTAATAAGGTTTATTAAATAAATACATTCTTGTCCTACCCTCCCCCTTACTAGAGTTTCAATAAAACGAACCGAGAGTATAAAAATAGTAGTTCACCGGAACGTCTTTTTTTGTGTATATGTCGTTTTCTGTAGAACGTTTTGGATCTTAATTTATGGAAACCGTTAAGTAACAGAGTACCGTAGATACCCTTTGTCTGTTGGAAGTTCGTTTGGCTCAAATGTTTATAATTTTCGTTGTGGTTTTTTGTGTAACGTGAATAGTTATTTCTGTTGAGTACCTACTATAGTAATTTTTATGATCCTTAATTCTCTCTACTCATATGACAGACAAAACTTCTAAAGAGAGATTATTCTGGCGGTTGTATACATCGGTATGTAGGAGATGAATATTTTTTTCATTTTAGACCTTTGAAATATCATCACTTTCTTTATTTCTTTAGATAGGGACCAACGTGACATATAATAGTAATTATCGTTCGGGGAGTAATAATACTCCCCGAGTACCAATAAAATTGTTAGGTGATAGCTATAGAAAAACGTGGTCTCGCGGGAGAGCAAATGCAGACAGTCTGTAAGGTAGTTGTTATAATAATTTTCGTAAATGTTCCGGTAAGGTCAGAAAACGCTATTGAAATAAGGTATGACACCCTCGTCAAGACCTATTGAATTTGGGAAAAACTATAGGTTATCTGTGGTCACGACATGCCCAAGAGTTGCCATTTAGCGACTTGGCTTCTGGCTATAATCGCAGTAACTTTTCTGGAAGTTAGAATACACTCTTAAATAGTTATATTTATAATCTATTCTCTACTCGAAGTAATAGTCTTTCGCAGTCTCCACGACAAGAGTGAAATAGTATTCGGAGGAAGGGAGCTTCGTATATTATGGGTAGTTCAGATAGACGTTATATGACTCCCTGTGGCAGTAAGTTATTTAGGACAAACGAAGCGACTGGTTCCAGTTGGGGCCTTGGCTTACATTGTGGCCATGACAATTTTATTAGCGATGATCCTAATCTGCCTTTTACTGAACAGCCTAATTTGGGAAGTTTTGGTAATGACCTCTTTTATAGCACCAGTTGTTATAAATGGCTTGCTGCATTTTTAAGGAAGTCAACTGATTATAACAGTTTCAATTACTGTCACAACAGGCGATCCTGCTACGCTAAAGCCAATAATAAGTCTTACAGAAGCAAGAGAAAGAATAGCTCTACAAGTTATCTAAGCCGTTAGCAAGGGAGTTCTTGGTACTGTGCCATCTGAAAGTGTGGCAGAAAAAGGACTGGACAAAGTTGTCAATAAAAGACAAGCATTCTGTGCCAGGGAAGTCAAAAACTTTAAAATGAAAGGACCGCCTAGAATAAACTTATAAGTGACAGAAAGAGGTAGAGGCATAGTTAGCCTTTGGGGTATTACATGTAGTCAAATTTTAATGAGGCCGGTCCGTCTAGGTGTATTACACCATTACGTTAACATTAGCTTAATCGAAGTTTTAAACCAGACATTGACGAATTACATGAAGGCCTTTTCTCTTTTCGGCCTTGTGGTGGACTTGGTAAGTGATGGTAACATAGACTGTATTTTTAAGGAGAAATTGTGTATTTTTTTTGTTATTCAATTTTTTTATGACATGTATTTTCGTGACAAAAATACATGTCATTATTTTAATGCGGCGAAATAAAAGAGACAGTTATTATACTTTAAAGTAAAAACACTAGACTTAGTGAGAATATTTTTAGTCCTTCCCTTCTAAGCGTCGTCTTTTTGTCGTGGCCCATTGTAGTCTTTTTTTGTCTTTCCTCTATTGCACTCGTTTTGTTTTAGACCAGCGGTGGCTGACTCGTTTTGTCTGTTTGCGGACGACCGACGTGAACAGCAACGGCCTATGCTTCTTGCCTGTCGGGCACTGGAGTAGGTCTTTGTGCAAATGTGTGACTGTGTCCGGCTGGACGCGGTAGACCAGTCACTTTAGTCATTGCCACACCCTGTCAGTGTCCGGATGCTACGCTAAATGGTCCGCTCTGCGTAAGCAGAGCGGGCATTTATGGACTCGCCTTTTTTTGGCCTTCCCCACCTTGGGGCCCTTCCCGTCCTTGCCCTTCTAAATGGTATTGAGGGCAATAGTCATGGTAGCCGAGTTGCGAGCAACAGCCTAGACTTTTTAAGCGAGTTTTCTAGTATAAAGGGACCTATAAAAGGTGGCAAAGAATACACTCTTTTCAGTGTATTAAGACAGTCTGCTGCTCTTTTGCCTATAGCTAATAACAAATTATAAAAATGTAATAATTTTTACTTTAATCTATTAGTCTATGTTTATTATACAAAAGCAAGTACGTCTCTCTAATTCCCACAGATTACTTCTTTTCAAGATAACACCGTTGGTAATATTGATAAGACAGGCCCTCACGATTACGTCGTAGTAGAGTCAATTATGGTTTATATAGGGGACTGTCGAAATGTCAACGTCGGAGGTGGCCCTACGACTCACCTTTCAGAGTACTTTACGAAATACTGCGTCTTTGTCCTTCTTTCTAGTCGGTCAATCTGACCTTCTAGTTTTTACAGCGATAGGACTTTCCACTATATAGGACCCTAGGTATGAGTAAAGACTGGGACTTACGGTCCCCCACCTGCAGAGACCGAAGGCCCAGTCCATTATACCTACTGATGCTGACCTACTTACTTTTAGTTAGACTCACCTGTCTAGTGAGTAGAGTAGGACGATGTTTACAATTAGTACGGTTACTTATACTGGAGTTACACTTTCCGACCAATGAGGTCCTACTCTTAATATTTCGTCCATATTGTCGTCCTATAGTCCTTTGTGCAAAGTCAACCTGTCGATGTCCACCAAGTATATCAATATTATTACCTCGAATATGGCCTTTGAAGGGCTTTCCTCACGCCCATTATCCAATATTGGTCGCGAAAAGATACGGTATATAACCTGAACGTCCGGTCATAGCGTAATTACTAAAACTCAATTTACGTAATAAATTTAAGTCGCTGACCCAAGCCCGTGTACTATTACTACTCGTGATATACTCTCTAGAATGAAAGGCACTCTTCTGTAGGCCGAGTGCAATAATACCATGGCATTAATTGCGACCTATAATACAGTGTGGATTACGGTTTCAGAAACGCCTTAAATGTATGTCATTTATACTACTCCCGTTTCCTCCATGAGTCTAGTAACTATTCTTATCACCTCTAAGACAGAGATAACCGCCTCTACGACGGCCATAAAGGTTATTTTTAATATGACACTGCCGCCCAGACGTTATAGCGAAGACTTTTTATGTCTAGTATAGAGAGAAAAGTAGGAGGGGATCGCCCCTCCTACAGACACCTTTCCTCCAACCACAAACTGGTTGGAAGTCTACACACTTTTTAGTGGAAAAAGTGGTATTACTGCCCCGCGAGTAAGACAACAAAACGGAACTGTAAGAGGTGCAGAAAGTCCCGTACCTCTTCCAGTTTAATCTGTACCTTGCGATGAGAGGAAGGACATCCTTCGAGTTGTAGGTTCGAATTAAACGGAGGGTAACGAAGTTGCATTGCGAAATTGCAGCGGTCGAAATTTAGTAAAGGCGCGACGAGGTCGAAACAATGACGACCGACCGAATATGGGTAGCGGAGTCGTTGAACAAAAACACTATTGACCTCAAGAAGTGCGTAGTAGACGTTCGGCTGGAGTTCTTAGTAGAGTAGACGGTAAAGAAATTAAGCACAGACCGAAAGTCCACTTGCTGACCGTTAGTGGAGTAGATTACAAGAGTAATGAACGAGAGGTCACACAAGTCTACACGACATTTAAGTAGGAGTCGATATGCGTGGTCAAAAAGTATTTTGGCGAATAGTAATGAAAATAGAGGACGTGTTTCTTGCTATCGGGCTGCTTAGCCTAGCTTGCGTATTTTCCGAGAATAGCCTGCCGGTCTTTTGACTTGCGCTTCGAGAAAGTATAAAAACATGGCTCTTGGAAAGTGCCATAGCCGTATACCGGACCCATTGAGTCCAGGCATTTGGACATCGAAAAAGTTTAGTCGGTTTTGGAAAAGGACTTCTCGCAGAAGAACGAGTAAATCGGTCAGCAGTTTAGCGACCGATTTTTCATGGTAGGTGTACGAGTTGGGATATTGGACATCGAATGGGGTGATTGTTATATTGGATGCTCAATATAAAAGTTCTTTTCGACCGATAAATTGTATTGCCGTTAAACATGCGTGGTGACTTTACGCAAGTCGCGCTAGTGCCGTTGTCTGTCCGTTTTTATCGTTGTTTGGAGGGCTTTTTGGCGGCGCTAGCGCGGACTATTTAAAATTGGAATACGTATAGATACGTCGGTCCGCTTAGTGCTTGCTTAACGGACGGACTACATTGACTTTGCCCACAAAAAAGGACTAAACCACCCGCACCTTCTGCCTTGTACTTGCCCTTTTGTCTTAAGTACGGTCTACTCGCGCTAGACCGTTAATTCCGTTTTGTGTCGTTGTTTCTGTGCGGTCTTAGCGCGGGCCTATACAAAATTGCGCTAAAAGTCTGAGTCTGTTTAAGTCGTCTTACGATGAGGTAAGTGGCCCGACTACCACTTATGTACGCATAGGTCCTACTCATGTAAAGACCGAGACGGTGTCGAGACAGACAACCGTCGAAAGCGGACAGGCCTTTGGACGAATTTTGCGAGGGCTTTCCGGAGACTTGGTCTTTCGTTGTTTTGTGTCCGGTAATTCATTTAGCGCAATTTTGTGCAGACTACCTAACGACGTTTTTTTTCAGGGATTACCTCGTCCCTGACAATTTGGGTCACTTATCGCAGATTTAATTTCATTCTTATGCTGGTCCATGAGAAGTCTTTTCTCTAATTAGGTGGCGTGTCTTATTAGTTGTCATTTTTGTTTGTTGGGACTAAAAAATAAAAAGAAAAAAAGCTATTTTTGTTTTAATTTCTTTATTAATTAGTCTTGTAAGGAATTGAAGTCCCGTAACGGACACAAGGTAAAACACTAATCAGACTTTGAAGGCTTCCACCTATTGTGGGCCATAAAAAAACGAGTGTATTTCGGGGAGGAAGTCCGTCTCCCCGAAAAAGAAACGGTGGTGTATTTTTTCCGGGAGTGTCCTCCACAAGACACTCCCGCATACTATTCCTGACTTAGCTACCAATTATACAGATCAGGACTGAAAACGTAGAGGCTTATATTTTGGGACAAATTGCCGTACGTTTTGGTTTTTTATTTTTACACTGTAGCGTTACGGTCTATTATAACTGCGTACTCCCTTACGCATGGGGCTGGGGAC\n"
          ]
        }
      ]
    },
    {
      "cell_type": "markdown",
      "metadata": {
        "id": "YKUOAjxQ7UHS"
      },
      "source": [
        "## 6. Со помош на biopython, се пронаоѓаат  секвенциите на различните кодни региони означени како (CDS). CDS се регионите добиени после процедурата на отсекување на интроните."
      ]
    },
    {
      "cell_type": "code",
      "metadata": {
        "id": "8BhEg_Lh7UX4",
        "colab": {
          "base_uri": "https://localhost:8080/"
        },
        "outputId": "09776959-ae90-4fa2-83fa-bea1ff816f29"
      },
      "source": [
        "cds_features = [feature for feature in seq_record_gb.features if feature.type == 'CDS']\n",
        "print(cds_features)\n"
      ],
      "execution_count": null,
      "outputs": [
        {
          "output_type": "stream",
          "name": "stdout",
          "text": [
            "[SeqFeature(FeatureLocation(ExactPosition(86), ExactPosition(1109), strand=1), type='CDS'), SeqFeature(FeatureLocation(ExactPosition(1105), ExactPosition(1888), strand=1), type='CDS'), SeqFeature(FeatureLocation(ExactPosition(2924), ExactPosition(3119), strand=1), type='CDS'), SeqFeature(FeatureLocation(ExactPosition(4384), ExactPosition(4780), strand=1), type='CDS'), SeqFeature(FeatureLocation(ExactPosition(4814), ExactPosition(5888), strand=-1), type='CDS'), SeqFeature(FeatureLocation(ExactPosition(6115), ExactPosition(6421), strand=1), type='CDS'), SeqFeature(FeatureLocation(ExactPosition(6663), ExactPosition(7602), strand=1), type='CDS'), SeqFeature(FeatureLocation(ExactPosition(7788), ExactPosition(8088), strand=-1), type='CDS'), SeqFeature(FeatureLocation(ExactPosition(8087), ExactPosition(8429), strand=-1), type='CDS')]\n"
          ]
        }
      ]
    },
    {
      "cell_type": "code",
      "source": [
        "for feature in cds_features:\n",
        "  print(feature.extract(seq_record_gb.seq))"
      ],
      "metadata": {
        "colab": {
          "base_uri": "https://localhost:8080/"
        },
        "id": "i-K0Lq5bSG8A",
        "outputId": "d16f1351-97a9-414c-c2b8-1384160d4bbd"
      },
      "execution_count": null,
      "outputs": [
        {
          "output_type": "stream",
          "name": "stdout",
          "text": [
            "ATGGTCACTTTTGAGACAGTTATGGAAATTAAAATCCTGCACAAGCAGGGAATGAGTAGCCGGGCGATTGCCAGAGAACTGGGGATCTCCCGCAATACCGTTAAACGTTATTTGCAGGCAAAATCTGAGCCGCCAAAATATACGCCGCGACCTGCTGTTGCTTCACTCCTGGATGAATACCGGGATTATATTCGTCAACGCATCGCCGATGCTCATCCTTACAAAATCCCGGCAACGGTAATCGCTCGCGAGATCAGAGACCAGGGATATCGTGGCGGAATGACCATTCTCAGGGCATTCATTCGTTCTCTCTCGGTTCCTCAGGAGCAGGAGCCTGCCGTTCGGTTCGAAACTGAACCCGGACGACAGATGCAGGTTGACTGGGGCACTATGCGTAATGGTCGCTCACCGCTTCACGTGTTCGTTGCTGTTCTCGGATACAGCCGAATGCTGTACATCGAATTCACTGACAATATGCGTTATGACACGCTGGAGACCTGCCATCGTAATGCGTTCCGCTTCTTTGGTGGTGTGCCGCGCGAAGTGTTGTATGACAATATGAAAACTGTGGTTCTGCAACGTGACGCATATCAGACCGGTCAGCACCGGTTCCATCCTTCGCTGTGGCAGTTCGGCAAGGAGATGGGCTTCTCTCCCCGACTGTGTCGCCCCTTCAGGGCACAGACTAAAGGTAAGGTGGAACGGATGGTGCAGTACACCCGTAACAGTTTTTACATCCCACTAATGACTCGCCTGCGCCCGATGGGGATCACTGTCGATGTTGAAACAGCCAACCGCCACGGTCTGCGCTGGCTGCACGATGTCGCTAACCAACGAAAGCATGAAACAATCCAGGCCCGTCCCTGCGATCGCTGGCTCGAAGAGCAGCAGTCCATGCTGGCACTGCCTCCGGAGAAAAAAGAGTATGACGTGCATCTTGATGAAAATCTGGTGAACTTCGACAAACACCCCCTGCATCATCCACTCTCCATCTACGACTCATTCTGCAGAGGAGTGGCGTGA\n",
            "GTGATGATGGAACTGCAACATCAACGACTGATGGCGCTCGCCGGGCAGTTGCAACTGGAAAGCCTTATAAGCGCAGCGCCTGCGCTGTCACAACAGGCAGTAGACCAGGAATGGAGTTATATGGACTTCCTGGAGCATCTGCTTCATGAAGAAAAACTGGCACGTCATCAACGTAAACAGGCGATGTATACCCGAATGGCAGCCTTCCCGGCGGTGAAAACGTTCGAAGAGTATGACTTCACATTCGCCACCGGAGCACCGCAGAAGCAACTCCAGTCGTTACGCTCACTCAGCTTCATAGAACGTAATGAAAATATCGTATTACTGGGGCCATCAGGTGTGGGGAAAACCCATCTGGCAATAGCGATGGGCTATGAAGCAGTCCGTGCAGGTATCAAAGTTCGCTTCACAACAGCAGCAGATCTGTTACTTCAGTTATCTACGGCACAACGTCAGGGCCGTTATAAAACGACGCTTCAGCGTGGAGTAATGGCCCCCCGCCTGCTCATCATTGATGAAATAGGCTATCTGCCGTTCAGTCAGGAAGAAGCAAAGCTGTTCTTCCAGGTCATCGCTAAACGTTACGAAAAGAGCGCAATGATCCTGACATCCAATCTGCCGTTCGGGCAGTGGGATCAAACGTTCGCCGGTGATGCAGCACTGACCTCAGCGATGCTGGACCGTATCTTACACCACTCACATGTCGTTCAAATCAAAGGAGAAAGCTATCGACTCAGACAGAAACGAAAGGCCGGGGTTATAGCAGAAGCTAATCCTGAGTAA\n",
            "GTGAACAAACAACAACAAACTGCGCTGAATATGGCGCGATTTATCAGAAGCCAGAGCCTGATACTGCTTGAAAAACTGGATGCTCTGGATGCCGACGAGCAGGCGGCCATGTGTGAACGACTGCACGAACTCGCGGAAGAACTCCAGAACAGCATCCAGGCTCGCTTTGAAGCCGAAAGTGAAACAGGAACATAA\n",
            "ATATTTTTATCATCAAGTGGCCTTGCAGAAAAAAACACATATACAGCAAAAGACATCTTGCAAAACCTAGAATTAAATACCTTTGGCAATTCATTGTCTCATGGCATCTATGGGAAACAGACAACCTTCAAGCAAACCGAGTTTACAAATATTAAAAGCAACACCAAAAAACACATTGCACTTATCAATAAAGACAACTCATGGATGATATCATTAAAAATACTAGGAATTAAGAGAGATGAGTATACTGTCTGTTTTGAAGATTTCTCTCTAATAAGACCGCCAACATATGTAGCCATACATCCTCTACTTATAAAAAAAGTAAAATCTGGAAACTTTATAGTAGTGAAAGAAATAAAGAAATCTATCCCTGGTTGCACTGTATATTATCATTAA\n",
            "ATGTCAGATACAATGGTAGTGAATGGTTCAGGTGGTGTTCCGGCTTTTCTCTTTTCCGGAAGTACATTAAGCAGTTACAGACCAAATTTTGAAGCTAATTCGATTACAATTGCATTACCACATTATGTGGATCTGCCTGGCCGGAGTAATTTTAAACTGATGTACATTATGGGGTTTCCGATTGATACGGAGATGGAGAAAGACAGTGAATATTCAAATAAGATCCGCCAGGAAAGTAAAATTTCAAAAACTGAAGGGACCGTGTCTTACGAACAGAAAATAACTGTTGAAACAGGTCAGGAAAAAGACGGTGTGAAAGTCTACCGTGTCATGGTTCTTGAGGGAACGATTGCCGAATCTATTGAACATCTCGATAAGAAAGAGAACGAAGACATTCTGAATAATAACCGAAATCGCATCGTCCTAGCGGACAACACTGTCATTAACTTTGACAATATTAGTCAACTGAAGGAATTTTTACGTCGTTCGGTAAATATTGTTGACCACGATATTTTCTCCAGTAATGGTTTTGAAGGGTTTAATCCGACAAGTCATTTTCCGTCTAATCCTAGTAGCGATTATTTTAACAGTACCGGTGTTACATTCGGTTCCGGGGTTGACCTTGGTCAGCGAAGCAAACAGGATTTATTGAATGACGGTGTCCCTCAGTATATTGCAGATAGACTTGATGGGTATTATATGCTTCGAGGGAAGGAGGCTTATGATAAAGTGAGAACAGCACCTCTGACGCTTTCTGATAATGAAGCTCATCTCTTATCTAATATTTATATTGATAAATTCTCACATAAGATTGAAGGTCTTTTCAATGACGCTAATATCGGTCTTCGGTTCAGCGATTTACCGTTGAGAACCCGTACAGCACTGGTGTCTATTGGATATCAAAAAGGGTTTAAGTTATCCAGAACTGCTCCCACAGTATGGAATAAAGTTATCGCAAAAGACTGGAATGGCCTTGTAAATGCTTTTAATAATATTGTTGATGGAATGTCTGACAGACGTAAACGAGAGGGCGCTCTGGTGCAAAAAGATATCGATAGTGGATTGTTAAAATAA\n",
            "GTGAGCAAAACAAAATCTGGTCGCCACCGACTGAGCAAAACAGACAAACGCCTGCTGGCTGCACTTGTCGTTGCCGGATACGAAGAACGGACAGCCCGTGACCTCATCCAGAAACACGTTTACACACTGACACAGGCCGACCTGCGCCATCTGGTCAGTGAAATCAGTAACGGTGTGGGACAGTCACAGGCCTACGATGCGATTTACCAGGCGAGACGCATTCGTCTCGCCCGTAAATACCTGAGCGGAAAAAAACCGGAAGGGGTGGAACCCCGGGAAGGGCAGGAACGGGAAGATTTACCATAA\n",
            "ATGAAGAAAAGTTCTATTGTGGCAACCATTATAACTATTCTGTCCGGGAGTGCTAATGCAGCATCATCTCAGTTAATACCAAATATATCCCCTGACAGCTTTACAGTTGCAGCCTCCACCGGGATGCTGAGTGGAAAGTCTCATGAAATGCTTTATGACGCAGAAACAGGAAGAAAGATCAGCCAGTTAGACTGGAAGATCAAAAATGTCGCTATCCTGAAAGGTGATATATCCTGGGATCCATACTCATTTCTGACCCTGAATGCCAGGGGGTGGACGTCTCTGGCTTCCGGGTCAGGTAATATGGATGACTACGACTGGATGAATGAAAATCAATCTGAGTGGACAGATCACTCATCTCATCCTGCTACAAATGTTAATCATGCCAATGAATATGACCTCAATGTGAAAGGCTGGTTACTCCAGGATGAGAATTATAAAGCAGGTATAACAGCAGGATATCAGGAAACACGTTTCAGTTGGACAGCTACAGGTGGTTCATATAGTTATAATAATGGAGCTTATACCGGAAACTTCCCGAAAGGAGTGCGGGTAATAGGTTATAACCAGCGCTTTTCTATGCCATATATTGGACTTGCAGGCCAGTATCGCATTAATGATTTTGAGTTAAATGCATTATTTAAATTCAGCGACTGGGTTCGGGCACATGATAATGATGAGCACTATATGAGAGATCTTACTTTCCGTGAGAAGACATCCGGCTCACGTTATTATGGTACCGTAATTAACGCTGGATATTATGTCACACCTAATGCCAAAGTCTTTGCGGAATTTACATACAGTAAATATGATGAGGGCAAAGGAGGTACTCAGATCATTGATAAGAATAGTGGAGATTCTGTCTCTATTGGCGGAGATGCTGCCGGTATTTCCAATAAAAATTATACTGTGACGGCGGGTCTGCAATATCGCTTCTGA\n",
            "ATGAGAACATTAGATGAGGTGATTGCCAGTCGTTCACCTGAAAGCCAGACACGAATTAAAGAAATGGCAGATGAGATGATTCTTGAGGTCGGCTTGCAGATGATGCGTGAAGAACTCCAGTTATCACAAAAACAAGTTGCTGAGGCGATGGGTATAAGCCAGCCAGCAGTAACAAAGCTGGAGCAGCGCGGAAATGATTTAAAGCTGGCGACGTTAAAGCGTTACGTTGAAGCAATGGGAGGCAAATTAAGCTTGGATGTTGAGCTTCCTACAGGAAGGAGAGTAGCGTTCCATGTCTAA\n",
            "ATGGTACTTTTTAGCCAGCGATTTGACGACTGGCTAAATGAGCAAGAAGACGCTCTTCAGGAAAAGGTTTTGGCTGATTTGAAAAAGCTACAGGTTTACGGACCTGAGTTACCCAGGCCATATGCCGATACCGTGAAAGGTTCTCGGTACAAAAATATGAAAGAGCTTCGCGTTCAGTTTTCTGGCCGTCCGATAAGAGCCTTTTATGCGTTCGATCCGATTCGTCGGGCTATCGTTCTTTGTGCAGGAGATAAAAGTAATGATAAGCGGTTTTATGAAAAACTGGTGCGTATAGCTGAGGATGAATTTACAGCACATCTGAACACACTGGAGAGCAAGTAA\n"
          ]
        }
      ]
    },
    {
      "cell_type": "markdown",
      "metadata": {
        "id": "aEJcitWt7Unp"
      },
      "source": [
        "## 7. По избор на еден CDS ги наоѓаме  сите старт и стоп кодони во неговата РНА"
      ]
    },
    {
      "cell_type": "code",
      "metadata": {
        "id": "g3C1h0Bm7U5m",
        "colab": {
          "base_uri": "https://localhost:8080/"
        },
        "outputId": "6c6554e9-94b0-4139-df08-3f561db3487b"
      },
      "source": [
        "import re\n",
        "# Транскрипција на DNA во mRNA\n",
        "mRNA = cds_features[0].extract(seq_record_gb.seq.transcribe())\n",
        "print(str(mRNA))\n",
        "\n",
        "start_codon_positions = [m.start() for m in re.finditer(r'AUG', str(mRNA))]\n",
        "stop_codon1_positions = [m.start() for m in re.finditer(r'UAA', str(mRNA))]\n",
        "stop_codon2_positions = [m.start() for m in re.finditer(r'UAG', str(mRNA))]\n",
        "stop_codon3_positions = [m.start() for m in re.finditer(r'UGA', str(mRNA))]\n",
        "\n",
        "print(start_codon_positions)\n",
        "print(stop_codon1_positions)\n",
        "print(stop_codon2_positions)\n",
        "print(stop_codon3_positions)\n",
        "\n",
        "stop_codon_positions = stop_codon1_positions + stop_codon2_positions + stop_codon3_positions\n",
        "print(stop_codon_positions)"
      ],
      "execution_count": null,
      "outputs": [
        {
          "output_type": "stream",
          "name": "stdout",
          "text": [
            "AUGGUCACUUUUGAGACAGUUAUGGAAAUUAAAAUCCUGCACAAGCAGGGAAUGAGUAGCCGGGCGAUUGCCAGAGAACUGGGGAUCUCCCGCAAUACCGUUAAACGUUAUUUGCAGGCAAAAUCUGAGCCGCCAAAAUAUACGCCGCGACCUGCUGUUGCUUCACUCCUGGAUGAAUACCGGGAUUAUAUUCGUCAACGCAUCGCCGAUGCUCAUCCUUACAAAAUCCCGGCAACGGUAAUCGCUCGCGAGAUCAGAGACCAGGGAUAUCGUGGCGGAAUGACCAUUCUCAGGGCAUUCAUUCGUUCUCUCUCGGUUCCUCAGGAGCAGGAGCCUGCCGUUCGGUUCGAAACUGAACCCGGACGACAGAUGCAGGUUGACUGGGGCACUAUGCGUAAUGGUCGCUCACCGCUUCACGUGUUCGUUGCUGUUCUCGGAUACAGCCGAAUGCUGUACAUCGAAUUCACUGACAAUAUGCGUUAUGACACGCUGGAGACCUGCCAUCGUAAUGCGUUCCGCUUCUUUGGUGGUGUGCCGCGCGAAGUGUUGUAUGACAAUAUGAAAACUGUGGUUCUGCAACGUGACGCAUAUCAGACCGGUCAGCACCGGUUCCAUCCUUCGCUGUGGCAGUUCGGCAAGGAGAUGGGCUUCUCUCCCCGACUGUGUCGCCCCUUCAGGGCACAGACUAAAGGUAAGGUGGAACGGAUGGUGCAGUACACCCGUAACAGUUUUUACAUCCCACUAAUGACUCGCCUGCGCCCGAUGGGGAUCACUGUCGAUGUUGAAACAGCCAACCGCCACGGUCUGCGCUGGCUGCACGAUGUCGCUAACCAACGAAAGCAUGAAACAAUCCAGGCCCGUCCCUGCGAUCGCUGGCUCGAAGAGCAGCAGUCCAUGCUGGCACUGCCUCCGGAGAAAAAAGAGUAUGACGUGCAUCUUGAUGAAAAUCUGGUGAACUUCGACAAACACCCCCUGCAUCAUCCACUCUCCAUCUACGACUCAUUCUGCAGAGGAGUGGCGUGA\n",
            "[0, 21, 51, 172, 208, 279, 369, 390, 397, 447, 474, 481, 508, 550, 558, 642, 705, 744, 762, 778, 820, 841, 894, 925, 940]\n",
            "[29, 101, 238, 395, 506, 686, 692, 722, 742, 827]\n",
            "[56]\n",
            "[11, 52, 125, 173, 280, 353, 377, 467, 482, 551, 559, 581, 745, 782, 842, 926, 938, 941, 952, 1020]\n",
            "[29, 101, 238, 395, 506, 686, 692, 722, 742, 827, 56, 11, 52, 125, 173, 280, 353, 377, 467, 482, 551, 559, 581, 745, 782, 842, 926, 938, 941, 952, 1020]\n"
          ]
        }
      ]
    },
    {
      "cell_type": "markdown",
      "source": [
        "Старт кодони"
      ],
      "metadata": {
        "id": "ITIeRytGSt-6"
      }
    },
    {
      "cell_type": "code",
      "source": [
        "codons = []\n",
        "previous_pos = 0\n",
        "\n",
        "for i in range(int(len(mRNA)/3)):\n",
        "  start_pos = i * 3\n",
        "  end_pos = start_pos + 3\n",
        "  codons.append(mRNA[start_pos:end_pos])\n",
        "print(codons)\n",
        "start_codon_positions = []\n",
        "for i in range(len(codons)):\n",
        "  if codons[i] == 'AUG':\n",
        "    start_codon_positions.append(i)\n",
        "\n",
        "print(start_codon_positions)\n"
      ],
      "metadata": {
        "colab": {
          "base_uri": "https://localhost:8080/"
        },
        "id": "JvS6XvX6SdNE",
        "outputId": "0ff15422-fdd7-4f6d-f999-50076986a9dc"
      },
      "execution_count": null,
      "outputs": [
        {
          "output_type": "stream",
          "name": "stdout",
          "text": [
            "[Seq('AUG'), Seq('GUC'), Seq('ACU'), Seq('UUU'), Seq('GAG'), Seq('ACA'), Seq('GUU'), Seq('AUG'), Seq('GAA'), Seq('AUU'), Seq('AAA'), Seq('AUC'), Seq('CUG'), Seq('CAC'), Seq('AAG'), Seq('CAG'), Seq('GGA'), Seq('AUG'), Seq('AGU'), Seq('AGC'), Seq('CGG'), Seq('GCG'), Seq('AUU'), Seq('GCC'), Seq('AGA'), Seq('GAA'), Seq('CUG'), Seq('GGG'), Seq('AUC'), Seq('UCC'), Seq('CGC'), Seq('AAU'), Seq('ACC'), Seq('GUU'), Seq('AAA'), Seq('CGU'), Seq('UAU'), Seq('UUG'), Seq('CAG'), Seq('GCA'), Seq('AAA'), Seq('UCU'), Seq('GAG'), Seq('CCG'), Seq('CCA'), Seq('AAA'), Seq('UAU'), Seq('ACG'), Seq('CCG'), Seq('CGA'), Seq('CCU'), Seq('GCU'), Seq('GUU'), Seq('GCU'), Seq('UCA'), Seq('CUC'), Seq('CUG'), Seq('GAU'), Seq('GAA'), Seq('UAC'), Seq('CGG'), Seq('GAU'), Seq('UAU'), Seq('AUU'), Seq('CGU'), Seq('CAA'), Seq('CGC'), Seq('AUC'), Seq('GCC'), Seq('GAU'), Seq('GCU'), Seq('CAU'), Seq('CCU'), Seq('UAC'), Seq('AAA'), Seq('AUC'), Seq('CCG'), Seq('GCA'), Seq('ACG'), Seq('GUA'), Seq('AUC'), Seq('GCU'), Seq('CGC'), Seq('GAG'), Seq('AUC'), Seq('AGA'), Seq('GAC'), Seq('CAG'), Seq('GGA'), Seq('UAU'), Seq('CGU'), Seq('GGC'), Seq('GGA'), Seq('AUG'), Seq('ACC'), Seq('AUU'), Seq('CUC'), Seq('AGG'), Seq('GCA'), Seq('UUC'), Seq('AUU'), Seq('CGU'), Seq('UCU'), Seq('CUC'), Seq('UCG'), Seq('GUU'), Seq('CCU'), Seq('CAG'), Seq('GAG'), Seq('CAG'), Seq('GAG'), Seq('CCU'), Seq('GCC'), Seq('GUU'), Seq('CGG'), Seq('UUC'), Seq('GAA'), Seq('ACU'), Seq('GAA'), Seq('CCC'), Seq('GGA'), Seq('CGA'), Seq('CAG'), Seq('AUG'), Seq('CAG'), Seq('GUU'), Seq('GAC'), Seq('UGG'), Seq('GGC'), Seq('ACU'), Seq('AUG'), Seq('CGU'), Seq('AAU'), Seq('GGU'), Seq('CGC'), Seq('UCA'), Seq('CCG'), Seq('CUU'), Seq('CAC'), Seq('GUG'), Seq('UUC'), Seq('GUU'), Seq('GCU'), Seq('GUU'), Seq('CUC'), Seq('GGA'), Seq('UAC'), Seq('AGC'), Seq('CGA'), Seq('AUG'), Seq('CUG'), Seq('UAC'), Seq('AUC'), Seq('GAA'), Seq('UUC'), Seq('ACU'), Seq('GAC'), Seq('AAU'), Seq('AUG'), Seq('CGU'), Seq('UAU'), Seq('GAC'), Seq('ACG'), Seq('CUG'), Seq('GAG'), Seq('ACC'), Seq('UGC'), Seq('CAU'), Seq('CGU'), Seq('AAU'), Seq('GCG'), Seq('UUC'), Seq('CGC'), Seq('UUC'), Seq('UUU'), Seq('GGU'), Seq('GGU'), Seq('GUG'), Seq('CCG'), Seq('CGC'), Seq('GAA'), Seq('GUG'), Seq('UUG'), Seq('UAU'), Seq('GAC'), Seq('AAU'), Seq('AUG'), Seq('AAA'), Seq('ACU'), Seq('GUG'), Seq('GUU'), Seq('CUG'), Seq('CAA'), Seq('CGU'), Seq('GAC'), Seq('GCA'), Seq('UAU'), Seq('CAG'), Seq('ACC'), Seq('GGU'), Seq('CAG'), Seq('CAC'), Seq('CGG'), Seq('UUC'), Seq('CAU'), Seq('CCU'), Seq('UCG'), Seq('CUG'), Seq('UGG'), Seq('CAG'), Seq('UUC'), Seq('GGC'), Seq('AAG'), Seq('GAG'), Seq('AUG'), Seq('GGC'), Seq('UUC'), Seq('UCU'), Seq('CCC'), Seq('CGA'), Seq('CUG'), Seq('UGU'), Seq('CGC'), Seq('CCC'), Seq('UUC'), Seq('AGG'), Seq('GCA'), Seq('CAG'), Seq('ACU'), Seq('AAA'), Seq('GGU'), Seq('AAG'), Seq('GUG'), Seq('GAA'), Seq('CGG'), Seq('AUG'), Seq('GUG'), Seq('CAG'), Seq('UAC'), Seq('ACC'), Seq('CGU'), Seq('AAC'), Seq('AGU'), Seq('UUU'), Seq('UAC'), Seq('AUC'), Seq('CCA'), Seq('CUA'), Seq('AUG'), Seq('ACU'), Seq('CGC'), Seq('CUG'), Seq('CGC'), Seq('CCG'), Seq('AUG'), Seq('GGG'), Seq('AUC'), Seq('ACU'), Seq('GUC'), Seq('GAU'), Seq('GUU'), Seq('GAA'), Seq('ACA'), Seq('GCC'), Seq('AAC'), Seq('CGC'), Seq('CAC'), Seq('GGU'), Seq('CUG'), Seq('CGC'), Seq('UGG'), Seq('CUG'), Seq('CAC'), Seq('GAU'), Seq('GUC'), Seq('GCU'), Seq('AAC'), Seq('CAA'), Seq('CGA'), Seq('AAG'), Seq('CAU'), Seq('GAA'), Seq('ACA'), Seq('AUC'), Seq('CAG'), Seq('GCC'), Seq('CGU'), Seq('CCC'), Seq('UGC'), Seq('GAU'), Seq('CGC'), Seq('UGG'), Seq('CUC'), Seq('GAA'), Seq('GAG'), Seq('CAG'), Seq('CAG'), Seq('UCC'), Seq('AUG'), Seq('CUG'), Seq('GCA'), Seq('CUG'), Seq('CCU'), Seq('CCG'), Seq('GAG'), Seq('AAA'), Seq('AAA'), Seq('GAG'), Seq('UAU'), Seq('GAC'), Seq('GUG'), Seq('CAU'), Seq('CUU'), Seq('GAU'), Seq('GAA'), Seq('AAU'), Seq('CUG'), Seq('GUG'), Seq('AAC'), Seq('UUC'), Seq('GAC'), Seq('AAA'), Seq('CAC'), Seq('CCC'), Seq('CUG'), Seq('CAU'), Seq('CAU'), Seq('CCA'), Seq('CUC'), Seq('UCC'), Seq('AUC'), Seq('UAC'), Seq('GAC'), Seq('UCA'), Seq('UUC'), Seq('UGC'), Seq('AGA'), Seq('GGA'), Seq('GUG'), Seq('GCG'), Seq('UGA')]\n",
            "[0, 7, 17, 93, 123, 130, 149, 158, 186, 214, 235, 248, 254, 298]\n"
          ]
        }
      ]
    },
    {
      "cell_type": "markdown",
      "source": [
        "Стоп кодони"
      ],
      "metadata": {
        "id": "puNNdvVMSvuc"
      }
    },
    {
      "cell_type": "code",
      "source": [
        "stop_codon_positions = []\n",
        "for i in range(len(codons)):\n",
        "  if codons[i] == 'UAA' or codons[i] == 'UGA' or codons[i] == 'UAG':\n",
        "    stop_codon_positions.append(i)\n",
        "\n",
        "print(stop_codon_positions)"
      ],
      "metadata": {
        "colab": {
          "base_uri": "https://localhost:8080/"
        },
        "id": "HLzvUL9dSiHD",
        "outputId": "67b39253-e576-4ca9-da41-65c15aa4b803"
      },
      "execution_count": null,
      "outputs": [
        {
          "output_type": "stream",
          "name": "stdout",
          "text": [
            "[340]\n"
          ]
        }
      ]
    },
    {
      "cell_type": "markdown",
      "metadata": {
        "id": "fnXjc_7I7WiQ"
      },
      "source": [
        "## 8. Правам транслација за да ги добијам сите можни протеински секвенции"
      ]
    },
    {
      "cell_type": "code",
      "metadata": {
        "id": "-XL1F1Mm7W2n",
        "colab": {
          "base_uri": "https://localhost:8080/"
        },
        "outputId": "4210e974-7d7c-43f4-8c78-609a51cccd52"
      },
      "source": [
        "print(mRNA.translate())"
      ],
      "execution_count": null,
      "outputs": [
        {
          "output_type": "stream",
          "name": "stdout",
          "text": [
            "MVTFETVMEIKILHKQGMSSRAIARELGISRNTVKRYLQAKSEPPKYTPRPAVASLLDEYRDYIRQRIADAHPYKIPATVIAREIRDQGYRGGMTILRAFIRSLSVPQEQEPAVRFETEPGRQMQVDWGTMRNGRSPLHVFVAVLGYSRMLYIEFTDNMRYDTLETCHRNAFRFFGGVPREVLYDNMKTVVLQRDAYQTGQHRFHPSLWQFGKEMGFSPRLCRPFRAQTKGKVERMVQYTRNSFYIPLMTRLRPMGITVDVETANRHGLRWLHDVANQRKHETIQARPCDRWLEEQQSMLALPPEKKEYDVHLDENLVNFDKHPLHHPLSIYDSFCRGVA*\n"
          ]
        }
      ]
    },
    {
      "cell_type": "code",
      "source": [
        "# Стоп кодон на крај\n",
        "for position in start_codon_positions:\n",
        "  print(mRNA[position:].translate())\n",
        "  print()"
      ],
      "metadata": {
        "colab": {
          "base_uri": "https://localhost:8080/"
        },
        "id": "g7hQvn_3TJe0",
        "outputId": "136223f5-d426-476e-9270-1443d3af4142"
      },
      "execution_count": null,
      "outputs": [
        {
          "output_type": "stream",
          "name": "stdout",
          "text": [
            "MVTFETVMEIKILHKQGMSSRAIARELGISRNTVKRYLQAKSEPPKYTPRPAVASLLDEYRDYIRQRIADAHPYKIPATVIAREIRDQGYRGGMTILRAFIRSLSVPQEQEPAVRFETEPGRQMQVDWGTMRNGRSPLHVFVAVLGYSRMLYIEFTDNMRYDTLETCHRNAFRFFGGVPREVLYDNMKTVVLQRDAYQTGQHRFHPSLWQFGKEMGFSPRLCRPFRAQTKGKVERMVQYTRNSFYIPLMTRLRPMGITVDVETANRHGLRWLHDVANQRKHETIQARPCDRWLEEQQSMLALPPEKKEYDVHLDENLVNFDKHPLHHPLSIYDSFCRGVA*\n",
            "\n",
            "LLRQLWKLKSCTSRE*VAGRLPENWGSPAIPLNVICRQNLSRQNIRRDLLLLHSWMNTGIIFVNASPMLILTKSRQR*SLARSETRDIVAE*PFSGHSFVLSRFLRSRSLPFGSKLNPDDRCRLTGALCVMVAHRFTCSLLFSDTAECCTSNSLTICVMTRWRPAIVMRSASLVVCRAKCCMTI*KLWFCNVTHIRPVSTGSILRCGSSARRWASLPDCVAPSGHRLKVRWNGWCSTPVTVFTSH**LACARWGSLSMLKQPTATVCAGCTMSLTNESMKQSRPVPAIAGSKSSSPCWHCLRRKKSMTCILMKIW*TSTNTPCIIHSPSTTHSAEEWR\n",
            "\n",
            "SYGN*NPAQAGNE*PGDCQRTGDLPQYR*TLFAGKI*AAKIYAATCCCFTPG*IPGLYSSTHRRCSSLQNPGNGNRSRDQRPGISWRNDHSQGIHSFSLGSSGAGACRSVRN*TRTTDAG*LGHYA*WSLTASRVRCCSRIQPNAVHRIH*QYAL*HAGDLPS*CVPLLWWCAARSVV*QYENCGSAT*RISDRSAPVPSFAVAVRQGDGLLSPTVSPLQGTD*R*GGTDGAVHP*QFLHPTNDSPAPDGDHCRC*NSQPPRSALAARCR*PTKA*NNPGPSLRSLARRAAVHAGTASGEKRV*RAS**KSGELRQTPPASSTLHLRLILQRSGV\n",
            "\n",
            "NTVKRYLQAKSEPPKYTPRPAVASLLDEYRDYIRQRIADAHPYKIPATVIAREIRDQGYRGGMTILRAFIRSLSVPQEQEPAVRFETEPGRQMQVDWGTMRNGRSPLHVFVAVLGYSRMLYIEFTDNMRYDTLETCHRNAFRFFGGVPREVLYDNMKTVVLQRDAYQTGQHRFHPSLWQFGKEMGFSPRLCRPFRAQTKGKVERMVQYTRNSFYIPLMTRLRPMGITVDVETANRHGLRWLHDVANQRKHETIQARPCDRWLEEQQSMLALPPEKKEYDVHLDENLVNFDKHPLHHPLSIYDSFCRGVA*\n",
            "\n",
            "SEPPKYTPRPAVASLLDEYRDYIRQRIADAHPYKIPATVIAREIRDQGYRGGMTILRAFIRSLSVPQEQEPAVRFETEPGRQMQVDWGTMRNGRSPLHVFVAVLGYSRMLYIEFTDNMRYDTLETCHRNAFRFFGGVPREVLYDNMKTVVLQRDAYQTGQHRFHPSLWQFGKEMGFSPRLCRPFRAQTKGKVERMVQYTRNSFYIPLMTRLRPMGITVDVETANRHGLRWLHDVANQRKHETIQARPCDRWLEEQQSMLALPPEKKEYDVHLDENLVNFDKHPLHHPLSIYDSFCRGVA*\n",
            "\n",
            "RQNIRRDLLLLHSWMNTGIIFVNASPMLILTKSRQR*SLARSETRDIVAE*PFSGHSFVLSRFLRSRSLPFGSKLNPDDRCRLTGALCVMVAHRFTCSLLFSDTAECCTSNSLTICVMTRWRPAIVMRSASLVVCRAKCCMTI*KLWFCNVTHIRPVSTGSILRCGSSARRWASLPDCVAPSGHRLKVRWNGWCSTPVTVFTSH**LACARWGSLSMLKQPTATVCAGCTMSLTNESMKQSRPVPAIAGSKSSSPCWHCLRRKKSMTCILMKIW*TSTNTPCIIHSPSTTHSAEEWR\n",
            "\n",
            "TCCCFTPG*IPGLYSSTHRRCSSLQNPGNGNRSRDQRPGISWRNDHSQGIHSFSLGSSGAGACRSVRN*TRTTDAG*LGHYA*WSLTASRVRCCSRIQPNAVHRIH*QYAL*HAGDLPS*CVPLLWWCAARSVV*QYENCGSAT*RISDRSAPVPSFAVAVRQGDGLLSPTVSPLQGTD*R*GGTDGAVHP*QFLHPTNDSPAPDGDHCRC*NSQPPRSALAARCR*PTKA*NNPGPSLRSLARRAAVHAGTASGEKRV*RAS**KSGELRQTPPASSTLHLRLILQRSGV\n",
            "\n",
            "CFTPG*IPGLYSSTHRRCSSLQNPGNGNRSRDQRPGISWRNDHSQGIHSFSLGSSGAGACRSVRN*TRTTDAG*LGHYA*WSLTASRVRCCSRIQPNAVHRIH*QYAL*HAGDLPS*CVPLLWWCAARSVV*QYENCGSAT*RISDRSAPVPSFAVAVRQGDGLLSPTVSPLQGTD*R*GGTDGAVHP*QFLHPTNDSPAPDGDHCRC*NSQPPRSALAARCR*PTKA*NNPGPSLRSLARRAAVHAGTASGEKRV*RAS**KSGELRQTPPASSTLHLRLILQRSGV\n",
            "\n",
            "YIRQRIADAHPYKIPATVIAREIRDQGYRGGMTILRAFIRSLSVPQEQEPAVRFETEPGRQMQVDWGTMRNGRSPLHVFVAVLGYSRMLYIEFTDNMRYDTLETCHRNAFRFFGGVPREVLYDNMKTVVLQRDAYQTGQHRFHPSLWQFGKEMGFSPRLCRPFRAQTKGKVERMVQYTRNSFYIPLMTRLRPMGITVDVETANRHGLRWLHDVANQRKHETIQARPCDRWLEEQQSMLALPPEKKEYDVHLDENLVNFDKHPLHHPLSIYDSFCRGVA*\n",
            "\n",
            "ILTKSRQR*SLARSETRDIVAE*PFSGHSFVLSRFLRSRSLPFGSKLNPDDRCRLTGALCVMVAHRFTCSLLFSDTAECCTSNSLTICVMTRWRPAIVMRSASLVVCRAKCCMTI*KLWFCNVTHIRPVSTGSILRCGSSARRWASLPDCVAPSGHRLKVRWNGWCSTPVTVFTSH**LACARWGSLSMLKQPTATVCAGCTMSLTNESMKQSRPVPAIAGSKSSSPCWHCLRRKKSMTCILMKIW*TSTNTPCIIHSPSTTHSAEEWR\n",
            "\n",
            "R*SLARSETRDIVAE*PFSGHSFVLSRFLRSRSLPFGSKLNPDDRCRLTGALCVMVAHRFTCSLLFSDTAECCTSNSLTICVMTRWRPAIVMRSASLVVCRAKCCMTI*KLWFCNVTHIRPVSTGSILRCGSSARRWASLPDCVAPSGHRLKVRWNGWCSTPVTVFTSH**LACARWGSLSMLKQPTATVCAGCTMSLTNESMKQSRPVPAIAGSKSSSPCWHCLRRKKSMTCILMKIW*TSTNTPCIIHSPSTTHSAEEWR\n",
            "\n",
            "RDQRPGISWRNDHSQGIHSFSLGSSGAGACRSVRN*TRTTDAG*LGHYA*WSLTASRVRCCSRIQPNAVHRIH*QYAL*HAGDLPS*CVPLLWWCAARSVV*QYENCGSAT*RISDRSAPVPSFAVAVRQGDGLLSPTVSPLQGTD*R*GGTDGAVHP*QFLHPTNDSPAPDGDHCRC*NSQPPRSALAARCR*PTKA*NNPGPSLRSLARRAAVHAGTASGEKRV*RAS**KSGELRQTPPASSTLHLRLILQRSGV\n",
            "\n",
            "QRPGISWRNDHSQGIHSFSLGSSGAGACRSVRN*TRTTDAG*LGHYA*WSLTASRVRCCSRIQPNAVHRIH*QYAL*HAGDLPS*CVPLLWWCAARSVV*QYENCGSAT*RISDRSAPVPSFAVAVRQGDGLLSPTVSPLQGTD*R*GGTDGAVHP*QFLHPTNDSPAPDGDHCRC*NSQPPRSALAARCR*PTKA*NNPGPSLRSLARRAAVHAGTASGEKRV*RAS**KSGELRQTPPASSTLHLRLILQRSGV\n",
            "\n",
            "SFVLSRFLRSRSLPFGSKLNPDDRCRLTGALCVMVAHRFTCSLLFSDTAECCTSNSLTICVMTRWRPAIVMRSASLVVCRAKCCMTI*KLWFCNVTHIRPVSTGSILRCGSSARRWASLPDCVAPSGHRLKVRWNGWCSTPVTVFTSH**LACARWGSLSMLKQPTATVCAGCTMSLTNESMKQSRPVPAIAGSKSSSPCWHCLRRKKSMTCILMKIW*TSTNTPCIIHSPSTTHSAEEWR\n",
            "\n"
          ]
        },
        {
          "output_type": "stream",
          "name": "stderr",
          "text": [
            "/usr/local/lib/python3.7/dist-packages/Bio/Seq.py:2983: BiopythonWarning: Partial codon, len(sequence) not a multiple of three. Explicitly trim the sequence or add trailing N before translation. This may become an error in future.\n",
            "  BiopythonWarning,\n"
          ]
        }
      ]
    },
    {
      "cell_type": "markdown",
      "metadata": {
        "id": "W69iR23W7XIK"
      },
      "source": [
        "## 9. Со избор на еден од кодните региони се прави мутација со поместување на рамката за 2 нуклеотиди. Анализирање на новите протеински секвенции со сега  нови старт и стоп кодони."
      ]
    },
    {
      "cell_type": "code",
      "metadata": {
        "id": "NFY9pAho7Xdm",
        "colab": {
          "base_uri": "https://localhost:8080/"
        },
        "outputId": "d7000b2f-cd39-4a92-c902-e131fde575c8"
      },
      "source": [
        "# Ист од претходно\n",
        "mRNA = mRNA[2:] + mRNA[:2]\n",
        "\n",
        "codons = []\n",
        "previous_position = 0\n",
        "\n",
        "for i in range(int(len(mRNA)/3)):\n",
        "  start_position = i * 3\n",
        "  end_position = start_position + 3\n",
        "  codons.append(mRNA[start_pos:end_pos])\n",
        "print(codons)\n",
        "\n",
        "start_codon_positions = []\n",
        "for i in range(len(codons)):\n",
        "  if codons[i] == 'AUG':\n",
        "    start_codon_positions.append(i)\n",
        "\n",
        "stop_codon_positions = []\n",
        "for i in range(len(codons)):\n",
        "  if codons[i] == 'UAA' or codons[i] == 'UGA' or codons[i] == 'UAG':\n",
        "    stop_codon_positions.append(i)\n",
        "\n",
        "print(start_codon_positions)\n",
        "\n",
        "print(stop_codon_positions)\n",
        "\n",
        "print(mRNA.translate())"
      ],
      "execution_count": null,
      "outputs": [
        {
          "output_type": "stream",
          "name": "stdout",
          "text": [
            "[Seq('AAU'), Seq('AAU'), Seq('AAU'), Seq('AAU'), Seq('AAU'), Seq('AAU'), Seq('AAU'), Seq('AAU'), Seq('AAU'), Seq('AAU'), Seq('AAU'), Seq('AAU'), Seq('AAU'), Seq('AAU'), Seq('AAU'), Seq('AAU'), Seq('AAU'), Seq('AAU'), Seq('AAU'), Seq('AAU'), Seq('AAU'), Seq('AAU'), Seq('AAU'), Seq('AAU'), Seq('AAU'), Seq('AAU'), Seq('AAU'), Seq('AAU'), Seq('AAU'), Seq('AAU'), Seq('AAU'), Seq('AAU'), Seq('AAU'), Seq('AAU'), Seq('AAU'), Seq('AAU'), Seq('AAU'), Seq('AAU'), Seq('AAU'), Seq('AAU'), Seq('AAU'), Seq('AAU'), Seq('AAU'), Seq('AAU'), Seq('AAU'), Seq('AAU'), Seq('AAU'), Seq('AAU'), Seq('AAU'), Seq('AAU'), Seq('AAU'), Seq('AAU'), Seq('AAU'), Seq('AAU'), Seq('AAU'), Seq('AAU'), Seq('AAU'), Seq('AAU'), Seq('AAU'), Seq('AAU'), Seq('AAU'), Seq('AAU'), Seq('AAU'), Seq('AAU'), Seq('AAU'), Seq('AAU'), Seq('AAU'), Seq('AAU'), Seq('AAU'), Seq('AAU'), Seq('AAU'), Seq('AAU'), Seq('AAU'), Seq('AAU'), Seq('AAU'), Seq('AAU'), Seq('AAU'), Seq('AAU'), Seq('AAU'), Seq('AAU'), Seq('AAU'), Seq('AAU'), Seq('AAU'), Seq('AAU'), Seq('AAU'), Seq('AAU'), Seq('AAU'), Seq('AAU'), Seq('AAU'), Seq('AAU'), Seq('AAU'), Seq('AAU'), Seq('AAU'), Seq('AAU'), Seq('AAU'), Seq('AAU'), Seq('AAU'), Seq('AAU'), Seq('AAU'), Seq('AAU'), Seq('AAU'), Seq('AAU'), Seq('AAU'), Seq('AAU'), Seq('AAU'), Seq('AAU'), Seq('AAU'), Seq('AAU'), Seq('AAU'), Seq('AAU'), Seq('AAU'), Seq('AAU'), Seq('AAU'), Seq('AAU'), Seq('AAU'), Seq('AAU'), Seq('AAU'), Seq('AAU'), Seq('AAU'), Seq('AAU'), Seq('AAU'), Seq('AAU'), Seq('AAU'), Seq('AAU'), Seq('AAU'), Seq('AAU'), Seq('AAU'), Seq('AAU'), Seq('AAU'), Seq('AAU'), Seq('AAU'), Seq('AAU'), Seq('AAU'), Seq('AAU'), Seq('AAU'), Seq('AAU'), Seq('AAU'), Seq('AAU'), Seq('AAU'), Seq('AAU'), Seq('AAU'), Seq('AAU'), Seq('AAU'), Seq('AAU'), Seq('AAU'), Seq('AAU'), Seq('AAU'), Seq('AAU'), Seq('AAU'), Seq('AAU'), Seq('AAU'), Seq('AAU'), Seq('AAU'), Seq('AAU'), Seq('AAU'), Seq('AAU'), Seq('AAU'), Seq('AAU'), Seq('AAU'), Seq('AAU'), Seq('AAU'), Seq('AAU'), Seq('AAU'), Seq('AAU'), Seq('AAU'), Seq('AAU'), Seq('AAU'), Seq('AAU'), Seq('AAU'), Seq('AAU'), Seq('AAU'), Seq('AAU'), Seq('AAU'), Seq('AAU'), Seq('AAU'), Seq('AAU'), Seq('AAU'), Seq('AAU'), Seq('AAU'), Seq('AAU'), Seq('AAU'), Seq('AAU'), Seq('AAU'), Seq('AAU'), Seq('AAU'), Seq('AAU'), Seq('AAU'), Seq('AAU'), Seq('AAU'), Seq('AAU'), Seq('AAU'), Seq('AAU'), Seq('AAU'), Seq('AAU'), Seq('AAU'), Seq('AAU'), Seq('AAU'), Seq('AAU'), Seq('AAU'), Seq('AAU'), Seq('AAU'), Seq('AAU'), Seq('AAU'), Seq('AAU'), Seq('AAU'), Seq('AAU'), Seq('AAU'), Seq('AAU'), Seq('AAU'), Seq('AAU'), Seq('AAU'), Seq('AAU'), Seq('AAU'), Seq('AAU'), Seq('AAU'), Seq('AAU'), Seq('AAU'), Seq('AAU'), Seq('AAU'), Seq('AAU'), Seq('AAU'), Seq('AAU'), Seq('AAU'), Seq('AAU'), Seq('AAU'), Seq('AAU'), Seq('AAU'), Seq('AAU'), Seq('AAU'), Seq('AAU'), Seq('AAU'), Seq('AAU'), Seq('AAU'), Seq('AAU'), Seq('AAU'), Seq('AAU'), Seq('AAU'), Seq('AAU'), Seq('AAU'), Seq('AAU'), Seq('AAU'), Seq('AAU'), Seq('AAU'), Seq('AAU'), Seq('AAU'), Seq('AAU'), Seq('AAU'), Seq('AAU'), Seq('AAU'), Seq('AAU'), Seq('AAU'), Seq('AAU'), Seq('AAU'), Seq('AAU'), Seq('AAU'), Seq('AAU'), Seq('AAU'), Seq('AAU'), Seq('AAU'), Seq('AAU'), Seq('AAU'), Seq('AAU'), Seq('AAU'), Seq('AAU'), Seq('AAU'), Seq('AAU'), Seq('AAU'), Seq('AAU'), Seq('AAU'), Seq('AAU'), Seq('AAU'), Seq('AAU'), Seq('AAU'), Seq('AAU'), Seq('AAU'), Seq('AAU'), Seq('AAU'), Seq('AAU'), Seq('AAU'), Seq('AAU'), Seq('AAU'), Seq('AAU'), Seq('AAU'), Seq('AAU'), Seq('AAU'), Seq('AAU'), Seq('AAU'), Seq('AAU'), Seq('AAU'), Seq('AAU'), Seq('AAU'), Seq('AAU'), Seq('AAU'), Seq('AAU'), Seq('AAU'), Seq('AAU'), Seq('AAU'), Seq('AAU'), Seq('AAU'), Seq('AAU'), Seq('AAU'), Seq('AAU'), Seq('AAU'), Seq('AAU'), Seq('AAU'), Seq('AAU'), Seq('AAU'), Seq('AAU'), Seq('AAU'), Seq('AAU'), Seq('AAU'), Seq('AAU'), Seq('AAU'), Seq('AAU'), Seq('AAU'), Seq('AAU'), Seq('AAU'), Seq('AAU'), Seq('AAU'), Seq('AAU'), Seq('AAU'), Seq('AAU'), Seq('AAU'), Seq('AAU'), Seq('AAU'), Seq('AAU'), Seq('AAU'), Seq('AAU'), Seq('AAU'), Seq('AAU'), Seq('AAU'), Seq('AAU'), Seq('AAU'), Seq('AAU'), Seq('AAU'), Seq('AAU'), Seq('AAU'), Seq('AAU'), Seq('AAU'), Seq('AAU'), Seq('AAU')]\n",
            "[]\n",
            "[]\n",
            "GHF*DSYGN*NPAQAGNE*PGDCQRTGDLPQYR*TLFAGKI*AAKIYAATCCCFTPG*IPGLYSSTHRRCSSLQNPGNGNRSRDQRPGISWRNDHSQGIHSFSLGSSGAGACRSVRN*TRTTDAG*LGHYA*WSLTASRVRCCSRIQPNAVHRIH*QYAL*HAGDLPS*CVPLLWWCAARSVV*QYENCGSAT*RISDRSAPVPSFAVAVRQGDGLLSPTVSPLQGTD*R*GGTDGAVHP*QFLHPTNDSPAPDGDHCRC*NSQPPRSALAARCR*PTKA*NNPGPSLRSLARRAAVHAGTASGEKRV*RAS**KSGELRQTPPASSTLHLRLILQRSGVN\n"
          ]
        }
      ]
    },
    {
      "cell_type": "markdown",
      "metadata": {
        "id": "ohK_HVab7XtO"
      },
      "source": [
        "# 10. Креирање на сопствени записи во fasta формат"
      ]
    },
    {
      "cell_type": "code",
      "metadata": {
        "id": "hrlM0bLR7X-E"
      },
      "source": [
        "from Bio.SeqRecord import SeqRecord\n",
        "\n",
        "zapis1 = SeqRecord(\n",
        "    Seq(\n",
        "        \"MMYQQGCFAGGTVLRLAKDLAENNRGARVLVVCSEITAVTFRGPSETHLDSMVGQALFGD\"\n",
        "        \"GAGAVIVGSDPDLSVERPLYELVWTGATLLPDSEGAIDGHLREVGLTFHLLKDVPGLISK\"\n",
        "        \"NIEKSLKEAFTPLGISDWNSTFWIAHPGGPAILDQVEAKLGLKEEKMRATREVLSEYGNM\"\n",
        "        \"SSAC\",\n",
        "    ),\n",
        "    id=\"gi|14150838|gb|AAK54648.1|AF376133_1\",\n",
        "    description=\"chalcone synthase [Cucumis sativus]\",\n",
        ")\n",
        "\n",
        "zapis2 = SeqRecord(\n",
        "    Seq(\n",
        "        \"YPDYYFRITNREHKAELKEKFQRMCDKSMIKKRYMYLTEEILKENPSMCEYMAPSLDARQ\"\n",
        "        \"DMVVVEIPKLGKEAAVKAIKEWGQ\",\n",
        "    ),\n",
        "    id=\"gi|13919613|gb|AAK33142.1|\",\n",
        "    description=\"chalcone synthase [Fragaria vesca subsp. bracteata]\",\n",
        ")\n",
        "\n",
        "zapis3 = SeqRecord(\n",
        "    Seq(\n",
        "        \"MVTVEEFRRAQCAEGPATVMAIGTATPSNCVDQSTYPDYYFRITNSEHKVELKEKFKRMC\"\n",
        "        \"EKSMIKKRYMHLTEEILKENPNICAYMAPSLDARQDIVVVEVPKLGKEAAQKAIKEWGQP\"\n",
        "        \"KSKITHLVFCTTSGVDMPGCDYQLTKLLGLRPSVKRFMMYQQGCFAGGTVLRMAKDLAEN\"\n",
        "        \"NKGARVLVVCSEITAVTFRGPNDTHLDSLVGQALFGDGAAAVIIGSDPIPEVERPLFELV\"\n",
        "        \"SAAQTLLPDSEGAIDGHLREVGLTFHLLKDVPGLISKNIEKSLVEAFQPLGISDWNSLFW\"\n",
        "        \"IAHPGGPAILDQVELKLGLKQEKLKATRKVLSNYGNMSSACVLFILDEMRKASAKEGLGT\"\n",
        "        \"TGEGLEWGVLFGFGPGLTVETVVLHSVAT\",\n",
        "    ),\n",
        "    id=\"gi|13925890|gb|AAK49457.1|\",\n",
        "    description=\"chalcone synthase [Nicotiana tabacum]\",\n",
        ")\n",
        "\n",
        "zapisi = [zapis1, zapis2, zapis3]"
      ],
      "execution_count": null,
      "outputs": []
    },
    {
      "cell_type": "code",
      "source": [
        "SeqIO.write(zapisi, \"My_record_in_fasta.faa\", \"fasta\")"
      ],
      "metadata": {
        "colab": {
          "base_uri": "https://localhost:8080/"
        },
        "id": "37cGPSn6dqOV",
        "outputId": "46a57da9-08d3-47e6-b57c-a40c5bd86eb8"
      },
      "execution_count": null,
      "outputs": [
        {
          "output_type": "execute_result",
          "data": {
            "text/plain": [
              "3"
            ]
          },
          "metadata": {},
          "execution_count": 66
        }
      ]
    },
    {
      "cell_type": "markdown",
      "metadata": {
        "id": "DGkHeGjc7YOB"
      },
      "source": [
        "## 11. Предвидување на структурата на  оперонот кај бактеријата Bacillus subtilis, употреба на методот на Логистичка регресија и Машини со Поддржувачки Вектори (SVM) дополнително и споредба на резултатите."
      ]
    },
    {
      "cell_type": "code",
      "source": [
        "from Bio import LogisticRegression"
      ],
      "metadata": {
        "id": "oYyZEui-UdFD"
      },
      "execution_count": null,
      "outputs": []
    },
    {
      "cell_type": "code",
      "metadata": {
        "id": "d8voOLMp7Ydl"
      },
      "source": [
        "def show_progress(iteration, loglikelihood):\n",
        "        print(\"Iteration:\", iteration, \"Log-likelihood function:\", loglikelihood)"
      ],
      "execution_count": null,
      "outputs": []
    },
    {
      "cell_type": "code",
      "source": [
        "xs = [[-53, -200.78], [117, -267.14], [57, -163.47], [16, -190.30], [11, -220.94], [85, -193.94], [16, -182.71], [15, -180.41],\n",
        "      [-26, -181.73], [58, -259.87], [126, -414.53], [191, -249.57], [113, -265.28], [145, -312.99], [154, -213.83],\n",
        "     [147, -380.85], [93, -291.13]]\n",
        "ys = [1, 1, 1, 1, 1, 1, 1, 1, 1, 1, 0, 0, 0, 0, 0, 0, 0]\n",
        "model = LogisticRegression.train(xs, ys, update_fn=show_progress)"
      ],
      "metadata": {
        "colab": {
          "base_uri": "https://localhost:8080/"
        },
        "id": "oSj02Bt_UiqB",
        "outputId": "9b7fe955-79fd-4ea9-a249-fa80f070b11d"
      },
      "execution_count": null,
      "outputs": [
        {
          "output_type": "stream",
          "name": "stdout",
          "text": [
            "Iteration: <built-in function iter> Log-likelihood function: -11.78350206951907\n",
            "Iteration: <built-in function iter> Log-likelihood function: -7.158867676721056\n",
            "Iteration: <built-in function iter> Log-likelihood function: -5.76877209867943\n",
            "Iteration: <built-in function iter> Log-likelihood function: -5.113622943382592\n",
            "Iteration: <built-in function iter> Log-likelihood function: -4.748706424325651\n",
            "Iteration: <built-in function iter> Log-likelihood function: -4.5002607714604785\n",
            "Iteration: <built-in function iter> Log-likelihood function: -4.311277737371034\n",
            "Iteration: <built-in function iter> Log-likelihood function: -4.160150433955946\n",
            "Iteration: <built-in function iter> Log-likelihood function: -4.035617197847365\n",
            "Iteration: <built-in function iter> Log-likelihood function: -3.93073282192017\n",
            "Iteration: <built-in function iter> Log-likelihood function: -3.8408766092914277\n",
            "Iteration: <built-in function iter> Log-likelihood function: -3.7628256060505034\n",
            "Iteration: <built-in function iter> Log-likelihood function: -3.6942502715443513\n",
            "Iteration: <built-in function iter> Log-likelihood function: -3.6334178601959204\n",
            "Iteration: <built-in function iter> Log-likelihood function: -3.5790085583661533\n",
            "Iteration: <built-in function iter> Log-likelihood function: -3.529996713864591\n",
            "Iteration: <built-in function iter> Log-likelihood function: -3.4855714516343355\n",
            "Iteration: <built-in function iter> Log-likelihood function: -3.4450820613931006\n",
            "Iteration: <built-in function iter> Log-likelihood function: -3.4079994844651087\n",
            "Iteration: <built-in function iter> Log-likelihood function: -3.373888562399737\n",
            "Iteration: <built-in function iter> Log-likelihood function: -3.34238765810203\n",
            "Iteration: <built-in function iter> Log-likelihood function: -3.3131934376911234\n",
            "Iteration: <built-in function iter> Log-likelihood function: -3.286049334600596\n",
            "Iteration: <built-in function iter> Log-likelihood function: -3.2607366863005263\n",
            "Iteration: <built-in function iter> Log-likelihood function: -3.2370678409148415\n",
            "Iteration: <built-in function iter> Log-likelihood function: -3.214880736138567\n",
            "Iteration: <built-in function iter> Log-likelihood function: -3.1940345925857243\n",
            "Iteration: <built-in function iter> Log-likelihood function: -3.1744064605163893\n",
            "Iteration: <built-in function iter> Log-likelihood function: -3.155888427031874\n",
            "Iteration: <built-in function iter> Log-likelihood function: -3.1383853394732353\n",
            "Iteration: <built-in function iter> Log-likelihood function: -3.12181293594603\n",
            "Iteration: <built-in function iter> Log-likelihood function: -3.10609629965671\n",
            "Iteration: <built-in function iter> Log-likelihood function: -3.0911685728203997\n",
            "Iteration: <built-in function iter> Log-likelihood function: -3.0769698801700422\n",
            "Iteration: <built-in function iter> Log-likelihood function: -3.0634464228770595\n",
            "Iteration: <built-in function iter> Log-likelihood function: -3.050549711911315\n",
            "Iteration: <built-in function iter> Log-likelihood function: -3.0382359161858665\n",
            "Iteration: <built-in function iter> Log-likelihood function: -3.0264653057277124\n",
            "Iteration: <built-in function iter> Log-likelihood function: -3.015201773938085\n",
            "Iteration: <built-in function iter> Log-likelihood function: -3.0044124260112413\n",
            "Iteration: <built-in function iter> Log-likelihood function: -2.9940672229595724\n",
            "Iteration: <built-in function iter> Log-likelihood function: -2.9841386725875942\n"
          ]
        }
      ]
    },
    {
      "cell_type": "code",
      "source": [
        "print(\"yxcE, yxcD:\", LogisticRegression.classify(model, [6, -173.143442352]))\n",
        "print(\"yxiB, yxiA:\", LogisticRegression.classify(model, [309, -271.005880394]))"
      ],
      "metadata": {
        "colab": {
          "base_uri": "https://localhost:8080/"
        },
        "id": "47OjLIW4Uqsc",
        "outputId": "efe8f4e0-2f71-4d6b-979d-7df13d167a6b"
      },
      "execution_count": null,
      "outputs": [
        {
          "output_type": "stream",
          "name": "stdout",
          "text": [
            "yxcE, yxcD: 1\n",
            "yxiB, yxiA: 0\n"
          ]
        }
      ]
    },
    {
      "cell_type": "code",
      "source": [
        "q, p = LogisticRegression.calculate(model, [6, -173.143442352])\n",
        "print(f'Likelihood p is {p}, while likelihood for q is {q}')\n",
        "q, p = LogisticRegression.calculate(model, [309, -271.005880394])\n",
        "print(f'Likelihood p is {p}, while likelihood for q is {q}')"
      ],
      "metadata": {
        "colab": {
          "base_uri": "https://localhost:8080/"
        },
        "id": "ijn9TpCwUt_Q",
        "outputId": "2e5e1579-ce7b-421b-823d-e973c6520390"
      },
      "execution_count": null,
      "outputs": [
        {
          "output_type": "stream",
          "name": "stdout",
          "text": [
            "Likelihood p is 0.9932421635025626, while likelihood for q is 0.006757836497437442\n",
            "Likelihood p is 0.00032121125181733257, while likelihood for q is 0.9996787887481827\n"
          ]
        }
      ]
    },
    {
      "cell_type": "code",
      "source": [
        "predicted = []\n",
        "for i in range(len(ys)):\n",
        "  prediction = LogisticRegression.classify(model, xs[i])\n",
        "  print(\"True:\", ys[i], \"Predicted:\", prediction)\n",
        "  predicted.append(prediction)"
      ],
      "metadata": {
        "colab": {
          "base_uri": "https://localhost:8080/"
        },
        "id": "GBHSWC1YUz9T",
        "outputId": "2ce66e50-ca06-47f8-925b-e71a50bee562"
      },
      "execution_count": null,
      "outputs": [
        {
          "output_type": "stream",
          "name": "stdout",
          "text": [
            "True: 1 Predicted: 1\n",
            "True: 1 Predicted: 0\n",
            "True: 1 Predicted: 1\n",
            "True: 1 Predicted: 1\n",
            "True: 1 Predicted: 1\n",
            "True: 1 Predicted: 1\n",
            "True: 1 Predicted: 1\n",
            "True: 1 Predicted: 1\n",
            "True: 1 Predicted: 1\n",
            "True: 1 Predicted: 1\n",
            "True: 0 Predicted: 0\n",
            "True: 0 Predicted: 0\n",
            "True: 0 Predicted: 0\n",
            "True: 0 Predicted: 0\n",
            "True: 0 Predicted: 0\n",
            "True: 0 Predicted: 0\n",
            "True: 0 Predicted: 0\n"
          ]
        }
      ]
    },
    {
      "cell_type": "code",
      "source": [
        "#Потребни за пресметка на точност и метрики за моделот  \n",
        "from sklearn.metrics import f1_score\n",
        "from sklearn.metrics import precision_score\n",
        "from sklearn.metrics import accuracy_score"
      ],
      "metadata": {
        "id": "ZrWMbK5xU3yv"
      },
      "execution_count": null,
      "outputs": []
    },
    {
      "cell_type": "code",
      "source": [
        "print(f'F1 на Линеарна Регресија: {f1_score(ys, predicted)}')\n",
        "print(f'Прецизност на Линеарна Регресија: {precision_score(ys, predicted)}')\n",
        "print(f'Точност на Линеарна Регресија: {accuracy_score(ys, predicted)}')"
      ],
      "metadata": {
        "colab": {
          "base_uri": "https://localhost:8080/"
        },
        "id": "s9wj5HCcVIFt",
        "outputId": "5da3d0ee-68f4-46aa-c93a-516c9e782574"
      },
      "execution_count": null,
      "outputs": [
        {
          "output_type": "stream",
          "name": "stdout",
          "text": [
            "F1 на Линеарна Регресија: 0.9473684210526316\n",
            "Прецизност на Линеарна Регресија: 1.0\n",
            "Точност на Линеарна Регресија: 0.9411764705882353\n"
          ]
        }
      ]
    },
    {
      "cell_type": "markdown",
      "source": [
        "Употреба на SVM"
      ],
      "metadata": {
        "id": "IWy9G1CpVg3u"
      }
    },
    {
      "cell_type": "code",
      "source": [
        "from sklearn.svm import SVC"
      ],
      "metadata": {
        "id": "MqSW0DWIXKkx"
      },
      "execution_count": null,
      "outputs": []
    },
    {
      "cell_type": "code",
      "source": [
        "xs = pd.DataFrame(xs, columns=['Intergene distance (x1)', 'Gene expression score (x2)'])\n",
        "xs\n",
        "ys = pd.Series(ys)\n",
        "ys"
      ],
      "metadata": {
        "colab": {
          "base_uri": "https://localhost:8080/"
        },
        "id": "QOzROfRPXOxa",
        "outputId": "bd446aab-8b19-4a14-82ca-e7c47c80c4a4"
      },
      "execution_count": null,
      "outputs": [
        {
          "output_type": "execute_result",
          "data": {
            "text/plain": [
              "0     1\n",
              "1     1\n",
              "2     1\n",
              "3     1\n",
              "4     1\n",
              "5     1\n",
              "6     1\n",
              "7     1\n",
              "8     1\n",
              "9     1\n",
              "10    0\n",
              "11    0\n",
              "12    0\n",
              "13    0\n",
              "14    0\n",
              "15    0\n",
              "16    0\n",
              "dtype: int64"
            ]
          },
          "metadata": {},
          "execution_count": 51
        }
      ]
    },
    {
      "cell_type": "code",
      "source": [
        "clf = SVC(kernel='linear', degree=1, verbose=True)\n",
        "clf.fit(xs, ys)"
      ],
      "metadata": {
        "colab": {
          "base_uri": "https://localhost:8080/"
        },
        "id": "p5XTp1gPXRln",
        "outputId": "dc509a8f-fe5b-4aea-e96b-d15e6512c4b8"
      },
      "execution_count": null,
      "outputs": [
        {
          "output_type": "stream",
          "name": "stdout",
          "text": [
            "[LibSVM]"
          ]
        },
        {
          "output_type": "execute_result",
          "data": {
            "text/plain": [
              "SVC(degree=1, kernel='linear', verbose=True)"
            ]
          },
          "metadata": {},
          "execution_count": 52
        }
      ]
    },
    {
      "cell_type": "code",
      "source": [
        "test_data = [[6, -173.143442352], [309, -271.005880394]]\n",
        "test_data = pd.DataFrame(test_data, columns=['Intergene distance (x1)', 'Gene expression score (x2)'])\n",
        "\n",
        "predictions = clf.predict(test_data)\n",
        "print('Предвидување yxcE, yxcD, yxiB, yxiA')\n",
        "for prediction in predictions:\n",
        "  print(prediction)"
      ],
      "metadata": {
        "colab": {
          "base_uri": "https://localhost:8080/"
        },
        "id": "vBig8YaOXUhV",
        "outputId": "88b077ec-37bc-4f0d-f0f9-27994f1e9b58"
      },
      "execution_count": null,
      "outputs": [
        {
          "output_type": "stream",
          "name": "stdout",
          "text": [
            "Предвидување yxcE, yxcD, yxiB, yxiA\n",
            "1\n",
            "0\n"
          ]
        }
      ]
    },
    {
      "cell_type": "code",
      "source": [
        "predictions = clf.predict(xs)\n",
        "\n",
        "print(f'F1 SVM: {f1_score(ys, predictions)}')\n",
        "print(f'Прецизност SVM: {precision_score(ys, predictions)}')\n",
        "print(f'Точност SVM: {accuracy_score(ys, predictions)}')"
      ],
      "metadata": {
        "colab": {
          "base_uri": "https://localhost:8080/"
        },
        "id": "lJGSmR0zXf7e",
        "outputId": "ac7d5ab0-873f-475f-b163-f688aa70e7ee"
      },
      "execution_count": null,
      "outputs": [
        {
          "output_type": "stream",
          "name": "stdout",
          "text": [
            "F1 SVM: 0.9473684210526316\n",
            "Прецизност SVM: 1.0\n",
            "Точност SVM: 0.9411764705882353\n"
          ]
        }
      ]
    },
    {
      "cell_type": "markdown",
      "source": [
        "Даваат и линеарна регресија и СВМ исти перформанси од истиот модел."
      ],
      "metadata": {
        "id": "17oxxdTxX0bh"
      }
    },
    {
      "cell_type": "markdown",
      "metadata": {
        "id": "qxxNuEy67Yr6"
      },
      "source": [
        "## 12. Програмирање со алгоритмот на Nussinov како функција во python која на влез ќе добива стринг од нуклеотиди, а на излез ќе ја дава нивната секундарна структура.\n",
        "\n",
        "\n",
        "\n",
        "> Влез нека биде следната tRNA молекула:\n",
        "\n",
        "\n",
        "\n",
        "ACCGCGGGGCGUCCGGCUCAGCUUGCCGCUGCGGAGC\n",
        "GCCGCAGUAGCCGAAACUUCCGGCUCGGGCCGUGGGC\n",
        "GGUCUCUAGUCGCCCCG"
      ]
    },
    {
      "cell_type": "code",
      "metadata": {
        "id": "jvgrXF7P7Y7S"
      },
      "source": [
        "def delta(base1, base2):\n",
        "  if base1 == 'G' and base2 == 'C':\n",
        "    return 1\n",
        "  elif base1 == 'C' and base2 == 'G':\n",
        "    return 1\n",
        "  elif base1 == 'A' and base2 == 'U':\n",
        "    return 1\n",
        "  elif base1 == 'U' and base2 == 'A':\n",
        "    return 1\n",
        "  else:\n",
        "    return 0\n",
        "\n",
        "\n",
        "def traceback(a, i, j, mRNA):\n",
        "  if i < j:\n",
        "    if a[i][j] == a[i+1][j]:\n",
        "      traceback(a, i+1, j)\n",
        "    elif a[i][j] == a[i][j-1]:\n",
        "      traceback(a, i, j-1)\n",
        "    elif a[i][j] == a[i+1][j-1] + delta(mRNA[i], mRNA[j]):\n",
        "      print(mRNA[i] + ' - ' + mRNA[j])\n",
        "      traceback(a, i+1, j-1, mRNA)\n",
        "    else:\n",
        "      for k in range(i+1, j):\n",
        "        if a[i][j] == a[i][k] + a[k+1][j]:\n",
        "          traceback(a, i, k, mRNA)\n",
        "          traceback(a, k+1, j, mRNA)\n",
        "          break\n",
        "  else:\n",
        "    return\n",
        "\n",
        "\n",
        "def find_max(a, i, j, mRNA):\n",
        "  max_list = []\n",
        "  max_list.append(a[i+1][j])\n",
        "  max_list.append(a[i][j-1])\n",
        "  max_list.append(a[i+1][j-1] + delta(mRNA[i], mRNA[j]))\n",
        "  sub_max_list = []\n",
        "  for k in range(i+1, j):\n",
        "    sub_max_list.append(a[i][k] + a[k+1][j])\n",
        "  max_list.append(sub_max_list.max())\n",
        "  return max_list.max()\n",
        "\n",
        "\n",
        "\n",
        "def Nussinov(mRNA):\n",
        "  # Inicijalizacija na matricata na site 0, za da bide polesno sobiranjeto.\n",
        "  a = [[0 for j in range(len(mRNA))] for i in range(len(mRNA))]\n",
        "  \n",
        "  for n in range(1, len(mRNA)):\n",
        "    for j in range(n, len(mRNA)):\n",
        "      i = j - n + 1\n",
        "      a[i][j] = find_max(a, i , j, mRNA)\n",
        "\n",
        "  print('Матрица после иницијализирње:')\n",
        "  print(a)\n",
        "\n",
        "  traceback(a, 0, len(mRNA), mRNA)\n",
        "\n"
      ],
      "execution_count": null,
      "outputs": []
    },
    {
      "cell_type": "code",
      "source": [
        "# Според дадена влезна низа\n",
        "mRNA = Seq('ACCGCGGGGCGUCCGGCUCAGCUUGCCGCUGCGGAGCGCCGCAGUAGCCGAAACUUCCGGCUCGGGCCGUGGGCGGUCUCUAGUCGCCCCG')\n",
        "\n",
        "Nussinov(mRNA)"
      ],
      "metadata": {
        "id": "602JWttdYUUA"
      },
      "execution_count": null,
      "outputs": []
    },
    {
      "cell_type": "markdown",
      "metadata": {
        "id": "j7NZHAqV-8aN"
      },
      "source": [
        "## 13. Можноста на biopython за одредување на секундарна структура "
      ]
    },
    {
      "cell_type": "code",
      "metadata": {
        "id": "2GCmr0V4_Eo4"
      },
      "source": [
        "model = structure[0]\n",
        "hse = HSExposure()\n",
        "\n",
        "# Calculate HSEalpha\n",
        "exp_ca = hse.calc_hs_exposure(model, option=\"CA3\")\n",
        "\n",
        "# Calculate HSEbeta\n",
        "exp_cb=hse.calc_hs_exposure(model, option=\"CB\")\n",
        "\n",
        "# Calculate classical coordination number\n",
        "exp_fs = hse.calc_fs_exposure(model)\n",
        "\n",
        "# Print HSEalpha for a residue\n",
        "print(exp_ca[some_residue])"
      ],
      "execution_count": null,
      "outputs": []
    }
  ]
}